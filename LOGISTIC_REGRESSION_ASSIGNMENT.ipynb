{
 "cells": [
  {
   "cell_type": "markdown",
   "metadata": {},
   "source": [
    "### 1. Data Understanding and Exploration\n",
    "\n",
    "Let's first import the required libraries and have a look at the dataset and understand the size, attribute names etc."
   ]
  },
  {
   "cell_type": "code",
   "execution_count": 1,
   "metadata": {},
   "outputs": [],
   "source": [
    "# Importing Pandas and NumPy\n",
    "import pandas as pd\n",
    "import numpy as np\n",
    "import matplotlib.pyplot as plt\n",
    "import seaborn as sns\n",
    "from sklearn.preprocessing import scale\n",
    "from sklearn.cluster import KMeans\n",
    "from sklearn.preprocessing import Imputer\n",
    "from sklearn.model_selection import train_test_split\n",
    "from sklearn.preprocessing import StandardScaler\n",
    "import statsmodels.api as sm\n",
    "from sklearn.linear_model import LogisticRegression\n",
    "from sklearn.feature_selection import RFE\n",
    "from sklearn import metrics\n",
    "# pd.set_option('display.max_colwidth', -1)\n",
    "# Check for the VIF values of the feature variables. \n",
    "from statsmodels.stats.outliers_influence import variance_inflation_factor\n",
    "\n",
    "# Suppressing Warnings\n",
    "import warnings\n",
    "warnings.filterwarnings('ignore')"
   ]
  },
  {
   "cell_type": "code",
   "execution_count": 2,
   "metadata": {},
   "outputs": [],
   "source": [
    "#### #### #### #### #### HELPER METHODS #### #### #### #### ####\n",
    "\n",
    "\n",
    "def df_null_percent(df):\n",
    "    print(\"---xxx---\"*10)\n",
    "    print(round(100*(leads_data.isnull().sum()/len(leads_data.index)), 2))\n",
    "    print(\"---xxx---\"*10)\n",
    "\n",
    "def df_info(df):\n",
    "    print(\"---xxx---\"*10)\n",
    "    print(df.info())\n",
    "    print(\"---xxx---\"*10)\n",
    "    \n",
    "    \n",
    "def get_unique_val_count(df, col_list):\n",
    "    for i in col_list:\n",
    "        print(\"\\n\")\n",
    "        print(df[i].value_counts())\n",
    "        print(\"---xxx---\"*10)\n",
    "\n",
    "\n",
    "# Map function\n",
    "def binary_map(x):\n",
    "    return x.map({'Yes': 1, \"No\": 0})\n",
    "\n",
    "\n",
    "#### #### #### #### #### HELPER METHODS END #### #### #### #### ####"
   ]
  },
  {
   "cell_type": "code",
   "execution_count": 3,
   "metadata": {},
   "outputs": [],
   "source": [
    "# Importing all datasets\n",
    "leads_data = pd.read_csv(\"./Leads.csv\")"
   ]
  },
  {
   "cell_type": "code",
   "execution_count": 4,
   "metadata": {},
   "outputs": [],
   "source": [
    "# Imputing all the select( Unselected ) to nan\n",
    "\n",
    "leads_data=leads_data.replace('select',np.nan)\n",
    "leads_data=leads_data.replace('Select',np.nan)"
   ]
  },
  {
   "cell_type": "code",
   "execution_count": 5,
   "metadata": {},
   "outputs": [
    {
     "name": "stdout",
     "output_type": "stream",
     "text": [
      "<class 'pandas.core.frame.DataFrame'>\n",
      "RangeIndex: 9240 entries, 0 to 9239\n",
      "Data columns (total 37 columns):\n",
      "Prospect ID                                      9240 non-null object\n",
      "Lead Number                                      9240 non-null int64\n",
      "Lead Origin                                      9240 non-null object\n",
      "Lead Source                                      9204 non-null object\n",
      "Do Not Email                                     9240 non-null object\n",
      "Do Not Call                                      9240 non-null object\n",
      "Converted                                        9240 non-null int64\n",
      "TotalVisits                                      9103 non-null float64\n",
      "Total Time Spent on Website                      9240 non-null int64\n",
      "Page Views Per Visit                             9103 non-null float64\n",
      "Last Activity                                    9137 non-null object\n",
      "Country                                          6779 non-null object\n",
      "Specialization                                   5860 non-null object\n",
      "How did you hear about X Education               1990 non-null object\n",
      "What is your current occupation                  6550 non-null object\n",
      "What matters most to you in choosing a course    6531 non-null object\n",
      "Search                                           9240 non-null object\n",
      "Magazine                                         9240 non-null object\n",
      "Newspaper Article                                9240 non-null object\n",
      "X Education Forums                               9240 non-null object\n",
      "Newspaper                                        9240 non-null object\n",
      "Digital Advertisement                            9240 non-null object\n",
      "Through Recommendations                          9240 non-null object\n",
      "Receive More Updates About Our Courses           9240 non-null object\n",
      "Tags                                             5887 non-null object\n",
      "Lead Quality                                     4473 non-null object\n",
      "Update me on Supply Chain Content                9240 non-null object\n",
      "Get updates on DM Content                        9240 non-null object\n",
      "Lead Profile                                     2385 non-null object\n",
      "City                                             5571 non-null object\n",
      "Asymmetrique Activity Index                      5022 non-null object\n",
      "Asymmetrique Profile Index                       5022 non-null object\n",
      "Asymmetrique Activity Score                      5022 non-null float64\n",
      "Asymmetrique Profile Score                       5022 non-null float64\n",
      "I agree to pay the amount through cheque         9240 non-null object\n",
      "A free copy of Mastering The Interview           9240 non-null object\n",
      "Last Notable Activity                            9240 non-null object\n",
      "dtypes: float64(4), int64(3), object(30)\n",
      "memory usage: 2.6+ MB\n"
     ]
    }
   ],
   "source": [
    "leads_data.info()"
   ]
  },
  {
   "cell_type": "code",
   "execution_count": 6,
   "metadata": {},
   "outputs": [
    {
     "data": {
      "text/html": [
       "<div>\n",
       "<style scoped>\n",
       "    .dataframe tbody tr th:only-of-type {\n",
       "        vertical-align: middle;\n",
       "    }\n",
       "\n",
       "    .dataframe tbody tr th {\n",
       "        vertical-align: top;\n",
       "    }\n",
       "\n",
       "    .dataframe thead th {\n",
       "        text-align: right;\n",
       "    }\n",
       "</style>\n",
       "<table border=\"1\" class=\"dataframe\">\n",
       "  <thead>\n",
       "    <tr style=\"text-align: right;\">\n",
       "      <th></th>\n",
       "      <th>Lead Number</th>\n",
       "      <th>Converted</th>\n",
       "      <th>TotalVisits</th>\n",
       "      <th>Total Time Spent on Website</th>\n",
       "      <th>Page Views Per Visit</th>\n",
       "      <th>Asymmetrique Activity Score</th>\n",
       "      <th>Asymmetrique Profile Score</th>\n",
       "    </tr>\n",
       "  </thead>\n",
       "  <tbody>\n",
       "    <tr>\n",
       "      <th>count</th>\n",
       "      <td>9240.000000</td>\n",
       "      <td>9240.000000</td>\n",
       "      <td>9103.000000</td>\n",
       "      <td>9240.000000</td>\n",
       "      <td>9103.000000</td>\n",
       "      <td>5022.000000</td>\n",
       "      <td>5022.000000</td>\n",
       "    </tr>\n",
       "    <tr>\n",
       "      <th>mean</th>\n",
       "      <td>617188.435606</td>\n",
       "      <td>0.385390</td>\n",
       "      <td>3.445238</td>\n",
       "      <td>487.698268</td>\n",
       "      <td>2.362820</td>\n",
       "      <td>14.306252</td>\n",
       "      <td>16.344883</td>\n",
       "    </tr>\n",
       "    <tr>\n",
       "      <th>std</th>\n",
       "      <td>23405.995698</td>\n",
       "      <td>0.486714</td>\n",
       "      <td>4.854853</td>\n",
       "      <td>548.021466</td>\n",
       "      <td>2.161418</td>\n",
       "      <td>1.386694</td>\n",
       "      <td>1.811395</td>\n",
       "    </tr>\n",
       "    <tr>\n",
       "      <th>min</th>\n",
       "      <td>579533.000000</td>\n",
       "      <td>0.000000</td>\n",
       "      <td>0.000000</td>\n",
       "      <td>0.000000</td>\n",
       "      <td>0.000000</td>\n",
       "      <td>7.000000</td>\n",
       "      <td>11.000000</td>\n",
       "    </tr>\n",
       "    <tr>\n",
       "      <th>25%</th>\n",
       "      <td>596484.500000</td>\n",
       "      <td>0.000000</td>\n",
       "      <td>1.000000</td>\n",
       "      <td>12.000000</td>\n",
       "      <td>1.000000</td>\n",
       "      <td>14.000000</td>\n",
       "      <td>15.000000</td>\n",
       "    </tr>\n",
       "    <tr>\n",
       "      <th>50%</th>\n",
       "      <td>615479.000000</td>\n",
       "      <td>0.000000</td>\n",
       "      <td>3.000000</td>\n",
       "      <td>248.000000</td>\n",
       "      <td>2.000000</td>\n",
       "      <td>14.000000</td>\n",
       "      <td>16.000000</td>\n",
       "    </tr>\n",
       "    <tr>\n",
       "      <th>75%</th>\n",
       "      <td>637387.250000</td>\n",
       "      <td>1.000000</td>\n",
       "      <td>5.000000</td>\n",
       "      <td>936.000000</td>\n",
       "      <td>3.000000</td>\n",
       "      <td>15.000000</td>\n",
       "      <td>18.000000</td>\n",
       "    </tr>\n",
       "    <tr>\n",
       "      <th>max</th>\n",
       "      <td>660737.000000</td>\n",
       "      <td>1.000000</td>\n",
       "      <td>251.000000</td>\n",
       "      <td>2272.000000</td>\n",
       "      <td>55.000000</td>\n",
       "      <td>18.000000</td>\n",
       "      <td>20.000000</td>\n",
       "    </tr>\n",
       "  </tbody>\n",
       "</table>\n",
       "</div>"
      ],
      "text/plain": [
       "         Lead Number    Converted  TotalVisits  Total Time Spent on Website  \\\n",
       "count    9240.000000  9240.000000  9103.000000                  9240.000000   \n",
       "mean   617188.435606     0.385390     3.445238                   487.698268   \n",
       "std     23405.995698     0.486714     4.854853                   548.021466   \n",
       "min    579533.000000     0.000000     0.000000                     0.000000   \n",
       "25%    596484.500000     0.000000     1.000000                    12.000000   \n",
       "50%    615479.000000     0.000000     3.000000                   248.000000   \n",
       "75%    637387.250000     1.000000     5.000000                   936.000000   \n",
       "max    660737.000000     1.000000   251.000000                  2272.000000   \n",
       "\n",
       "       Page Views Per Visit  Asymmetrique Activity Score  \\\n",
       "count           9103.000000                  5022.000000   \n",
       "mean               2.362820                    14.306252   \n",
       "std                2.161418                     1.386694   \n",
       "min                0.000000                     7.000000   \n",
       "25%                1.000000                    14.000000   \n",
       "50%                2.000000                    14.000000   \n",
       "75%                3.000000                    15.000000   \n",
       "max               55.000000                    18.000000   \n",
       "\n",
       "       Asymmetrique Profile Score  \n",
       "count                 5022.000000  \n",
       "mean                    16.344883  \n",
       "std                      1.811395  \n",
       "min                     11.000000  \n",
       "25%                     15.000000  \n",
       "50%                     16.000000  \n",
       "75%                     18.000000  \n",
       "max                     20.000000  "
      ]
     },
     "execution_count": 6,
     "metadata": {},
     "output_type": "execute_result"
    }
   ],
   "source": [
    "leads_data.describe()"
   ]
  },
  {
   "cell_type": "code",
   "execution_count": 7,
   "metadata": {},
   "outputs": [
    {
     "name": "stdout",
     "output_type": "stream",
     "text": [
      "---xxx------xxx------xxx------xxx------xxx------xxx------xxx------xxx------xxx------xxx---\n",
      "Prospect ID                                       0.00\n",
      "Lead Number                                       0.00\n",
      "Lead Origin                                       0.00\n",
      "Lead Source                                       0.39\n",
      "Do Not Email                                      0.00\n",
      "Do Not Call                                       0.00\n",
      "Converted                                         0.00\n",
      "TotalVisits                                       1.48\n",
      "Total Time Spent on Website                       0.00\n",
      "Page Views Per Visit                              1.48\n",
      "Last Activity                                     1.11\n",
      "Country                                          26.63\n",
      "Specialization                                   36.58\n",
      "How did you hear about X Education               78.46\n",
      "What is your current occupation                  29.11\n",
      "What matters most to you in choosing a course    29.32\n",
      "Search                                            0.00\n",
      "Magazine                                          0.00\n",
      "Newspaper Article                                 0.00\n",
      "X Education Forums                                0.00\n",
      "Newspaper                                         0.00\n",
      "Digital Advertisement                             0.00\n",
      "Through Recommendations                           0.00\n",
      "Receive More Updates About Our Courses            0.00\n",
      "Tags                                             36.29\n",
      "Lead Quality                                     51.59\n",
      "Update me on Supply Chain Content                 0.00\n",
      "Get updates on DM Content                         0.00\n",
      "Lead Profile                                     74.19\n",
      "City                                             39.71\n",
      "Asymmetrique Activity Index                      45.65\n",
      "Asymmetrique Profile Index                       45.65\n",
      "Asymmetrique Activity Score                      45.65\n",
      "Asymmetrique Profile Score                       45.65\n",
      "I agree to pay the amount through cheque          0.00\n",
      "A free copy of Mastering The Interview            0.00\n",
      "Last Notable Activity                             0.00\n",
      "dtype: float64\n",
      "---xxx------xxx------xxx------xxx------xxx------xxx------xxx------xxx------xxx------xxx---\n"
     ]
    }
   ],
   "source": [
    "# Checking the percentage of missing values\n",
    "df_null_percent(leads_data)"
   ]
  },
  {
   "cell_type": "markdown",
   "metadata": {},
   "source": [
    "## 2. Data Cleaning\n",
    "\n",
    "Let's now conduct some data cleaning steps. "
   ]
  },
  {
   "cell_type": "code",
   "execution_count": 8,
   "metadata": {},
   "outputs": [],
   "source": [
    "leads_data = leads_data[~np.isnan(leads_data['TotalVisits'])]\n",
    "leads_data = leads_data[~np.isnan(leads_data['Page Views Per Visit'])]"
   ]
  },
  {
   "cell_type": "code",
   "execution_count": 9,
   "metadata": {},
   "outputs": [
    {
     "name": "stdout",
     "output_type": "stream",
     "text": [
      "\n",
      "\n",
      "No     9089\n",
      "Yes      14\n",
      "Name: Search, dtype: int64\n",
      "---xxx------xxx------xxx------xxx------xxx------xxx------xxx------xxx------xxx------xxx---\n",
      "\n",
      "\n",
      "No    9103\n",
      "Name: Magazine, dtype: int64\n",
      "---xxx------xxx------xxx------xxx------xxx------xxx------xxx------xxx------xxx------xxx---\n",
      "\n",
      "\n",
      "No     9101\n",
      "Yes       2\n",
      "Name: Newspaper Article, dtype: int64\n",
      "---xxx------xxx------xxx------xxx------xxx------xxx------xxx------xxx------xxx------xxx---\n",
      "\n",
      "\n",
      "No     9102\n",
      "Yes       1\n",
      "Name: X Education Forums, dtype: int64\n",
      "---xxx------xxx------xxx------xxx------xxx------xxx------xxx------xxx------xxx------xxx---\n",
      "\n",
      "\n",
      "No     9102\n",
      "Yes       1\n",
      "Name: Newspaper, dtype: int64\n",
      "---xxx------xxx------xxx------xxx------xxx------xxx------xxx------xxx------xxx------xxx---\n",
      "\n",
      "\n",
      "No     9099\n",
      "Yes       4\n",
      "Name: Digital Advertisement, dtype: int64\n",
      "---xxx------xxx------xxx------xxx------xxx------xxx------xxx------xxx------xxx------xxx---\n",
      "\n",
      "\n",
      "No     9096\n",
      "Yes       7\n",
      "Name: Through Recommendations, dtype: int64\n",
      "---xxx------xxx------xxx------xxx------xxx------xxx------xxx------xxx------xxx------xxx---\n",
      "\n",
      "\n",
      "No    9103\n",
      "Name: Receive More Updates About Our Courses, dtype: int64\n",
      "---xxx------xxx------xxx------xxx------xxx------xxx------xxx------xxx------xxx------xxx---\n",
      "\n",
      "\n",
      "No    9103\n",
      "Name: I agree to pay the amount through cheque, dtype: int64\n",
      "---xxx------xxx------xxx------xxx------xxx------xxx------xxx------xxx------xxx------xxx---\n",
      "\n",
      "\n",
      "No     9101\n",
      "Yes       2\n",
      "Name: Do Not Call, dtype: int64\n",
      "---xxx------xxx------xxx------xxx------xxx------xxx------xxx------xxx------xxx------xxx---\n",
      "\n",
      "\n",
      "Better Career Prospects      6399\n",
      "Other                           1\n",
      "Flexibility & Convenience       1\n",
      "Name: What matters most to you in choosing a course, dtype: int64\n",
      "---xxx------xxx------xxx------xxx------xxx------xxx------xxx------xxx------xxx------xxx---\n"
     ]
    }
   ],
   "source": [
    "check_list = ['Search', 'Magazine', 'Newspaper Article', 'X Education Forums', 'Newspaper', 'Digital Advertisement',\n",
    "             'Through Recommendations', 'Receive More Updates About Our Courses',\n",
    "             'I agree to pay the amount through cheque',\n",
    "             'Do Not Call', 'What matters most to you in choosing a course'\n",
    "             ]\n",
    "get_unique_val_count(leads_data, check_list)"
   ]
  },
  {
   "cell_type": "code",
   "execution_count": 10,
   "metadata": {},
   "outputs": [],
   "source": [
    "# As these values are heavily skewed towards one side we drop them,\n",
    "# They do not add any value to the dataset.\n",
    "\n",
    "# Or cases like Prospect ID and Lead Number, they are just identifiers.\n",
    "\n",
    "leads_data = leads_data.drop(['Magazine',\n",
    "                              'Newspaper Article','X Education Forums','Newspaper',\n",
    "                              'Digital Advertisement', 'Through Recommendations', \n",
    "                              'Receive More Updates About Our Courses',\n",
    "                              'Prospect ID', 'Lead Number', 'Do Not Call','I agree to pay the amount through cheque',\n",
    "                              'What matters most to you in choosing a course'\n",
    "                             ], axis=1)"
   ]
  },
  {
   "cell_type": "code",
   "execution_count": 11,
   "metadata": {},
   "outputs": [],
   "source": [
    "# Dropping columns with more than 45% null makes sense as imputing\n",
    "# in any way would add the risk of inadvertently changing it's distribution\n",
    "\n",
    "leads_data = leads_data.drop([ 'Asymmetrique Activity Index',\n",
    "                              'Asymmetrique Profile Index',\n",
    "                              'Asymmetrique Activity Score',\n",
    "                              'Asymmetrique Profile Score',\n",
    "                              'How did you hear about X Education',\n",
    "                              'Lead Profile'\n",
    "                             ], axis=1)"
   ]
  },
  {
   "cell_type": "code",
   "execution_count": 12,
   "metadata": {},
   "outputs": [
    {
     "data": {
      "text/plain": [
       "India                   6492\n",
       "United States             69\n",
       "United Arab Emirates      53\n",
       "Singapore                 24\n",
       "Saudi Arabia              21\n",
       "United Kingdom            15\n",
       "Australia                 13\n",
       "Qatar                     10\n",
       "Bahrain                    7\n",
       "Hong Kong                  7\n",
       "France                     6\n",
       "Oman                       6\n",
       "unknown                    5\n",
       "Canada                     4\n",
       "Germany                    4\n",
       "South Africa               4\n",
       "Nigeria                    4\n",
       "Kuwait                     4\n",
       "Sweden                     3\n",
       "Uganda                     2\n",
       "Bangladesh                 2\n",
       "Asia/Pacific Region        2\n",
       "Ghana                      2\n",
       "Netherlands                2\n",
       "Philippines                2\n",
       "Belgium                    2\n",
       "China                      2\n",
       "Italy                      2\n",
       "Kenya                      1\n",
       "Vietnam                    1\n",
       "Indonesia                  1\n",
       "Russia                     1\n",
       "Switzerland                1\n",
       "Liberia                    1\n",
       "Malaysia                   1\n",
       "Tanzania                   1\n",
       "Sri Lanka                  1\n",
       "Denmark                    1\n",
       "Name: Country, dtype: int64"
      ]
     },
     "execution_count": 12,
     "metadata": {},
     "output_type": "execute_result"
    }
   ],
   "source": [
    "leads_data['Country'].value_counts()"
   ]
  },
  {
   "cell_type": "code",
   "execution_count": 13,
   "metadata": {},
   "outputs": [],
   "source": [
    "# As the value of country is heavily towards India we impute all null the values to India\n",
    "# This would not change the distribution of the data.\n",
    "\n",
    "leads_data['Country'].fillna(value=leads_data['Country'].value_counts().index[0],inplace =True)"
   ]
  },
  {
   "cell_type": "code",
   "execution_count": 14,
   "metadata": {},
   "outputs": [
    {
     "name": "stdout",
     "output_type": "stream",
     "text": [
      "---xxx------xxx------xxx------xxx------xxx------xxx------xxx------xxx------xxx------xxx---\n",
      "Lead Origin                                0.00\n",
      "Lead Source                                0.32\n",
      "Do Not Email                               0.00\n",
      "Converted                                  0.00\n",
      "TotalVisits                                0.00\n",
      "Total Time Spent on Website                0.00\n",
      "Page Views Per Visit                       0.00\n",
      "Last Activity                              0.00\n",
      "Country                                    0.00\n",
      "Specialization                            36.30\n",
      "What is your current occupation           29.47\n",
      "Search                                     0.00\n",
      "Tags                                      36.61\n",
      "Lead Quality                              51.95\n",
      "Update me on Supply Chain Content          0.00\n",
      "Get updates on DM Content                  0.00\n",
      "City                                      39.55\n",
      "A free copy of Mastering The Interview     0.00\n",
      "Last Notable Activity                      0.00\n",
      "dtype: float64\n",
      "---xxx------xxx------xxx------xxx------xxx------xxx------xxx------xxx------xxx------xxx---\n"
     ]
    }
   ],
   "source": [
    "df_null_percent(leads_data)"
   ]
  },
  {
   "cell_type": "code",
   "execution_count": 15,
   "metadata": {},
   "outputs": [],
   "source": [
    "# As city value is not required for the analysis process we can drop it.\n",
    "\n",
    "leads_data = leads_data.drop(['City'], axis = 1)"
   ]
  },
  {
   "cell_type": "code",
   "execution_count": 16,
   "metadata": {},
   "outputs": [],
   "source": [
    "# get_unique_val_count(leads_data, ['Tags', 'What is your current occupation'])"
   ]
  },
  {
   "cell_type": "code",
   "execution_count": 17,
   "metadata": {},
   "outputs": [],
   "source": [
    "# List of variables to map\n",
    "\n",
    "varlist =  ['Do Not Email', 'Search', 'Update me on Supply Chain Content', 'Get updates on DM Content',\n",
    "            'A free copy of Mastering The Interview']\n",
    "\n",
    "leads_data[varlist] = leads_data[varlist].apply(binary_map)"
   ]
  },
  {
   "cell_type": "code",
   "execution_count": 18,
   "metadata": {},
   "outputs": [],
   "source": [
    "# Removing NaN of Lead Source rows\n",
    "\n",
    "leads_data = leads_data.dropna(axis=0, subset=['Lead Source'])"
   ]
  },
  {
   "cell_type": "code",
   "execution_count": 19,
   "metadata": {},
   "outputs": [
    {
     "name": "stdout",
     "output_type": "stream",
     "text": [
      "---xxx------xxx------xxx------xxx------xxx------xxx------xxx------xxx------xxx------xxx---\n",
      "Lead Origin                                0.00\n",
      "Lead Source                                0.00\n",
      "Do Not Email                               0.00\n",
      "Converted                                  0.00\n",
      "TotalVisits                                0.00\n",
      "Total Time Spent on Website                0.00\n",
      "Page Views Per Visit                       0.00\n",
      "Last Activity                              0.00\n",
      "Country                                    0.00\n",
      "Specialization                            36.17\n",
      "What is your current occupation           29.57\n",
      "Search                                     0.00\n",
      "Tags                                      36.67\n",
      "Lead Quality                              52.02\n",
      "Update me on Supply Chain Content          0.00\n",
      "Get updates on DM Content                  0.00\n",
      "A free copy of Mastering The Interview     0.00\n",
      "Last Notable Activity                      0.00\n",
      "dtype: float64\n",
      "---xxx------xxx------xxx------xxx------xxx------xxx------xxx------xxx------xxx------xxx---\n"
     ]
    }
   ],
   "source": [
    "df_null_percent(leads_data)"
   ]
  },
  {
   "cell_type": "code",
   "execution_count": 20,
   "metadata": {},
   "outputs": [
    {
     "name": "stdout",
     "output_type": "stream",
     "text": [
      "\n",
      "\n",
      "Finance Management                   959\n",
      "Human Resource Management            837\n",
      "Marketing Management                 823\n",
      "Operations Management                499\n",
      "Business Administration              399\n",
      "IT Projects Management               366\n",
      "Supply Chain Management              346\n",
      "Banking, Investment And Insurance    335\n",
      "Media and Advertising                202\n",
      "Travel and Tourism                   202\n",
      "International Business               176\n",
      "Healthcare Management                156\n",
      "Hospitality Management               111\n",
      "E-COMMERCE                           111\n",
      "Retail Management                    100\n",
      "Rural and Agribusiness                73\n",
      "E-Business                            57\n",
      "Services Excellence                   40\n",
      "Name: Specialization, dtype: int64\n",
      "---xxx------xxx------xxx------xxx------xxx------xxx------xxx------xxx------xxx------xxx---\n",
      "\n",
      "\n",
      "Unemployed              5476\n",
      "Working Professional     677\n",
      "Student                  206\n",
      "Other                     15\n",
      "Housewife                  9\n",
      "Businessman                8\n",
      "Name: What is your current occupation, dtype: int64\n",
      "---xxx------xxx------xxx------xxx------xxx------xxx------xxx------xxx------xxx------xxx---\n",
      "\n",
      "\n",
      "Might be             1519\n",
      "Not Sure             1086\n",
      "Worst                 601\n",
      "High in Relevance     592\n",
      "Low in Relevance      556\n",
      "Name: Lead Quality, dtype: int64\n",
      "---xxx------xxx------xxx------xxx------xxx------xxx------xxx------xxx------xxx------xxx---\n"
     ]
    }
   ],
   "source": [
    "check_list = ['Specialization',\n",
    "              'What is your current occupation',\n",
    "              'Lead Quality'\n",
    "             ]\n",
    "get_unique_val_count(leads_data, check_list)"
   ]
  },
  {
   "cell_type": "code",
   "execution_count": 21,
   "metadata": {},
   "outputs": [],
   "source": [
    "# As Lead Quality are subjective to the employer, we will remove them. This will create an objective dataset\n",
    "\n",
    "leads_data = leads_data.drop(['Lead Quality', 'Tags', 'What is your current occupation'], axis = 1)"
   ]
  },
  {
   "cell_type": "code",
   "execution_count": 22,
   "metadata": {},
   "outputs": [],
   "source": [
    "leads_data['Specialization'].fillna(value=\"Others\",inplace =True)\n",
    "# leads_data['What is your current occupation'].fillna(value=\"Not Defined\",inplace =True)"
   ]
  },
  {
   "cell_type": "code",
   "execution_count": 23,
   "metadata": {},
   "outputs": [
    {
     "name": "stdout",
     "output_type": "stream",
     "text": [
      "---xxx------xxx------xxx------xxx------xxx------xxx------xxx------xxx------xxx------xxx---\n",
      "Lead Origin                               0.0\n",
      "Lead Source                               0.0\n",
      "Do Not Email                              0.0\n",
      "Converted                                 0.0\n",
      "TotalVisits                               0.0\n",
      "Total Time Spent on Website               0.0\n",
      "Page Views Per Visit                      0.0\n",
      "Last Activity                             0.0\n",
      "Country                                   0.0\n",
      "Specialization                            0.0\n",
      "Search                                    0.0\n",
      "Update me on Supply Chain Content         0.0\n",
      "Get updates on DM Content                 0.0\n",
      "A free copy of Mastering The Interview    0.0\n",
      "Last Notable Activity                     0.0\n",
      "dtype: float64\n",
      "---xxx------xxx------xxx------xxx------xxx------xxx------xxx------xxx------xxx------xxx---\n"
     ]
    }
   ],
   "source": [
    "df_null_percent(leads_data)"
   ]
  },
  {
   "cell_type": "code",
   "execution_count": 24,
   "metadata": {},
   "outputs": [
    {
     "name": "stdout",
     "output_type": "stream",
     "text": [
      "\n",
      "\n",
      "Landing Page Submission    4885\n",
      "API                        3578\n",
      "Lead Add Form               581\n",
      "Lead Import                  30\n",
      "Name: Lead Origin, dtype: int64\n",
      "---xxx------xxx------xxx------xxx------xxx------xxx------xxx------xxx------xxx------xxx---\n",
      "\n",
      "\n",
      "Google               2868\n",
      "Direct Traffic       2543\n",
      "Olark Chat           1753\n",
      "Organic Search       1154\n",
      "Reference             443\n",
      "Welingak Website      129\n",
      "Referral Sites        125\n",
      "Facebook               31\n",
      "bing                    6\n",
      "google                  5\n",
      "Click2call              4\n",
      "Press_Release           2\n",
      "Social Media            2\n",
      "Live Chat               2\n",
      "Pay per Click Ads       1\n",
      "blog                    1\n",
      "youtubechannel          1\n",
      "welearnblog_Home        1\n",
      "NC_EDM                  1\n",
      "testone                 1\n",
      "WeLearn                 1\n",
      "Name: Lead Source, dtype: int64\n",
      "---xxx------xxx------xxx------xxx------xxx------xxx------xxx------xxx------xxx------xxx---\n",
      "\n",
      "\n",
      "0    8358\n",
      "1     716\n",
      "Name: Do Not Email, dtype: int64\n",
      "---xxx------xxx------xxx------xxx------xxx------xxx------xxx------xxx------xxx------xxx---\n",
      "\n",
      "\n",
      "0    9060\n",
      "1      14\n",
      "Name: Search, dtype: int64\n",
      "---xxx------xxx------xxx------xxx------xxx------xxx------xxx------xxx------xxx------xxx---\n",
      "\n",
      "\n",
      "0    9074\n",
      "Name: Update me on Supply Chain Content, dtype: int64\n",
      "---xxx------xxx------xxx------xxx------xxx------xxx------xxx------xxx------xxx------xxx---\n",
      "\n",
      "\n",
      "0    9074\n",
      "Name: Get updates on DM Content, dtype: int64\n",
      "---xxx------xxx------xxx------xxx------xxx------xxx------xxx------xxx------xxx------xxx---\n",
      "\n",
      "\n",
      "0    6186\n",
      "1    2888\n",
      "Name: A free copy of Mastering The Interview, dtype: int64\n",
      "---xxx------xxx------xxx------xxx------xxx------xxx------xxx------xxx------xxx------xxx---\n",
      "\n",
      "\n",
      "Modified                        3267\n",
      "Email Opened                    2823\n",
      "SMS Sent                        2152\n",
      "Page Visited on Website          318\n",
      "Olark Chat Conversation          183\n",
      "Email Link Clicked               173\n",
      "Email Bounced                     60\n",
      "Unsubscribed                      45\n",
      "Unreachable                       32\n",
      "Had a Phone Conversation          14\n",
      "Email Marked Spam                  2\n",
      "Approached upfront                 1\n",
      "Form Submitted on Website          1\n",
      "View in browser link Clicked       1\n",
      "Email Received                     1\n",
      "Resubscribed to emails             1\n",
      "Name: Last Notable Activity, dtype: int64\n",
      "---xxx------xxx------xxx------xxx------xxx------xxx------xxx------xxx------xxx------xxx---\n"
     ]
    }
   ],
   "source": [
    "check_list = [\n",
    "              'Lead Origin','Lead Source',\n",
    "              'Do Not Email','Search',\n",
    "              'Update me on Supply Chain Content',\n",
    "              'Get updates on DM Content',\n",
    "              'A free copy of Mastering The Interview',\n",
    "              'Last Notable Activity'\n",
    "            ]\n",
    "get_unique_val_count(leads_data, check_list)"
   ]
  },
  {
   "cell_type": "code",
   "execution_count": 25,
   "metadata": {},
   "outputs": [],
   "source": [
    "leads_data = leads_data.drop(['Do Not Email', 'Search', \n",
    "                              'Update me on Supply Chain Content',\n",
    "                             'Get updates on DM Content', 'Country'], axis = 1)"
   ]
  },
  {
   "cell_type": "code",
   "execution_count": 26,
   "metadata": {},
   "outputs": [
    {
     "name": "stdout",
     "output_type": "stream",
     "text": [
      "---xxx------xxx------xxx------xxx------xxx------xxx------xxx------xxx------xxx------xxx---\n",
      "Lead Origin                               0.0\n",
      "Lead Source                               0.0\n",
      "Converted                                 0.0\n",
      "TotalVisits                               0.0\n",
      "Total Time Spent on Website               0.0\n",
      "Page Views Per Visit                      0.0\n",
      "Last Activity                             0.0\n",
      "Specialization                            0.0\n",
      "A free copy of Mastering The Interview    0.0\n",
      "Last Notable Activity                     0.0\n",
      "dtype: float64\n",
      "---xxx------xxx------xxx------xxx------xxx------xxx------xxx------xxx------xxx------xxx---\n"
     ]
    }
   ],
   "source": [
    "df_null_percent(leads_data)"
   ]
  },
  {
   "cell_type": "markdown",
   "metadata": {},
   "source": [
    "#### Checking for Outliers"
   ]
  },
  {
   "cell_type": "code",
   "execution_count": 27,
   "metadata": {},
   "outputs": [
    {
     "data": {
      "text/html": [
       "<div>\n",
       "<style scoped>\n",
       "    .dataframe tbody tr th:only-of-type {\n",
       "        vertical-align: middle;\n",
       "    }\n",
       "\n",
       "    .dataframe tbody tr th {\n",
       "        vertical-align: top;\n",
       "    }\n",
       "\n",
       "    .dataframe thead th {\n",
       "        text-align: right;\n",
       "    }\n",
       "</style>\n",
       "<table border=\"1\" class=\"dataframe\">\n",
       "  <thead>\n",
       "    <tr style=\"text-align: right;\">\n",
       "      <th></th>\n",
       "      <th>TotalVisits</th>\n",
       "      <th>Total Time Spent on Website</th>\n",
       "      <th>Page Views Per Visit</th>\n",
       "    </tr>\n",
       "  </thead>\n",
       "  <tbody>\n",
       "    <tr>\n",
       "      <th>count</th>\n",
       "      <td>9074.000000</td>\n",
       "      <td>9074.000000</td>\n",
       "      <td>9074.000000</td>\n",
       "    </tr>\n",
       "    <tr>\n",
       "      <th>mean</th>\n",
       "      <td>3.456028</td>\n",
       "      <td>482.887481</td>\n",
       "      <td>2.370151</td>\n",
       "    </tr>\n",
       "    <tr>\n",
       "      <th>std</th>\n",
       "      <td>4.858802</td>\n",
       "      <td>545.256560</td>\n",
       "      <td>2.160871</td>\n",
       "    </tr>\n",
       "    <tr>\n",
       "      <th>min</th>\n",
       "      <td>0.000000</td>\n",
       "      <td>0.000000</td>\n",
       "      <td>0.000000</td>\n",
       "    </tr>\n",
       "    <tr>\n",
       "      <th>25%</th>\n",
       "      <td>1.000000</td>\n",
       "      <td>11.000000</td>\n",
       "      <td>1.000000</td>\n",
       "    </tr>\n",
       "    <tr>\n",
       "      <th>50%</th>\n",
       "      <td>3.000000</td>\n",
       "      <td>246.000000</td>\n",
       "      <td>2.000000</td>\n",
       "    </tr>\n",
       "    <tr>\n",
       "      <th>75%</th>\n",
       "      <td>5.000000</td>\n",
       "      <td>922.750000</td>\n",
       "      <td>3.200000</td>\n",
       "    </tr>\n",
       "    <tr>\n",
       "      <th>90%</th>\n",
       "      <td>7.000000</td>\n",
       "      <td>1373.000000</td>\n",
       "      <td>5.000000</td>\n",
       "    </tr>\n",
       "    <tr>\n",
       "      <th>95%</th>\n",
       "      <td>10.000000</td>\n",
       "      <td>1557.000000</td>\n",
       "      <td>6.000000</td>\n",
       "    </tr>\n",
       "    <tr>\n",
       "      <th>99%</th>\n",
       "      <td>17.000000</td>\n",
       "      <td>1839.000000</td>\n",
       "      <td>9.000000</td>\n",
       "    </tr>\n",
       "    <tr>\n",
       "      <th>max</th>\n",
       "      <td>251.000000</td>\n",
       "      <td>2272.000000</td>\n",
       "      <td>55.000000</td>\n",
       "    </tr>\n",
       "  </tbody>\n",
       "</table>\n",
       "</div>"
      ],
      "text/plain": [
       "       TotalVisits  Total Time Spent on Website  Page Views Per Visit\n",
       "count  9074.000000                  9074.000000           9074.000000\n",
       "mean      3.456028                   482.887481              2.370151\n",
       "std       4.858802                   545.256560              2.160871\n",
       "min       0.000000                     0.000000              0.000000\n",
       "25%       1.000000                    11.000000              1.000000\n",
       "50%       3.000000                   246.000000              2.000000\n",
       "75%       5.000000                   922.750000              3.200000\n",
       "90%       7.000000                  1373.000000              5.000000\n",
       "95%      10.000000                  1557.000000              6.000000\n",
       "99%      17.000000                  1839.000000              9.000000\n",
       "max     251.000000                  2272.000000             55.000000"
      ]
     },
     "execution_count": 27,
     "metadata": {},
     "output_type": "execute_result"
    }
   ],
   "source": [
    "# Checking for outliers in the continuous variables\n",
    "num_analysis = leads_data[['TotalVisits','Total Time Spent on Website',\n",
    "                           'Page Views Per Visit']]\n",
    "# Checking outliers at 25%, 50%, 75%, 90%, 95% and 99%\n",
    "num_analysis.describe(percentiles=[.25, .5, .75, .90, .95, .99])"
   ]
  },
  {
   "cell_type": "code",
   "execution_count": 28,
   "metadata": {},
   "outputs": [
    {
     "data": {
      "text/plain": [
       "<matplotlib.axes._subplots.AxesSubplot at 0x1c1d972358>"
      ]
     },
     "execution_count": 28,
     "metadata": {},
     "output_type": "execute_result"
    },
    {
     "data": {
      "image/png": "[encoded data removed]",
      "text/plain": [
       "<Figure size 432x288 with 1 Axes>"
      ]
     },
     "metadata": {
      "needs_background": "light"
     },
     "output_type": "display_data"
    }
   ],
   "source": [
    "### There are some heavy outliers in the dataset\n",
    "\n",
    "num_analysis.boxplot()"
   ]
  },
  {
   "cell_type": "code",
   "execution_count": 29,
   "metadata": {},
   "outputs": [],
   "source": [
    "# outlier treatment for TotalVisits\n",
    "temp = 'TotalVisits'\n",
    "Q1 = leads_data[temp].quantile(0.05)\n",
    "Q3 = leads_data[temp].quantile(0.95)\n",
    "IQR = Q3 - Q1\n",
    "leads_data = leads_data[(leads_data[temp] >= Q1 - 1.5*IQR) & (leads_data[temp] <= Q3 + 1.5*IQR)]\n",
    "\n",
    "# outlier treatment for Total Time Spent on Website\n",
    "temp = 'Total Time Spent on Website'\n",
    "Q1 = leads_data[temp].quantile(0.05)\n",
    "Q3 = leads_data[temp].quantile(0.95)\n",
    "IQR = Q3 - Q1\n",
    "leads_data = leads_data[(leads_data[temp] >= Q1 - 1.5*IQR) & (leads_data[temp] <= Q3 + 1.5*IQR)]\n",
    "\n",
    "# outlier treatment for Page Views Per Visit\n",
    "temp = 'Page Views Per Visit'\n",
    "Q1 = leads_data[temp].quantile(0.05)\n",
    "Q3 = leads_data[temp].quantile(0.95)\n",
    "IQR = Q3 - Q1\n",
    "leads_data = leads_data[(leads_data[temp] >= Q1 - 1.5*IQR) & (leads_data[temp] <= Q3 + 1.5*IQR)]\n"
   ]
  },
  {
   "cell_type": "code",
   "execution_count": 30,
   "metadata": {},
   "outputs": [
    {
     "data": {
      "text/html": [
       "<div>\n",
       "<style scoped>\n",
       "    .dataframe tbody tr th:only-of-type {\n",
       "        vertical-align: middle;\n",
       "    }\n",
       "\n",
       "    .dataframe tbody tr th {\n",
       "        vertical-align: top;\n",
       "    }\n",
       "\n",
       "    .dataframe thead th {\n",
       "        text-align: right;\n",
       "    }\n",
       "</style>\n",
       "<table border=\"1\" class=\"dataframe\">\n",
       "  <thead>\n",
       "    <tr style=\"text-align: right;\">\n",
       "      <th></th>\n",
       "      <th>TotalVisits</th>\n",
       "      <th>Total Time Spent on Website</th>\n",
       "      <th>Page Views Per Visit</th>\n",
       "      <th>A free copy of Mastering The Interview</th>\n",
       "    </tr>\n",
       "  </thead>\n",
       "  <tbody>\n",
       "    <tr>\n",
       "      <th>count</th>\n",
       "      <td>9048.000000</td>\n",
       "      <td>9048.000000</td>\n",
       "      <td>9048.000000</td>\n",
       "      <td>9048.000000</td>\n",
       "    </tr>\n",
       "    <tr>\n",
       "      <th>mean</th>\n",
       "      <td>3.327697</td>\n",
       "      <td>482.994584</td>\n",
       "      <td>2.350491</td>\n",
       "      <td>0.317750</td>\n",
       "    </tr>\n",
       "    <tr>\n",
       "      <th>std</th>\n",
       "      <td>3.292078</td>\n",
       "      <td>545.531995</td>\n",
       "      <td>2.051093</td>\n",
       "      <td>0.465627</td>\n",
       "    </tr>\n",
       "    <tr>\n",
       "      <th>min</th>\n",
       "      <td>0.000000</td>\n",
       "      <td>0.000000</td>\n",
       "      <td>0.000000</td>\n",
       "      <td>0.000000</td>\n",
       "    </tr>\n",
       "    <tr>\n",
       "      <th>25%</th>\n",
       "      <td>1.000000</td>\n",
       "      <td>10.000000</td>\n",
       "      <td>1.000000</td>\n",
       "      <td>0.000000</td>\n",
       "    </tr>\n",
       "    <tr>\n",
       "      <th>50%</th>\n",
       "      <td>3.000000</td>\n",
       "      <td>246.000000</td>\n",
       "      <td>2.000000</td>\n",
       "      <td>0.000000</td>\n",
       "    </tr>\n",
       "    <tr>\n",
       "      <th>75%</th>\n",
       "      <td>5.000000</td>\n",
       "      <td>924.000000</td>\n",
       "      <td>3.000000</td>\n",
       "      <td>1.000000</td>\n",
       "    </tr>\n",
       "    <tr>\n",
       "      <th>90%</th>\n",
       "      <td>7.000000</td>\n",
       "      <td>1374.300000</td>\n",
       "      <td>5.000000</td>\n",
       "      <td>1.000000</td>\n",
       "    </tr>\n",
       "    <tr>\n",
       "      <th>95%</th>\n",
       "      <td>9.000000</td>\n",
       "      <td>1557.000000</td>\n",
       "      <td>6.000000</td>\n",
       "      <td>1.000000</td>\n",
       "    </tr>\n",
       "    <tr>\n",
       "      <th>99%</th>\n",
       "      <td>16.000000</td>\n",
       "      <td>1839.000000</td>\n",
       "      <td>9.000000</td>\n",
       "      <td>1.000000</td>\n",
       "    </tr>\n",
       "    <tr>\n",
       "      <th>max</th>\n",
       "      <td>25.000000</td>\n",
       "      <td>2272.000000</td>\n",
       "      <td>15.000000</td>\n",
       "      <td>1.000000</td>\n",
       "    </tr>\n",
       "  </tbody>\n",
       "</table>\n",
       "</div>"
      ],
      "text/plain": [
       "       TotalVisits  Total Time Spent on Website  Page Views Per Visit  \\\n",
       "count  9048.000000                  9048.000000           9048.000000   \n",
       "mean      3.327697                   482.994584              2.350491   \n",
       "std       3.292078                   545.531995              2.051093   \n",
       "min       0.000000                     0.000000              0.000000   \n",
       "25%       1.000000                    10.000000              1.000000   \n",
       "50%       3.000000                   246.000000              2.000000   \n",
       "75%       5.000000                   924.000000              3.000000   \n",
       "90%       7.000000                  1374.300000              5.000000   \n",
       "95%       9.000000                  1557.000000              6.000000   \n",
       "99%      16.000000                  1839.000000              9.000000   \n",
       "max      25.000000                  2272.000000             15.000000   \n",
       "\n",
       "       A free copy of Mastering The Interview  \n",
       "count                             9048.000000  \n",
       "mean                                 0.317750  \n",
       "std                                  0.465627  \n",
       "min                                  0.000000  \n",
       "25%                                  0.000000  \n",
       "50%                                  0.000000  \n",
       "75%                                  1.000000  \n",
       "90%                                  1.000000  \n",
       "95%                                  1.000000  \n",
       "99%                                  1.000000  \n",
       "max                                  1.000000  "
      ]
     },
     "execution_count": 30,
     "metadata": {},
     "output_type": "execute_result"
    }
   ],
   "source": [
    "# Checking for outliers in the continuous variables\n",
    "num_analysis = leads_data[['TotalVisits','Total Time Spent on Website',\n",
    "                           'Page Views Per Visit','A free copy of Mastering The Interview']]\n",
    "# Checking outliers at 25%, 50%, 75%, 90%, 95% and 99%\n",
    "num_analysis.describe(percentiles=[.25, .5, .75, .90, .95, .99])"
   ]
  },
  {
   "cell_type": "markdown",
   "metadata": {},
   "source": [
    "## 3. Data Preparation \n",
    "\n",
    "\n",
    "#### Data Preparation\n",
    "\n",
    "Let's now prepare the data and build the model. First, let's take a look at the dataset again."
   ]
  },
  {
   "cell_type": "code",
   "execution_count": 31,
   "metadata": {},
   "outputs": [],
   "source": [
    "dataset = leads_data.copy()"
   ]
  },
  {
   "cell_type": "code",
   "execution_count": 32,
   "metadata": {},
   "outputs": [
    {
     "data": {
      "text/html": [
       "<div>\n",
       "<style scoped>\n",
       "    .dataframe tbody tr th:only-of-type {\n",
       "        vertical-align: middle;\n",
       "    }\n",
       "\n",
       "    .dataframe tbody tr th {\n",
       "        vertical-align: top;\n",
       "    }\n",
       "\n",
       "    .dataframe thead th {\n",
       "        text-align: right;\n",
       "    }\n",
       "</style>\n",
       "<table border=\"1\" class=\"dataframe\">\n",
       "  <thead>\n",
       "    <tr style=\"text-align: right;\">\n",
       "      <th></th>\n",
       "      <th>Converted</th>\n",
       "      <th>TotalVisits</th>\n",
       "      <th>Total Time Spent on Website</th>\n",
       "      <th>Page Views Per Visit</th>\n",
       "      <th>A free copy of Mastering The Interview</th>\n",
       "    </tr>\n",
       "  </thead>\n",
       "  <tbody>\n",
       "    <tr>\n",
       "      <th>count</th>\n",
       "      <td>9048.000000</td>\n",
       "      <td>9048.000000</td>\n",
       "      <td>9048.000000</td>\n",
       "      <td>9048.000000</td>\n",
       "      <td>9048.000000</td>\n",
       "    </tr>\n",
       "    <tr>\n",
       "      <th>mean</th>\n",
       "      <td>0.378868</td>\n",
       "      <td>3.327697</td>\n",
       "      <td>482.994584</td>\n",
       "      <td>2.350491</td>\n",
       "      <td>0.317750</td>\n",
       "    </tr>\n",
       "    <tr>\n",
       "      <th>std</th>\n",
       "      <td>0.485132</td>\n",
       "      <td>3.292078</td>\n",
       "      <td>545.531995</td>\n",
       "      <td>2.051093</td>\n",
       "      <td>0.465627</td>\n",
       "    </tr>\n",
       "    <tr>\n",
       "      <th>min</th>\n",
       "      <td>0.000000</td>\n",
       "      <td>0.000000</td>\n",
       "      <td>0.000000</td>\n",
       "      <td>0.000000</td>\n",
       "      <td>0.000000</td>\n",
       "    </tr>\n",
       "    <tr>\n",
       "      <th>25%</th>\n",
       "      <td>0.000000</td>\n",
       "      <td>1.000000</td>\n",
       "      <td>10.000000</td>\n",
       "      <td>1.000000</td>\n",
       "      <td>0.000000</td>\n",
       "    </tr>\n",
       "    <tr>\n",
       "      <th>50%</th>\n",
       "      <td>0.000000</td>\n",
       "      <td>3.000000</td>\n",
       "      <td>246.000000</td>\n",
       "      <td>2.000000</td>\n",
       "      <td>0.000000</td>\n",
       "    </tr>\n",
       "    <tr>\n",
       "      <th>75%</th>\n",
       "      <td>1.000000</td>\n",
       "      <td>5.000000</td>\n",
       "      <td>924.000000</td>\n",
       "      <td>3.000000</td>\n",
       "      <td>1.000000</td>\n",
       "    </tr>\n",
       "    <tr>\n",
       "      <th>max</th>\n",
       "      <td>1.000000</td>\n",
       "      <td>25.000000</td>\n",
       "      <td>2272.000000</td>\n",
       "      <td>15.000000</td>\n",
       "      <td>1.000000</td>\n",
       "    </tr>\n",
       "  </tbody>\n",
       "</table>\n",
       "</div>"
      ],
      "text/plain": [
       "         Converted  TotalVisits  Total Time Spent on Website  \\\n",
       "count  9048.000000  9048.000000                  9048.000000   \n",
       "mean      0.378868     3.327697                   482.994584   \n",
       "std       0.485132     3.292078                   545.531995   \n",
       "min       0.000000     0.000000                     0.000000   \n",
       "25%       0.000000     1.000000                    10.000000   \n",
       "50%       0.000000     3.000000                   246.000000   \n",
       "75%       1.000000     5.000000                   924.000000   \n",
       "max       1.000000    25.000000                  2272.000000   \n",
       "\n",
       "       Page Views Per Visit  A free copy of Mastering The Interview  \n",
       "count           9048.000000                             9048.000000  \n",
       "mean               2.350491                                0.317750  \n",
       "std                2.051093                                0.465627  \n",
       "min                0.000000                                0.000000  \n",
       "25%                1.000000                                0.000000  \n",
       "50%                2.000000                                0.000000  \n",
       "75%                3.000000                                1.000000  \n",
       "max               15.000000                                1.000000  "
      ]
     },
     "execution_count": 32,
     "metadata": {},
     "output_type": "execute_result"
    }
   ],
   "source": [
    "dataset.describe()"
   ]
  },
  {
   "cell_type": "code",
   "execution_count": 33,
   "metadata": {},
   "outputs": [
    {
     "name": "stdout",
     "output_type": "stream",
     "text": [
      "---xxx------xxx------xxx------xxx------xxx------xxx------xxx------xxx------xxx------xxx---\n",
      "<class 'pandas.core.frame.DataFrame'>\n",
      "Int64Index: 9048 entries, 0 to 9239\n",
      "Data columns (total 10 columns):\n",
      "Lead Origin                               9048 non-null object\n",
      "Lead Source                               9048 non-null object\n",
      "Converted                                 9048 non-null int64\n",
      "TotalVisits                               9048 non-null float64\n",
      "Total Time Spent on Website               9048 non-null int64\n",
      "Page Views Per Visit                      9048 non-null float64\n",
      "Last Activity                             9048 non-null object\n",
      "Specialization                            9048 non-null object\n",
      "A free copy of Mastering The Interview    9048 non-null int64\n",
      "Last Notable Activity                     9048 non-null object\n",
      "dtypes: float64(2), int64(3), object(5)\n",
      "memory usage: 777.6+ KB\n",
      "None\n",
      "---xxx------xxx------xxx------xxx------xxx------xxx------xxx------xxx------xxx------xxx---\n"
     ]
    }
   ],
   "source": [
    "df_info(dataset)"
   ]
  },
  {
   "cell_type": "markdown",
   "metadata": {},
   "source": [
    "#### For categorical variables with multiple levels, create dummy features (one-hot encoded)"
   ]
  },
  {
   "cell_type": "code",
   "execution_count": 34,
   "metadata": {},
   "outputs": [],
   "source": [
    "# Creating a dummy variable for some of the categorical variables and dropping the first one.\n",
    "dummy1 = pd.get_dummies(dataset[['Lead Origin', 'Lead Source', \n",
    "                                 'Last Activity', 'Specialization',\n",
    "                                 'Last Notable Activity'\n",
    "                                ]], drop_first=True)\n",
    "\n",
    "# Adding the results to the master dataframe\n",
    "dataset = pd.concat([dataset, dummy1], axis=1)\n",
    "\n",
    "# We have created dummies for the below variables, so we can drop them\n",
    "dataset = dataset.drop(['Lead Origin', 'Lead Source', \n",
    "                         'Last Activity', 'Specialization',\n",
    "                         'Last Notable Activity'\n",
    "                        ], 1)"
   ]
  },
  {
   "cell_type": "code",
   "execution_count": 35,
   "metadata": {},
   "outputs": [
    {
     "name": "stdout",
     "output_type": "stream",
     "text": [
      "<class 'pandas.core.frame.DataFrame'>\n",
      "Int64Index: 9048 entries, 0 to 9239\n",
      "Data columns (total 77 columns):\n",
      "Converted                                             9048 non-null int64\n",
      "TotalVisits                                           9048 non-null float64\n",
      "Total Time Spent on Website                           9048 non-null int64\n",
      "Page Views Per Visit                                  9048 non-null float64\n",
      "A free copy of Mastering The Interview                9048 non-null int64\n",
      "Lead Origin_Landing Page Submission                   9048 non-null uint8\n",
      "Lead Origin_Lead Add Form                             9048 non-null uint8\n",
      "Lead Origin_Lead Import                               9048 non-null uint8\n",
      "Lead Source_Direct Traffic                            9048 non-null uint8\n",
      "Lead Source_Facebook                                  9048 non-null uint8\n",
      "Lead Source_Google                                    9048 non-null uint8\n",
      "Lead Source_Live Chat                                 9048 non-null uint8\n",
      "Lead Source_NC_EDM                                    9048 non-null uint8\n",
      "Lead Source_Olark Chat                                9048 non-null uint8\n",
      "Lead Source_Organic Search                            9048 non-null uint8\n",
      "Lead Source_Pay per Click Ads                         9048 non-null uint8\n",
      "Lead Source_Press_Release                             9048 non-null uint8\n",
      "Lead Source_Reference                                 9048 non-null uint8\n",
      "Lead Source_Referral Sites                            9048 non-null uint8\n",
      "Lead Source_Social Media                              9048 non-null uint8\n",
      "Lead Source_WeLearn                                   9048 non-null uint8\n",
      "Lead Source_Welingak Website                          9048 non-null uint8\n",
      "Lead Source_bing                                      9048 non-null uint8\n",
      "Lead Source_blog                                      9048 non-null uint8\n",
      "Lead Source_google                                    9048 non-null uint8\n",
      "Lead Source_testone                                   9048 non-null uint8\n",
      "Lead Source_welearnblog_Home                          9048 non-null uint8\n",
      "Lead Source_youtubechannel                            9048 non-null uint8\n",
      "Last Activity_Converted to Lead                       9048 non-null uint8\n",
      "Last Activity_Email Bounced                           9048 non-null uint8\n",
      "Last Activity_Email Link Clicked                      9048 non-null uint8\n",
      "Last Activity_Email Marked Spam                       9048 non-null uint8\n",
      "Last Activity_Email Opened                            9048 non-null uint8\n",
      "Last Activity_Email Received                          9048 non-null uint8\n",
      "Last Activity_Form Submitted on Website               9048 non-null uint8\n",
      "Last Activity_Had a Phone Conversation                9048 non-null uint8\n",
      "Last Activity_Olark Chat Conversation                 9048 non-null uint8\n",
      "Last Activity_Page Visited on Website                 9048 non-null uint8\n",
      "Last Activity_Resubscribed to emails                  9048 non-null uint8\n",
      "Last Activity_SMS Sent                                9048 non-null uint8\n",
      "Last Activity_Unreachable                             9048 non-null uint8\n",
      "Last Activity_Unsubscribed                            9048 non-null uint8\n",
      "Last Activity_View in browser link Clicked            9048 non-null uint8\n",
      "Last Activity_Visited Booth in Tradeshow              9048 non-null uint8\n",
      "Specialization_Business Administration                9048 non-null uint8\n",
      "Specialization_E-Business                             9048 non-null uint8\n",
      "Specialization_E-COMMERCE                             9048 non-null uint8\n",
      "Specialization_Finance Management                     9048 non-null uint8\n",
      "Specialization_Healthcare Management                  9048 non-null uint8\n",
      "Specialization_Hospitality Management                 9048 non-null uint8\n",
      "Specialization_Human Resource Management              9048 non-null uint8\n",
      "Specialization_IT Projects Management                 9048 non-null uint8\n",
      "Specialization_International Business                 9048 non-null uint8\n",
      "Specialization_Marketing Management                   9048 non-null uint8\n",
      "Specialization_Media and Advertising                  9048 non-null uint8\n",
      "Specialization_Operations Management                  9048 non-null uint8\n",
      "Specialization_Others                                 9048 non-null uint8\n",
      "Specialization_Retail Management                      9048 non-null uint8\n",
      "Specialization_Rural and Agribusiness                 9048 non-null uint8\n",
      "Specialization_Services Excellence                    9048 non-null uint8\n",
      "Specialization_Supply Chain Management                9048 non-null uint8\n",
      "Specialization_Travel and Tourism                     9048 non-null uint8\n",
      "Last Notable Activity_Email Bounced                   9048 non-null uint8\n",
      "Last Notable Activity_Email Link Clicked              9048 non-null uint8\n",
      "Last Notable Activity_Email Marked Spam               9048 non-null uint8\n",
      "Last Notable Activity_Email Opened                    9048 non-null uint8\n",
      "Last Notable Activity_Email Received                  9048 non-null uint8\n",
      "Last Notable Activity_Form Submitted on Website       9048 non-null uint8\n",
      "Last Notable Activity_Had a Phone Conversation        9048 non-null uint8\n",
      "Last Notable Activity_Modified                        9048 non-null uint8\n",
      "Last Notable Activity_Olark Chat Conversation         9048 non-null uint8\n",
      "Last Notable Activity_Page Visited on Website         9048 non-null uint8\n",
      "Last Notable Activity_Resubscribed to emails          9048 non-null uint8\n",
      "Last Notable Activity_SMS Sent                        9048 non-null uint8\n",
      "Last Notable Activity_Unreachable                     9048 non-null uint8\n",
      "Last Notable Activity_Unsubscribed                    9048 non-null uint8\n",
      "Last Notable Activity_View in browser link Clicked    9048 non-null uint8\n",
      "dtypes: float64(2), int64(3), uint8(72)\n",
      "memory usage: 1.0 MB\n"
     ]
    }
   ],
   "source": [
    "# Checking the new dataset\n",
    "\n",
    "dataset.info()"
   ]
  },
  {
   "cell_type": "code",
   "execution_count": 36,
   "metadata": {},
   "outputs": [],
   "source": [
    "dataset = dataset.drop(['Last Notable Activity_View in browser link Clicked'], axis = 1)"
   ]
  },
  {
   "cell_type": "markdown",
   "metadata": {},
   "source": [
    "### Step 4: Test-Train Split"
   ]
  },
  {
   "cell_type": "code",
   "execution_count": 37,
   "metadata": {},
   "outputs": [],
   "source": [
    "# Putting feature variable to X\n",
    "# Putting response variable to y\n",
    "\n",
    "X = dataset.drop(['Converted'], axis=1)\n",
    "y = dataset['Converted']"
   ]
  },
  {
   "cell_type": "code",
   "execution_count": 38,
   "metadata": {},
   "outputs": [
    {
     "data": {
      "text/plain": [
       "0    0\n",
       "1    0\n",
       "2    1\n",
       "3    0\n",
       "4    1\n",
       "Name: Converted, dtype: int64"
      ]
     },
     "execution_count": 38,
     "metadata": {},
     "output_type": "execute_result"
    }
   ],
   "source": [
    "y.head(5)"
   ]
  },
  {
   "cell_type": "code",
   "execution_count": 39,
   "metadata": {},
   "outputs": [],
   "source": [
    "# Splitting the data into train and test\n",
    "X_train, X_test, y_train, y_test = train_test_split(X, y, train_size=0.7, test_size=0.3, random_state=100)"
   ]
  },
  {
   "cell_type": "markdown",
   "metadata": {},
   "source": [
    "### Step 5: Feature Scaling"
   ]
  },
  {
   "cell_type": "code",
   "execution_count": 40,
   "metadata": {},
   "outputs": [
    {
     "data": {
      "text/html": [
       "<div>\n",
       "<style scoped>\n",
       "    .dataframe tbody tr th:only-of-type {\n",
       "        vertical-align: middle;\n",
       "    }\n",
       "\n",
       "    .dataframe tbody tr th {\n",
       "        vertical-align: top;\n",
       "    }\n",
       "\n",
       "    .dataframe thead th {\n",
       "        text-align: right;\n",
       "    }\n",
       "</style>\n",
       "<table border=\"1\" class=\"dataframe\">\n",
       "  <thead>\n",
       "    <tr style=\"text-align: right;\">\n",
       "      <th></th>\n",
       "      <th>TotalVisits</th>\n",
       "      <th>Total Time Spent on Website</th>\n",
       "      <th>Page Views Per Visit</th>\n",
       "      <th>A free copy of Mastering The Interview</th>\n",
       "      <th>Lead Origin_Landing Page Submission</th>\n",
       "      <th>Lead Origin_Lead Add Form</th>\n",
       "      <th>Lead Origin_Lead Import</th>\n",
       "      <th>Lead Source_Direct Traffic</th>\n",
       "      <th>Lead Source_Facebook</th>\n",
       "      <th>Lead Source_Google</th>\n",
       "      <th>...</th>\n",
       "      <th>Last Notable Activity_Email Received</th>\n",
       "      <th>Last Notable Activity_Form Submitted on Website</th>\n",
       "      <th>Last Notable Activity_Had a Phone Conversation</th>\n",
       "      <th>Last Notable Activity_Modified</th>\n",
       "      <th>Last Notable Activity_Olark Chat Conversation</th>\n",
       "      <th>Last Notable Activity_Page Visited on Website</th>\n",
       "      <th>Last Notable Activity_Resubscribed to emails</th>\n",
       "      <th>Last Notable Activity_SMS Sent</th>\n",
       "      <th>Last Notable Activity_Unreachable</th>\n",
       "      <th>Last Notable Activity_Unsubscribed</th>\n",
       "    </tr>\n",
       "  </thead>\n",
       "  <tbody>\n",
       "    <tr>\n",
       "      <th>8425</th>\n",
       "      <td>-1.015121</td>\n",
       "      <td>-0.878510</td>\n",
       "      <td>-1.145788</td>\n",
       "      <td>-0.685108</td>\n",
       "      <td>0</td>\n",
       "      <td>0</td>\n",
       "      <td>0</td>\n",
       "      <td>0</td>\n",
       "      <td>0</td>\n",
       "      <td>0</td>\n",
       "      <td>...</td>\n",
       "      <td>0</td>\n",
       "      <td>0</td>\n",
       "      <td>0</td>\n",
       "      <td>0</td>\n",
       "      <td>0</td>\n",
       "      <td>0</td>\n",
       "      <td>0</td>\n",
       "      <td>0</td>\n",
       "      <td>0</td>\n",
       "      <td>0</td>\n",
       "    </tr>\n",
       "    <tr>\n",
       "      <th>8341</th>\n",
       "      <td>-1.015121</td>\n",
       "      <td>-0.878510</td>\n",
       "      <td>-1.145788</td>\n",
       "      <td>-0.685108</td>\n",
       "      <td>0</td>\n",
       "      <td>0</td>\n",
       "      <td>0</td>\n",
       "      <td>0</td>\n",
       "      <td>0</td>\n",
       "      <td>0</td>\n",
       "      <td>...</td>\n",
       "      <td>0</td>\n",
       "      <td>0</td>\n",
       "      <td>0</td>\n",
       "      <td>0</td>\n",
       "      <td>0</td>\n",
       "      <td>0</td>\n",
       "      <td>0</td>\n",
       "      <td>0</td>\n",
       "      <td>0</td>\n",
       "      <td>0</td>\n",
       "    </tr>\n",
       "    <tr>\n",
       "      <th>7376</th>\n",
       "      <td>-0.402157</td>\n",
       "      <td>-0.071940</td>\n",
       "      <td>-0.165214</td>\n",
       "      <td>1.459623</td>\n",
       "      <td>1</td>\n",
       "      <td>0</td>\n",
       "      <td>0</td>\n",
       "      <td>1</td>\n",
       "      <td>0</td>\n",
       "      <td>0</td>\n",
       "      <td>...</td>\n",
       "      <td>0</td>\n",
       "      <td>0</td>\n",
       "      <td>0</td>\n",
       "      <td>0</td>\n",
       "      <td>0</td>\n",
       "      <td>0</td>\n",
       "      <td>0</td>\n",
       "      <td>0</td>\n",
       "      <td>0</td>\n",
       "      <td>0</td>\n",
       "    </tr>\n",
       "    <tr>\n",
       "      <th>7414</th>\n",
       "      <td>-1.015121</td>\n",
       "      <td>-0.878510</td>\n",
       "      <td>-1.145788</td>\n",
       "      <td>-0.685108</td>\n",
       "      <td>0</td>\n",
       "      <td>0</td>\n",
       "      <td>0</td>\n",
       "      <td>0</td>\n",
       "      <td>0</td>\n",
       "      <td>0</td>\n",
       "      <td>...</td>\n",
       "      <td>0</td>\n",
       "      <td>0</td>\n",
       "      <td>0</td>\n",
       "      <td>1</td>\n",
       "      <td>0</td>\n",
       "      <td>0</td>\n",
       "      <td>0</td>\n",
       "      <td>0</td>\n",
       "      <td>0</td>\n",
       "      <td>0</td>\n",
       "    </tr>\n",
       "    <tr>\n",
       "      <th>3521</th>\n",
       "      <td>0.517288</td>\n",
       "      <td>1.213416</td>\n",
       "      <td>1.305648</td>\n",
       "      <td>-0.685108</td>\n",
       "      <td>1</td>\n",
       "      <td>0</td>\n",
       "      <td>0</td>\n",
       "      <td>0</td>\n",
       "      <td>0</td>\n",
       "      <td>1</td>\n",
       "      <td>...</td>\n",
       "      <td>0</td>\n",
       "      <td>0</td>\n",
       "      <td>0</td>\n",
       "      <td>0</td>\n",
       "      <td>0</td>\n",
       "      <td>0</td>\n",
       "      <td>0</td>\n",
       "      <td>1</td>\n",
       "      <td>0</td>\n",
       "      <td>0</td>\n",
       "    </tr>\n",
       "  </tbody>\n",
       "</table>\n",
       "<p>5 rows × 75 columns</p>\n",
       "</div>"
      ],
      "text/plain": [
       "      TotalVisits  Total Time Spent on Website  Page Views Per Visit  \\\n",
       "8425    -1.015121                    -0.878510             -1.145788   \n",
       "8341    -1.015121                    -0.878510             -1.145788   \n",
       "7376    -0.402157                    -0.071940             -0.165214   \n",
       "7414    -1.015121                    -0.878510             -1.145788   \n",
       "3521     0.517288                     1.213416              1.305648   \n",
       "\n",
       "      A free copy of Mastering The Interview  \\\n",
       "8425                               -0.685108   \n",
       "8341                               -0.685108   \n",
       "7376                                1.459623   \n",
       "7414                               -0.685108   \n",
       "3521                               -0.685108   \n",
       "\n",
       "      Lead Origin_Landing Page Submission  Lead Origin_Lead Add Form  \\\n",
       "8425                                    0                          0   \n",
       "8341                                    0                          0   \n",
       "7376                                    1                          0   \n",
       "7414                                    0                          0   \n",
       "3521                                    1                          0   \n",
       "\n",
       "      Lead Origin_Lead Import  Lead Source_Direct Traffic  \\\n",
       "8425                        0                           0   \n",
       "8341                        0                           0   \n",
       "7376                        0                           1   \n",
       "7414                        0                           0   \n",
       "3521                        0                           0   \n",
       "\n",
       "      Lead Source_Facebook  Lead Source_Google  ...  \\\n",
       "8425                     0                   0  ...   \n",
       "8341                     0                   0  ...   \n",
       "7376                     0                   0  ...   \n",
       "7414                     0                   0  ...   \n",
       "3521                     0                   1  ...   \n",
       "\n",
       "      Last Notable Activity_Email Received  \\\n",
       "8425                                     0   \n",
       "8341                                     0   \n",
       "7376                                     0   \n",
       "7414                                     0   \n",
       "3521                                     0   \n",
       "\n",
       "      Last Notable Activity_Form Submitted on Website  \\\n",
       "8425                                                0   \n",
       "8341                                                0   \n",
       "7376                                                0   \n",
       "7414                                                0   \n",
       "3521                                                0   \n",
       "\n",
       "      Last Notable Activity_Had a Phone Conversation  \\\n",
       "8425                                               0   \n",
       "8341                                               0   \n",
       "7376                                               0   \n",
       "7414                                               0   \n",
       "3521                                               0   \n",
       "\n",
       "      Last Notable Activity_Modified  \\\n",
       "8425                               0   \n",
       "8341                               0   \n",
       "7376                               0   \n",
       "7414                               1   \n",
       "3521                               0   \n",
       "\n",
       "      Last Notable Activity_Olark Chat Conversation  \\\n",
       "8425                                              0   \n",
       "8341                                              0   \n",
       "7376                                              0   \n",
       "7414                                              0   \n",
       "3521                                              0   \n",
       "\n",
       "      Last Notable Activity_Page Visited on Website  \\\n",
       "8425                                              0   \n",
       "8341                                              0   \n",
       "7376                                              0   \n",
       "7414                                              0   \n",
       "3521                                              0   \n",
       "\n",
       "      Last Notable Activity_Resubscribed to emails  \\\n",
       "8425                                             0   \n",
       "8341                                             0   \n",
       "7376                                             0   \n",
       "7414                                             0   \n",
       "3521                                             0   \n",
       "\n",
       "      Last Notable Activity_SMS Sent  Last Notable Activity_Unreachable  \\\n",
       "8425                               0                                  0   \n",
       "8341                               0                                  0   \n",
       "7376                               0                                  0   \n",
       "7414                               0                                  0   \n",
       "3521                               1                                  0   \n",
       "\n",
       "      Last Notable Activity_Unsubscribed  \n",
       "8425                                   0  \n",
       "8341                                   0  \n",
       "7376                                   0  \n",
       "7414                                   0  \n",
       "3521                                   0  \n",
       "\n",
       "[5 rows x 75 columns]"
      ]
     },
     "execution_count": 40,
     "metadata": {},
     "output_type": "execute_result"
    }
   ],
   "source": [
    "scaler = StandardScaler()\n",
    "\n",
    "X_train[['TotalVisits', 'Total Time Spent on Website', \n",
    "         'Page Views Per Visit', \n",
    "         'A free copy of Mastering The Interview']] = scaler.fit_transform(X_train[[\n",
    "                                                    'TotalVisits', \n",
    "                                                    'Total Time Spent on Website', \n",
    "                                                    'Page Views Per Visit', \n",
    "                                                    'A free copy of Mastering The Interview']])\n",
    "\n",
    "X_train.head()"
   ]
  },
  {
   "cell_type": "code",
   "execution_count": 41,
   "metadata": {},
   "outputs": [
    {
     "data": {
      "text/plain": [
       "37.8868258178603"
      ]
     },
     "execution_count": 41,
     "metadata": {},
     "output_type": "execute_result"
    }
   ],
   "source": [
    "### Checking the Conversion Rate\n",
    "conversion_rate = (sum(dataset['Converted'])/len(dataset['Converted'].index))*100\n",
    "conversion_rate"
   ]
  },
  {
   "cell_type": "markdown",
   "metadata": {},
   "source": [
    "### Step 6: Looking at Correlations"
   ]
  },
  {
   "cell_type": "code",
   "execution_count": 42,
   "metadata": {},
   "outputs": [],
   "source": [
    "# Let's see the correlation matrix \n",
    "# The dateset takes time to visualise\n",
    "# HENCE COMMENTED IT OUT.\n",
    "\n",
    "\n",
    "# plt.figure(figsize = (20,10))        # Size of the figure\n",
    "# sns.heatmap(dataset.corr(),annot = True)\n",
    "# plt.show()"
   ]
  },
  {
   "cell_type": "markdown",
   "metadata": {},
   "source": [
    "### Step 7: Model Building\n",
    "Let's start by splitting our data into a training set and a test set."
   ]
  },
  {
   "cell_type": "markdown",
   "metadata": {},
   "source": [
    "#### Running Your First Training Model"
   ]
  },
  {
   "cell_type": "code",
   "execution_count": 43,
   "metadata": {},
   "outputs": [
    {
     "data": {
      "text/html": [
       "<table class=\"simpletable\">\n",
       "<caption>Generalized Linear Model Regression Results</caption>\n",
       "<tr>\n",
       "  <th>Dep. Variable:</th>      <td>Converted</td>    <th>  No. Observations:  </th>  <td>  6333</td>  \n",
       "</tr>\n",
       "<tr>\n",
       "  <th>Model:</th>                 <td>GLM</td>       <th>  Df Residuals:      </th>  <td>  6261</td>  \n",
       "</tr>\n",
       "<tr>\n",
       "  <th>Model Family:</th>       <td>Binomial</td>     <th>  Df Model:          </th>  <td>    71</td>  \n",
       "</tr>\n",
       "<tr>\n",
       "  <th>Link Function:</th>        <td>logit</td>      <th>  Scale:             </th> <td>  1.0000</td> \n",
       "</tr>\n",
       "<tr>\n",
       "  <th>Method:</th>               <td>IRLS</td>       <th>  Log-Likelihood:    </th> <td>     nan</td> \n",
       "</tr>\n",
       "<tr>\n",
       "  <th>Date:</th>           <td>Mon, 26 Aug 2019</td> <th>  Deviance:          </th> <td>     nan</td> \n",
       "</tr>\n",
       "<tr>\n",
       "  <th>Time:</th>               <td>06:01:56</td>     <th>  Pearson chi2:      </th> <td>8.21e+18</td> \n",
       "</tr>\n",
       "<tr>\n",
       "  <th>No. Iterations:</th>        <td>100</td>       <th>  Covariance Type:   </th> <td>nonrobust</td>\n",
       "</tr>\n",
       "</table>\n",
       "<table class=\"simpletable\">\n",
       "<tr>\n",
       "                         <td></td>                            <th>coef</th>     <th>std err</th>      <th>z</th>      <th>P>|z|</th>  <th>[0.025</th>    <th>0.975]</th>  \n",
       "</tr>\n",
       "<tr>\n",
       "  <th>const</th>                                           <td> -3.06e+14</td> <td> 7.53e+07</td> <td>-4.06e+06</td> <td> 0.000</td> <td>-3.06e+14</td> <td>-3.06e+14</td>\n",
       "</tr>\n",
       "<tr>\n",
       "  <th>TotalVisits</th>                                     <td> 1.898e+14</td> <td> 1.29e+06</td> <td> 1.47e+08</td> <td> 0.000</td> <td>  1.9e+14</td> <td>  1.9e+14</td>\n",
       "</tr>\n",
       "<tr>\n",
       "  <th>Total Time Spent on Website</th>                     <td> 8.328e+14</td> <td> 9.78e+05</td> <td> 8.52e+08</td> <td> 0.000</td> <td> 8.33e+14</td> <td> 8.33e+14</td>\n",
       "</tr>\n",
       "<tr>\n",
       "  <th>Page Views Per Visit</th>                            <td>-1.888e+14</td> <td> 1.39e+06</td> <td>-1.36e+08</td> <td> 0.000</td> <td>-1.89e+14</td> <td>-1.89e+14</td>\n",
       "</tr>\n",
       "<tr>\n",
       "  <th>A free copy of Mastering The Interview</th>          <td>-8.437e+11</td> <td> 1.25e+06</td> <td>-6.76e+05</td> <td> 0.000</td> <td>-8.44e+11</td> <td>-8.44e+11</td>\n",
       "</tr>\n",
       "<tr>\n",
       "  <th>Lead Origin_Landing Page Submission</th>             <td>  3.14e+14</td> <td> 3.36e+06</td> <td> 9.33e+07</td> <td> 0.000</td> <td> 3.14e+14</td> <td> 3.14e+14</td>\n",
       "</tr>\n",
       "<tr>\n",
       "  <th>Lead Origin_Lead Add Form</th>                       <td> 4.425e+15</td> <td> 4.76e+07</td> <td>  9.3e+07</td> <td> 0.000</td> <td> 4.42e+15</td> <td> 4.42e+15</td>\n",
       "</tr>\n",
       "<tr>\n",
       "  <th>Lead Origin_Lead Import</th>                         <td> 4.089e+15</td> <td> 6.89e+07</td> <td> 5.94e+07</td> <td> 0.000</td> <td> 4.09e+15</td> <td> 4.09e+15</td>\n",
       "</tr>\n",
       "<tr>\n",
       "  <th>Lead Source_Direct Traffic</th>                      <td> 4.534e+15</td> <td> 6.74e+07</td> <td> 6.73e+07</td> <td> 0.000</td> <td> 4.53e+15</td> <td> 4.53e+15</td>\n",
       "</tr>\n",
       "<tr>\n",
       "  <th>Lead Source_Facebook</th>                            <td> 1.008e+15</td> <td> 9.52e+07</td> <td> 1.06e+07</td> <td> 0.000</td> <td> 1.01e+15</td> <td> 1.01e+15</td>\n",
       "</tr>\n",
       "<tr>\n",
       "  <th>Lead Source_Google</th>                              <td>  4.67e+15</td> <td> 6.73e+07</td> <td> 6.94e+07</td> <td> 0.000</td> <td> 4.67e+15</td> <td> 4.67e+15</td>\n",
       "</tr>\n",
       "<tr>\n",
       "  <th>Lead Source_Live Chat</th>                           <td> 6.917e+15</td> <td> 8.24e+07</td> <td>  8.4e+07</td> <td> 0.000</td> <td> 6.92e+15</td> <td> 6.92e+15</td>\n",
       "</tr>\n",
       "<tr>\n",
       "  <th>Lead Source_NC_EDM</th>                              <td> 3.373e+15</td> <td>  9.5e+07</td> <td> 3.55e+07</td> <td> 0.000</td> <td> 3.37e+15</td> <td> 3.37e+15</td>\n",
       "</tr>\n",
       "<tr>\n",
       "  <th>Lead Source_Olark Chat</th>                          <td> 4.111e+15</td> <td> 6.74e+07</td> <td>  6.1e+07</td> <td> 0.000</td> <td> 4.11e+15</td> <td> 4.11e+15</td>\n",
       "</tr>\n",
       "<tr>\n",
       "  <th>Lead Source_Organic Search</th>                      <td> 4.662e+15</td> <td> 6.74e+07</td> <td> 6.92e+07</td> <td> 0.000</td> <td> 4.66e+15</td> <td> 4.66e+15</td>\n",
       "</tr>\n",
       "<tr>\n",
       "  <th>Lead Source_Pay per Click Ads</th>                   <td> 1.998e+12</td> <td> 9.52e+07</td> <td>  2.1e+04</td> <td> 0.000</td> <td>    2e+12</td> <td>    2e+12</td>\n",
       "</tr>\n",
       "<tr>\n",
       "  <th>Lead Source_Press_Release</th>                       <td>   68.3104</td> <td> 3.85e-06</td> <td> 1.77e+07</td> <td> 0.000</td> <td>   68.310</td> <td>   68.310</td>\n",
       "</tr>\n",
       "<tr>\n",
       "  <th>Lead Source_Reference</th>                           <td> 2.283e+15</td> <td> 4.78e+07</td> <td> 4.78e+07</td> <td> 0.000</td> <td> 2.28e+15</td> <td> 2.28e+15</td>\n",
       "</tr>\n",
       "<tr>\n",
       "  <th>Lead Source_Referral Sites</th>                      <td> 4.809e+15</td> <td> 6.78e+07</td> <td>  7.1e+07</td> <td> 0.000</td> <td> 4.81e+15</td> <td> 4.81e+15</td>\n",
       "</tr>\n",
       "<tr>\n",
       "  <th>Lead Source_Social Media</th>                        <td> 4.494e+15</td> <td> 8.26e+07</td> <td> 5.44e+07</td> <td> 0.000</td> <td> 4.49e+15</td> <td> 4.49e+15</td>\n",
       "</tr>\n",
       "<tr>\n",
       "  <th>Lead Source_WeLearn</th>                             <td> 7.699e+15</td> <td> 9.52e+07</td> <td> 8.09e+07</td> <td> 0.000</td> <td>  7.7e+15</td> <td>  7.7e+15</td>\n",
       "</tr>\n",
       "<tr>\n",
       "  <th>Lead Source_Welingak Website</th>                    <td> 3.072e+15</td> <td> 4.82e+07</td> <td> 6.37e+07</td> <td> 0.000</td> <td> 3.07e+15</td> <td> 3.07e+15</td>\n",
       "</tr>\n",
       "<tr>\n",
       "  <th>Lead Source_bing</th>                                <td> 6.264e+14</td> <td> 7.53e+07</td> <td> 8.32e+06</td> <td> 0.000</td> <td> 6.26e+14</td> <td> 6.26e+14</td>\n",
       "</tr>\n",
       "<tr>\n",
       "  <th>Lead Source_blog</th>                                <td>-4.742e+14</td> <td> 9.52e+07</td> <td>-4.98e+06</td> <td> 0.000</td> <td>-4.74e+14</td> <td>-4.74e+14</td>\n",
       "</tr>\n",
       "<tr>\n",
       "  <th>Lead Source_google</th>                              <td> 4.753e+14</td> <td>  7.8e+07</td> <td>  6.1e+06</td> <td> 0.000</td> <td> 4.75e+14</td> <td> 4.75e+14</td>\n",
       "</tr>\n",
       "<tr>\n",
       "  <th>Lead Source_testone</th>                             <td> 4.446e+14</td> <td> 9.52e+07</td> <td> 4.67e+06</td> <td> 0.000</td> <td> 4.45e+14</td> <td> 4.45e+14</td>\n",
       "</tr>\n",
       "<tr>\n",
       "  <th>Lead Source_welearnblog_Home</th>                    <td>  4.45e+15</td> <td> 9.51e+07</td> <td> 4.68e+07</td> <td> 0.000</td> <td> 4.45e+15</td> <td> 4.45e+15</td>\n",
       "</tr>\n",
       "<tr>\n",
       "  <th>Lead Source_youtubechannel</th>                      <td>-4.691e+13</td> <td> 9.58e+07</td> <td>-4.89e+05</td> <td> 0.000</td> <td>-4.69e+13</td> <td>-4.69e+13</td>\n",
       "</tr>\n",
       "<tr>\n",
       "  <th>Last Activity_Converted to Lead</th>                 <td>-4.568e+15</td> <td> 4.77e+07</td> <td>-9.58e+07</td> <td> 0.000</td> <td>-4.57e+15</td> <td>-4.57e+15</td>\n",
       "</tr>\n",
       "<tr>\n",
       "  <th>Last Activity_Email Bounced</th>                     <td>-5.075e+15</td> <td> 4.78e+07</td> <td>-1.06e+08</td> <td> 0.000</td> <td>-5.07e+15</td> <td>-5.07e+15</td>\n",
       "</tr>\n",
       "<tr>\n",
       "  <th>Last Activity_Email Link Clicked</th>                <td>-4.914e+15</td> <td> 4.82e+07</td> <td>-1.02e+08</td> <td> 0.000</td> <td>-4.91e+15</td> <td>-4.91e+15</td>\n",
       "</tr>\n",
       "<tr>\n",
       "  <th>Last Activity_Email Marked Spam</th>                 <td>-8.784e+14</td> <td> 3.11e+07</td> <td>-2.82e+07</td> <td> 0.000</td> <td>-8.78e+14</td> <td>-8.78e+14</td>\n",
       "</tr>\n",
       "<tr>\n",
       "  <th>Last Activity_Email Opened</th>                      <td>-4.685e+15</td> <td> 4.76e+07</td> <td>-9.84e+07</td> <td> 0.000</td> <td>-4.69e+15</td> <td>-4.69e+15</td>\n",
       "</tr>\n",
       "<tr>\n",
       "  <th>Last Activity_Email Received</th>                    <td>-1.316e+15</td> <td> 8.22e+07</td> <td> -1.6e+07</td> <td> 0.000</td> <td>-1.32e+15</td> <td>-1.32e+15</td>\n",
       "</tr>\n",
       "<tr>\n",
       "  <th>Last Activity_Form Submitted on Website</th>         <td>-4.664e+15</td> <td> 4.81e+07</td> <td>-9.69e+07</td> <td> 0.000</td> <td>-4.66e+15</td> <td>-4.66e+15</td>\n",
       "</tr>\n",
       "<tr>\n",
       "  <th>Last Activity_Had a Phone Conversation</th>          <td>-5.324e+15</td> <td> 5.62e+07</td> <td>-9.47e+07</td> <td> 0.000</td> <td>-5.32e+15</td> <td>-5.32e+15</td>\n",
       "</tr>\n",
       "<tr>\n",
       "  <th>Last Activity_Olark Chat Conversation</th>           <td>-3.952e+15</td> <td> 4.76e+07</td> <td>-8.31e+07</td> <td> 0.000</td> <td>-3.95e+15</td> <td>-3.95e+15</td>\n",
       "</tr>\n",
       "<tr>\n",
       "  <th>Last Activity_Page Visited on Website</th>           <td>-4.644e+15</td> <td> 4.77e+07</td> <td>-9.73e+07</td> <td> 0.000</td> <td>-4.64e+15</td> <td>-4.64e+15</td>\n",
       "</tr>\n",
       "<tr>\n",
       "  <th>Last Activity_Resubscribed to emails</th>            <td> 6.932e+14</td> <td> 3.86e+07</td> <td>  1.8e+07</td> <td> 0.000</td> <td> 6.93e+14</td> <td> 6.93e+14</td>\n",
       "</tr>\n",
       "<tr>\n",
       "  <th>Last Activity_SMS Sent</th>                          <td>-4.081e+15</td> <td> 4.76e+07</td> <td>-8.57e+07</td> <td> 0.000</td> <td>-4.08e+15</td> <td>-4.08e+15</td>\n",
       "</tr>\n",
       "<tr>\n",
       "  <th>Last Activity_Unreachable</th>                       <td>-4.684e+15</td> <td> 4.87e+07</td> <td>-9.62e+07</td> <td> 0.000</td> <td>-4.68e+15</td> <td>-4.68e+15</td>\n",
       "</tr>\n",
       "<tr>\n",
       "  <th>Last Activity_Unsubscribed</th>                      <td>-4.837e+15</td> <td> 5.13e+07</td> <td>-9.42e+07</td> <td> 0.000</td> <td>-4.84e+15</td> <td>-4.84e+15</td>\n",
       "</tr>\n",
       "<tr>\n",
       "  <th>Last Activity_View in browser link Clicked</th>      <td>-7.883e+15</td> <td> 5.82e+07</td> <td>-1.35e+08</td> <td> 0.000</td> <td>-7.88e+15</td> <td>-7.88e+15</td>\n",
       "</tr>\n",
       "<tr>\n",
       "  <th>Last Activity_Visited Booth in Tradeshow</th>        <td>-7.982e+15</td> <td> 8.23e+07</td> <td> -9.7e+07</td> <td> 0.000</td> <td>-7.98e+15</td> <td>-7.98e+15</td>\n",
       "</tr>\n",
       "<tr>\n",
       "  <th>Specialization_Business Administration</th>          <td> 1.288e+14</td> <td> 5.95e+06</td> <td> 2.16e+07</td> <td> 0.000</td> <td> 1.29e+14</td> <td> 1.29e+14</td>\n",
       "</tr>\n",
       "<tr>\n",
       "  <th>Specialization_E-Business</th>                       <td> 6.307e+13</td> <td> 1.15e+07</td> <td> 5.48e+06</td> <td> 0.000</td> <td> 6.31e+13</td> <td> 6.31e+13</td>\n",
       "</tr>\n",
       "<tr>\n",
       "  <th>Specialization_E-COMMERCE</th>                       <td>-3.245e+14</td> <td> 9.11e+06</td> <td>-3.56e+07</td> <td> 0.000</td> <td>-3.24e+14</td> <td>-3.24e+14</td>\n",
       "</tr>\n",
       "<tr>\n",
       "  <th>Specialization_Finance Management</th>               <td>-2.799e+14</td> <td> 5.08e+06</td> <td>-5.51e+07</td> <td> 0.000</td> <td> -2.8e+14</td> <td> -2.8e+14</td>\n",
       "</tr>\n",
       "<tr>\n",
       "  <th>Specialization_Healthcare Management</th>            <td> 5.956e+13</td> <td> 7.61e+06</td> <td> 7.83e+06</td> <td> 0.000</td> <td> 5.96e+13</td> <td> 5.96e+13</td>\n",
       "</tr>\n",
       "<tr>\n",
       "  <th>Specialization_Hospitality Management</th>           <td>-5.506e+14</td> <td> 8.97e+06</td> <td>-6.14e+07</td> <td> 0.000</td> <td>-5.51e+14</td> <td>-5.51e+14</td>\n",
       "</tr>\n",
       "<tr>\n",
       "  <th>Specialization_Human Resource Management</th>        <td> 7.659e+13</td> <td> 5.17e+06</td> <td> 1.48e+07</td> <td> 0.000</td> <td> 7.66e+13</td> <td> 7.66e+13</td>\n",
       "</tr>\n",
       "<tr>\n",
       "  <th>Specialization_IT Projects Management</th>           <td> 6.342e+13</td> <td> 6.03e+06</td> <td> 1.05e+07</td> <td> 0.000</td> <td> 6.34e+13</td> <td> 6.34e+13</td>\n",
       "</tr>\n",
       "<tr>\n",
       "  <th>Specialization_International Business</th>           <td> -2.15e+14</td> <td> 7.53e+06</td> <td>-2.85e+07</td> <td> 0.000</td> <td>-2.15e+14</td> <td>-2.15e+14</td>\n",
       "</tr>\n",
       "<tr>\n",
       "  <th>Specialization_Marketing Management</th>             <td> 8.477e+13</td> <td> 5.21e+06</td> <td> 1.63e+07</td> <td> 0.000</td> <td> 8.48e+13</td> <td> 8.48e+13</td>\n",
       "</tr>\n",
       "<tr>\n",
       "  <th>Specialization_Media and Advertising</th>            <td> -2.02e+14</td> <td> 7.12e+06</td> <td>-2.83e+07</td> <td> 0.000</td> <td>-2.02e+14</td> <td>-2.02e+14</td>\n",
       "</tr>\n",
       "<tr>\n",
       "  <th>Specialization_Operations Management</th>            <td>  1.13e+14</td> <td> 5.68e+06</td> <td> 1.99e+07</td> <td> 0.000</td> <td> 1.13e+14</td> <td> 1.13e+14</td>\n",
       "</tr>\n",
       "<tr>\n",
       "  <th>Specialization_Others</th>                           <td> 8.338e+13</td> <td> 5.24e+06</td> <td> 1.59e+07</td> <td> 0.000</td> <td> 8.34e+13</td> <td> 8.34e+13</td>\n",
       "</tr>\n",
       "<tr>\n",
       "  <th>Specialization_Retail Management</th>                <td>-2.235e+13</td> <td> 9.48e+06</td> <td>-2.36e+06</td> <td> 0.000</td> <td>-2.23e+13</td> <td>-2.23e+13</td>\n",
       "</tr>\n",
       "<tr>\n",
       "  <th>Specialization_Rural and Agribusiness</th>           <td> 3.865e+14</td> <td>    1e+07</td> <td> 3.85e+07</td> <td> 0.000</td> <td> 3.87e+14</td> <td> 3.87e+14</td>\n",
       "</tr>\n",
       "<tr>\n",
       "  <th>Specialization_Services Excellence</th>              <td> 2.178e+14</td> <td> 1.27e+07</td> <td> 1.71e+07</td> <td> 0.000</td> <td> 2.18e+14</td> <td> 2.18e+14</td>\n",
       "</tr>\n",
       "<tr>\n",
       "  <th>Specialization_Supply Chain Management</th>          <td> 1.647e+14</td> <td>  6.1e+06</td> <td>  2.7e+07</td> <td> 0.000</td> <td> 1.65e+14</td> <td> 1.65e+14</td>\n",
       "</tr>\n",
       "<tr>\n",
       "  <th>Specialization_Travel and Tourism</th>               <td>-3.831e+13</td> <td> 7.35e+06</td> <td>-5.21e+06</td> <td> 0.000</td> <td>-3.83e+13</td> <td>-3.83e+13</td>\n",
       "</tr>\n",
       "<tr>\n",
       "  <th>Last Notable Activity_Email Bounced</th>             <td>-2.424e+14</td> <td>  1.7e+07</td> <td>-1.43e+07</td> <td> 0.000</td> <td>-2.42e+14</td> <td>-2.42e+14</td>\n",
       "</tr>\n",
       "<tr>\n",
       "  <th>Last Notable Activity_Email Link Clicked</th>        <td> 7.389e+14</td> <td> 1.59e+07</td> <td> 4.66e+07</td> <td> 0.000</td> <td> 7.39e+14</td> <td> 7.39e+14</td>\n",
       "</tr>\n",
       "<tr>\n",
       "  <th>Last Notable Activity_Email Marked Spam</th>         <td>-8.784e+14</td> <td> 3.11e+07</td> <td>-2.82e+07</td> <td> 0.000</td> <td>-8.78e+14</td> <td>-8.78e+14</td>\n",
       "</tr>\n",
       "<tr>\n",
       "  <th>Last Notable Activity_Email Opened</th>              <td> 3.328e+14</td> <td> 1.31e+07</td> <td> 2.53e+07</td> <td> 0.000</td> <td> 3.33e+14</td> <td> 3.33e+14</td>\n",
       "</tr>\n",
       "<tr>\n",
       "  <th>Last Notable Activity_Email Received</th>            <td> 5.748e+14</td> <td> 8.89e+07</td> <td> 6.47e+06</td> <td> 0.000</td> <td> 5.75e+14</td> <td> 5.75e+14</td>\n",
       "</tr>\n",
       "<tr>\n",
       "  <th>Last Notable Activity_Form Submitted on Website</th> <td> -1.04e+15</td> <td> 6.39e+07</td> <td>-1.63e+07</td> <td> 0.000</td> <td>-1.04e+15</td> <td>-1.04e+15</td>\n",
       "</tr>\n",
       "<tr>\n",
       "  <th>Last Notable Activity_Had a Phone Conversation</th>  <td> 1.116e+15</td> <td> 3.64e+07</td> <td> 3.07e+07</td> <td> 0.000</td> <td> 1.12e+15</td> <td> 1.12e+15</td>\n",
       "</tr>\n",
       "<tr>\n",
       "  <th>Last Notable Activity_Modified</th>                  <td>-1.964e+14</td> <td> 1.27e+07</td> <td>-1.55e+07</td> <td> 0.000</td> <td>-1.96e+14</td> <td>-1.96e+14</td>\n",
       "</tr>\n",
       "<tr>\n",
       "  <th>Last Notable Activity_Olark Chat Conversation</th>   <td>-7.639e+13</td> <td>  1.4e+07</td> <td>-5.45e+06</td> <td> 0.000</td> <td>-7.64e+13</td> <td>-7.64e+13</td>\n",
       "</tr>\n",
       "<tr>\n",
       "  <th>Last Notable Activity_Page Visited on Website</th>   <td>-1.353e+14</td> <td>  1.4e+07</td> <td>-9.63e+06</td> <td> 0.000</td> <td>-1.35e+14</td> <td>-1.35e+14</td>\n",
       "</tr>\n",
       "<tr>\n",
       "  <th>Last Notable Activity_Resubscribed to emails</th>    <td> 6.932e+14</td> <td> 3.86e+07</td> <td>  1.8e+07</td> <td> 0.000</td> <td> 6.93e+14</td> <td> 6.93e+14</td>\n",
       "</tr>\n",
       "<tr>\n",
       "  <th>Last Notable Activity_SMS Sent</th>                  <td>-1.383e+15</td> <td> 1.32e+07</td> <td>-1.05e+08</td> <td> 0.000</td> <td>-1.38e+15</td> <td>-1.38e+15</td>\n",
       "</tr>\n",
       "<tr>\n",
       "  <th>Last Notable Activity_Unreachable</th>               <td>-1.056e+13</td> <td> 2.07e+07</td> <td> -5.1e+05</td> <td> 0.000</td> <td>-1.06e+13</td> <td>-1.06e+13</td>\n",
       "</tr>\n",
       "<tr>\n",
       "  <th>Last Notable Activity_Unsubscribed</th>              <td> 2.004e+14</td> <td> 2.45e+07</td> <td> 8.19e+06</td> <td> 0.000</td> <td>    2e+14</td> <td>    2e+14</td>\n",
       "</tr>\n",
       "</table>"
      ],
      "text/plain": [
       "<class 'statsmodels.iolib.summary.Summary'>\n",
       "\"\"\"\n",
       "                 Generalized Linear Model Regression Results                  \n",
       "==============================================================================\n",
       "Dep. Variable:              Converted   No. Observations:                 6333\n",
       "Model:                            GLM   Df Residuals:                     6261\n",
       "Model Family:                Binomial   Df Model:                           71\n",
       "Link Function:                  logit   Scale:                          1.0000\n",
       "Method:                          IRLS   Log-Likelihood:                    nan\n",
       "Date:                Mon, 26 Aug 2019   Deviance:                          nan\n",
       "Time:                        06:01:56   Pearson chi2:                 8.21e+18\n",
       "No. Iterations:                   100   Covariance Type:             nonrobust\n",
       "===================================================================================================================\n",
       "                                                      coef    std err          z      P>|z|      [0.025      0.975]\n",
       "-------------------------------------------------------------------------------------------------------------------\n",
       "const                                            -3.06e+14   7.53e+07  -4.06e+06      0.000   -3.06e+14   -3.06e+14\n",
       "TotalVisits                                      1.898e+14   1.29e+06   1.47e+08      0.000     1.9e+14     1.9e+14\n",
       "Total Time Spent on Website                      8.328e+14   9.78e+05   8.52e+08      0.000    8.33e+14    8.33e+14\n",
       "Page Views Per Visit                            -1.888e+14   1.39e+06  -1.36e+08      0.000   -1.89e+14   -1.89e+14\n",
       "A free copy of Mastering The Interview          -8.437e+11   1.25e+06  -6.76e+05      0.000   -8.44e+11   -8.44e+11\n",
       "Lead Origin_Landing Page Submission               3.14e+14   3.36e+06   9.33e+07      0.000    3.14e+14    3.14e+14\n",
       "Lead Origin_Lead Add Form                        4.425e+15   4.76e+07    9.3e+07      0.000    4.42e+15    4.42e+15\n",
       "Lead Origin_Lead Import                          4.089e+15   6.89e+07   5.94e+07      0.000    4.09e+15    4.09e+15\n",
       "Lead Source_Direct Traffic                       4.534e+15   6.74e+07   6.73e+07      0.000    4.53e+15    4.53e+15\n",
       "Lead Source_Facebook                             1.008e+15   9.52e+07   1.06e+07      0.000    1.01e+15    1.01e+15\n",
       "Lead Source_Google                                4.67e+15   6.73e+07   6.94e+07      0.000    4.67e+15    4.67e+15\n",
       "Lead Source_Live Chat                            6.917e+15   8.24e+07    8.4e+07      0.000    6.92e+15    6.92e+15\n",
       "Lead Source_NC_EDM                               3.373e+15    9.5e+07   3.55e+07      0.000    3.37e+15    3.37e+15\n",
       "Lead Source_Olark Chat                           4.111e+15   6.74e+07    6.1e+07      0.000    4.11e+15    4.11e+15\n",
       "Lead Source_Organic Search                       4.662e+15   6.74e+07   6.92e+07      0.000    4.66e+15    4.66e+15\n",
       "Lead Source_Pay per Click Ads                    1.998e+12   9.52e+07    2.1e+04      0.000       2e+12       2e+12\n",
       "Lead Source_Press_Release                          68.3104   3.85e-06   1.77e+07      0.000      68.310      68.310\n",
       "Lead Source_Reference                            2.283e+15   4.78e+07   4.78e+07      0.000    2.28e+15    2.28e+15\n",
       "Lead Source_Referral Sites                       4.809e+15   6.78e+07    7.1e+07      0.000    4.81e+15    4.81e+15\n",
       "Lead Source_Social Media                         4.494e+15   8.26e+07   5.44e+07      0.000    4.49e+15    4.49e+15\n",
       "Lead Source_WeLearn                              7.699e+15   9.52e+07   8.09e+07      0.000     7.7e+15     7.7e+15\n",
       "Lead Source_Welingak Website                     3.072e+15   4.82e+07   6.37e+07      0.000    3.07e+15    3.07e+15\n",
       "Lead Source_bing                                 6.264e+14   7.53e+07   8.32e+06      0.000    6.26e+14    6.26e+14\n",
       "Lead Source_blog                                -4.742e+14   9.52e+07  -4.98e+06      0.000   -4.74e+14   -4.74e+14\n",
       "Lead Source_google                               4.753e+14    7.8e+07    6.1e+06      0.000    4.75e+14    4.75e+14\n",
       "Lead Source_testone                              4.446e+14   9.52e+07   4.67e+06      0.000    4.45e+14    4.45e+14\n",
       "Lead Source_welearnblog_Home                      4.45e+15   9.51e+07   4.68e+07      0.000    4.45e+15    4.45e+15\n",
       "Lead Source_youtubechannel                      -4.691e+13   9.58e+07  -4.89e+05      0.000   -4.69e+13   -4.69e+13\n",
       "Last Activity_Converted to Lead                 -4.568e+15   4.77e+07  -9.58e+07      0.000   -4.57e+15   -4.57e+15\n",
       "Last Activity_Email Bounced                     -5.075e+15   4.78e+07  -1.06e+08      0.000   -5.07e+15   -5.07e+15\n",
       "Last Activity_Email Link Clicked                -4.914e+15   4.82e+07  -1.02e+08      0.000   -4.91e+15   -4.91e+15\n",
       "Last Activity_Email Marked Spam                 -8.784e+14   3.11e+07  -2.82e+07      0.000   -8.78e+14   -8.78e+14\n",
       "Last Activity_Email Opened                      -4.685e+15   4.76e+07  -9.84e+07      0.000   -4.69e+15   -4.69e+15\n",
       "Last Activity_Email Received                    -1.316e+15   8.22e+07   -1.6e+07      0.000   -1.32e+15   -1.32e+15\n",
       "Last Activity_Form Submitted on Website         -4.664e+15   4.81e+07  -9.69e+07      0.000   -4.66e+15   -4.66e+15\n",
       "Last Activity_Had a Phone Conversation          -5.324e+15   5.62e+07  -9.47e+07      0.000   -5.32e+15   -5.32e+15\n",
       "Last Activity_Olark Chat Conversation           -3.952e+15   4.76e+07  -8.31e+07      0.000   -3.95e+15   -3.95e+15\n",
       "Last Activity_Page Visited on Website           -4.644e+15   4.77e+07  -9.73e+07      0.000   -4.64e+15   -4.64e+15\n",
       "Last Activity_Resubscribed to emails             6.932e+14   3.86e+07    1.8e+07      0.000    6.93e+14    6.93e+14\n",
       "Last Activity_SMS Sent                          -4.081e+15   4.76e+07  -8.57e+07      0.000   -4.08e+15   -4.08e+15\n",
       "Last Activity_Unreachable                       -4.684e+15   4.87e+07  -9.62e+07      0.000   -4.68e+15   -4.68e+15\n",
       "Last Activity_Unsubscribed                      -4.837e+15   5.13e+07  -9.42e+07      0.000   -4.84e+15   -4.84e+15\n",
       "Last Activity_View in browser link Clicked      -7.883e+15   5.82e+07  -1.35e+08      0.000   -7.88e+15   -7.88e+15\n",
       "Last Activity_Visited Booth in Tradeshow        -7.982e+15   8.23e+07   -9.7e+07      0.000   -7.98e+15   -7.98e+15\n",
       "Specialization_Business Administration           1.288e+14   5.95e+06   2.16e+07      0.000    1.29e+14    1.29e+14\n",
       "Specialization_E-Business                        6.307e+13   1.15e+07   5.48e+06      0.000    6.31e+13    6.31e+13\n",
       "Specialization_E-COMMERCE                       -3.245e+14   9.11e+06  -3.56e+07      0.000   -3.24e+14   -3.24e+14\n",
       "Specialization_Finance Management               -2.799e+14   5.08e+06  -5.51e+07      0.000    -2.8e+14    -2.8e+14\n",
       "Specialization_Healthcare Management             5.956e+13   7.61e+06   7.83e+06      0.000    5.96e+13    5.96e+13\n",
       "Specialization_Hospitality Management           -5.506e+14   8.97e+06  -6.14e+07      0.000   -5.51e+14   -5.51e+14\n",
       "Specialization_Human Resource Management         7.659e+13   5.17e+06   1.48e+07      0.000    7.66e+13    7.66e+13\n",
       "Specialization_IT Projects Management            6.342e+13   6.03e+06   1.05e+07      0.000    6.34e+13    6.34e+13\n",
       "Specialization_International Business            -2.15e+14   7.53e+06  -2.85e+07      0.000   -2.15e+14   -2.15e+14\n",
       "Specialization_Marketing Management              8.477e+13   5.21e+06   1.63e+07      0.000    8.48e+13    8.48e+13\n",
       "Specialization_Media and Advertising             -2.02e+14   7.12e+06  -2.83e+07      0.000   -2.02e+14   -2.02e+14\n",
       "Specialization_Operations Management              1.13e+14   5.68e+06   1.99e+07      0.000    1.13e+14    1.13e+14\n",
       "Specialization_Others                            8.338e+13   5.24e+06   1.59e+07      0.000    8.34e+13    8.34e+13\n",
       "Specialization_Retail Management                -2.235e+13   9.48e+06  -2.36e+06      0.000   -2.23e+13   -2.23e+13\n",
       "Specialization_Rural and Agribusiness            3.865e+14      1e+07   3.85e+07      0.000    3.87e+14    3.87e+14\n",
       "Specialization_Services Excellence               2.178e+14   1.27e+07   1.71e+07      0.000    2.18e+14    2.18e+14\n",
       "Specialization_Supply Chain Management           1.647e+14    6.1e+06    2.7e+07      0.000    1.65e+14    1.65e+14\n",
       "Specialization_Travel and Tourism               -3.831e+13   7.35e+06  -5.21e+06      0.000   -3.83e+13   -3.83e+13\n",
       "Last Notable Activity_Email Bounced             -2.424e+14    1.7e+07  -1.43e+07      0.000   -2.42e+14   -2.42e+14\n",
       "Last Notable Activity_Email Link Clicked         7.389e+14   1.59e+07   4.66e+07      0.000    7.39e+14    7.39e+14\n",
       "Last Notable Activity_Email Marked Spam         -8.784e+14   3.11e+07  -2.82e+07      0.000   -8.78e+14   -8.78e+14\n",
       "Last Notable Activity_Email Opened               3.328e+14   1.31e+07   2.53e+07      0.000    3.33e+14    3.33e+14\n",
       "Last Notable Activity_Email Received             5.748e+14   8.89e+07   6.47e+06      0.000    5.75e+14    5.75e+14\n",
       "Last Notable Activity_Form Submitted on Website  -1.04e+15   6.39e+07  -1.63e+07      0.000   -1.04e+15   -1.04e+15\n",
       "Last Notable Activity_Had a Phone Conversation   1.116e+15   3.64e+07   3.07e+07      0.000    1.12e+15    1.12e+15\n",
       "Last Notable Activity_Modified                  -1.964e+14   1.27e+07  -1.55e+07      0.000   -1.96e+14   -1.96e+14\n",
       "Last Notable Activity_Olark Chat Conversation   -7.639e+13    1.4e+07  -5.45e+06      0.000   -7.64e+13   -7.64e+13\n",
       "Last Notable Activity_Page Visited on Website   -1.353e+14    1.4e+07  -9.63e+06      0.000   -1.35e+14   -1.35e+14\n",
       "Last Notable Activity_Resubscribed to emails     6.932e+14   3.86e+07    1.8e+07      0.000    6.93e+14    6.93e+14\n",
       "Last Notable Activity_SMS Sent                  -1.383e+15   1.32e+07  -1.05e+08      0.000   -1.38e+15   -1.38e+15\n",
       "Last Notable Activity_Unreachable               -1.056e+13   2.07e+07   -5.1e+05      0.000   -1.06e+13   -1.06e+13\n",
       "Last Notable Activity_Unsubscribed               2.004e+14   2.45e+07   8.19e+06      0.000       2e+14       2e+14\n",
       "===================================================================================================================\n",
       "\"\"\""
      ]
     },
     "execution_count": 43,
     "metadata": {},
     "output_type": "execute_result"
    }
   ],
   "source": [
    "# Logistic regression model\n",
    "logm1 = sm.GLM(y_train,(sm.add_constant(X_train)), family = sm.families.Binomial())\n",
    "logm1.fit().summary()"
   ]
  },
  {
   "cell_type": "code",
   "execution_count": null,
   "metadata": {},
   "outputs": [],
   "source": []
  },
  {
   "cell_type": "markdown",
   "metadata": {},
   "source": [
    "### Step 8: Feature Selection Using RFE"
   ]
  },
  {
   "cell_type": "code",
   "execution_count": 44,
   "metadata": {},
   "outputs": [],
   "source": [
    "logreg = LogisticRegression()\n",
    "\n",
    "rfe = RFE(logreg, 15)             # running RFE with 13 variables as output\n",
    "rfe = rfe.fit(X_train, y_train)"
   ]
  },
  {
   "cell_type": "code",
   "execution_count": 45,
   "metadata": {},
   "outputs": [
    {
     "data": {
      "text/plain": [
       "array([False,  True, False, False,  True,  True,  True, False, False,\n",
       "       False, False, False,  True, False, False, False, False, False,\n",
       "       False, False,  True, False, False, False, False, False, False,\n",
       "       False,  True, False, False,  True,  True, False,  True,  True,\n",
       "       False, False, False, False, False, False, False, False, False,\n",
       "       False, False, False, False, False, False, False, False, False,\n",
       "       False,  True, False, False, False, False, False, False, False,\n",
       "       False, False, False, False,  True, False, False, False, False,\n",
       "        True,  True, False])"
      ]
     },
     "execution_count": 45,
     "metadata": {},
     "output_type": "execute_result"
    }
   ],
   "source": [
    "rfe.support_"
   ]
  },
  {
   "cell_type": "code",
   "execution_count": 46,
   "metadata": {},
   "outputs": [
    {
     "data": {
      "text/plain": [
       "[('TotalVisits', False, 27),\n",
       " ('Total Time Spent on Website', True, 1),\n",
       " ('Page Views Per Visit', False, 28),\n",
       " ('A free copy of Mastering The Interview', False, 47),\n",
       " ('Lead Origin_Landing Page Submission', True, 1),\n",
       " ('Lead Origin_Lead Add Form', True, 1),\n",
       " ('Lead Origin_Lead Import', True, 1),\n",
       " ('Lead Source_Direct Traffic', False, 13),\n",
       " ('Lead Source_Facebook', False, 39),\n",
       " ('Lead Source_Google', False, 16),\n",
       " ('Lead Source_Live Chat', False, 44),\n",
       " ('Lead Source_NC_EDM', False, 21),\n",
       " ('Lead Source_Olark Chat', True, 1),\n",
       " ('Lead Source_Organic Search', False, 15),\n",
       " ('Lead Source_Pay per Click Ads', False, 37),\n",
       " ('Lead Source_Press_Release', False, 61),\n",
       " ('Lead Source_Reference', False, 4),\n",
       " ('Lead Source_Referral Sites', False, 17),\n",
       " ('Lead Source_Social Media', False, 20),\n",
       " ('Lead Source_WeLearn', False, 29),\n",
       " ('Lead Source_Welingak Website', True, 1),\n",
       " ('Lead Source_bing', False, 14),\n",
       " ('Lead Source_blog', False, 18),\n",
       " ('Lead Source_google', False, 43),\n",
       " ('Lead Source_testone', False, 42),\n",
       " ('Lead Source_welearnblog_Home', False, 26),\n",
       " ('Lead Source_youtubechannel', False, 35),\n",
       " ('Last Activity_Converted to Lead', False, 32),\n",
       " ('Last Activity_Email Bounced', True, 1),\n",
       " ('Last Activity_Email Link Clicked', False, 50),\n",
       " ('Last Activity_Email Marked Spam', False, 36),\n",
       " ('Last Activity_Email Opened', True, 1),\n",
       " ('Last Activity_Email Received', True, 1),\n",
       " ('Last Activity_Form Submitted on Website', False, 30),\n",
       " ('Last Activity_Had a Phone Conversation', True, 1),\n",
       " ('Last Activity_Olark Chat Conversation', True, 1),\n",
       " ('Last Activity_Page Visited on Website', False, 31),\n",
       " ('Last Activity_Resubscribed to emails', False, 3),\n",
       " ('Last Activity_SMS Sent', False, 2),\n",
       " ('Last Activity_Unreachable', False, 41),\n",
       " ('Last Activity_Unsubscribed', False, 12),\n",
       " ('Last Activity_View in browser link Clicked', False, 22),\n",
       " ('Last Activity_Visited Booth in Tradeshow', False, 49),\n",
       " ('Specialization_Business Administration', False, 56),\n",
       " ('Specialization_E-Business', False, 40),\n",
       " ('Specialization_E-COMMERCE', False, 53),\n",
       " ('Specialization_Finance Management', False, 46),\n",
       " ('Specialization_Healthcare Management', False, 54),\n",
       " ('Specialization_Hospitality Management', False, 6),\n",
       " ('Specialization_Human Resource Management', False, 60),\n",
       " ('Specialization_IT Projects Management', False, 59),\n",
       " ('Specialization_International Business', False, 25),\n",
       " ('Specialization_Marketing Management', False, 51),\n",
       " ('Specialization_Media and Advertising', False, 23),\n",
       " ('Specialization_Operations Management', False, 58),\n",
       " ('Specialization_Others', True, 1),\n",
       " ('Specialization_Retail Management', False, 24),\n",
       " ('Specialization_Rural and Agribusiness', False, 33),\n",
       " ('Specialization_Services Excellence', False, 55),\n",
       " ('Specialization_Supply Chain Management', False, 52),\n",
       " ('Specialization_Travel and Tourism', False, 57),\n",
       " ('Last Notable Activity_Email Bounced', False, 45),\n",
       " ('Last Notable Activity_Email Link Clicked', False, 11),\n",
       " ('Last Notable Activity_Email Marked Spam', False, 38),\n",
       " ('Last Notable Activity_Email Opened', False, 9),\n",
       " ('Last Notable Activity_Email Received', False, 19),\n",
       " ('Last Notable Activity_Form Submitted on Website', False, 48),\n",
       " ('Last Notable Activity_Had a Phone Conversation', True, 1),\n",
       " ('Last Notable Activity_Modified', False, 7),\n",
       " ('Last Notable Activity_Olark Chat Conversation', False, 8),\n",
       " ('Last Notable Activity_Page Visited on Website', False, 10),\n",
       " ('Last Notable Activity_Resubscribed to emails', False, 5),\n",
       " ('Last Notable Activity_SMS Sent', True, 1),\n",
       " ('Last Notable Activity_Unreachable', True, 1),\n",
       " ('Last Notable Activity_Unsubscribed', False, 34)]"
      ]
     },
     "execution_count": 46,
     "metadata": {},
     "output_type": "execute_result"
    }
   ],
   "source": [
    "list(zip(X_train.columns, rfe.support_, rfe.ranking_))"
   ]
  },
  {
   "cell_type": "code",
   "execution_count": 47,
   "metadata": {},
   "outputs": [
    {
     "data": {
      "text/plain": [
       "Index(['Total Time Spent on Website', 'Lead Origin_Landing Page Submission',\n",
       "       'Lead Origin_Lead Add Form', 'Lead Origin_Lead Import',\n",
       "       'Lead Source_Olark Chat', 'Lead Source_Welingak Website',\n",
       "       'Last Activity_Email Bounced', 'Last Activity_Email Opened',\n",
       "       'Last Activity_Email Received',\n",
       "       'Last Activity_Had a Phone Conversation',\n",
       "       'Last Activity_Olark Chat Conversation', 'Specialization_Others',\n",
       "       'Last Notable Activity_Had a Phone Conversation',\n",
       "       'Last Notable Activity_SMS Sent', 'Last Notable Activity_Unreachable'],\n",
       "      dtype='object')"
      ]
     },
     "execution_count": 47,
     "metadata": {},
     "output_type": "execute_result"
    }
   ],
   "source": [
    "col = X_train.columns[rfe.support_]\n",
    "col"
   ]
  },
  {
   "cell_type": "markdown",
   "metadata": {},
   "source": [
    "##### Assessing the model with StatsModels"
   ]
  },
  {
   "cell_type": "code",
   "execution_count": 48,
   "metadata": {},
   "outputs": [
    {
     "data": {
      "text/html": [
       "<table class=\"simpletable\">\n",
       "<caption>Generalized Linear Model Regression Results</caption>\n",
       "<tr>\n",
       "  <th>Dep. Variable:</th>      <td>Converted</td>    <th>  No. Observations:  </th>  <td>  6333</td>  \n",
       "</tr>\n",
       "<tr>\n",
       "  <th>Model:</th>                 <td>GLM</td>       <th>  Df Residuals:      </th>  <td>  6317</td>  \n",
       "</tr>\n",
       "<tr>\n",
       "  <th>Model Family:</th>       <td>Binomial</td>     <th>  Df Model:          </th>  <td>    15</td>  \n",
       "</tr>\n",
       "<tr>\n",
       "  <th>Link Function:</th>        <td>logit</td>      <th>  Scale:             </th> <td>  1.0000</td> \n",
       "</tr>\n",
       "<tr>\n",
       "  <th>Method:</th>               <td>IRLS</td>       <th>  Log-Likelihood:    </th> <td> -2761.9</td> \n",
       "</tr>\n",
       "<tr>\n",
       "  <th>Date:</th>           <td>Mon, 26 Aug 2019</td> <th>  Deviance:          </th> <td>  5523.7</td> \n",
       "</tr>\n",
       "<tr>\n",
       "  <th>Time:</th>               <td>06:01:58</td>     <th>  Pearson chi2:      </th> <td>6.25e+03</td> \n",
       "</tr>\n",
       "<tr>\n",
       "  <th>No. Iterations:</th>        <td>19</td>        <th>  Covariance Type:   </th> <td>nonrobust</td>\n",
       "</tr>\n",
       "</table>\n",
       "<table class=\"simpletable\">\n",
       "<tr>\n",
       "                         <td></td>                           <th>coef</th>     <th>std err</th>      <th>z</th>      <th>P>|z|</th>  <th>[0.025</th>    <th>0.975]</th>  \n",
       "</tr>\n",
       "<tr>\n",
       "  <th>const</th>                                          <td>   -0.5676</td> <td>    0.134</td> <td>   -4.229</td> <td> 0.000</td> <td>   -0.831</td> <td>   -0.305</td>\n",
       "</tr>\n",
       "<tr>\n",
       "  <th>Total Time Spent on Website</th>                    <td>    1.0968</td> <td>    0.039</td> <td>   27.994</td> <td> 0.000</td> <td>    1.020</td> <td>    1.174</td>\n",
       "</tr>\n",
       "<tr>\n",
       "  <th>Lead Origin_Landing Page Submission</th>            <td>   -1.2350</td> <td>    0.126</td> <td>   -9.791</td> <td> 0.000</td> <td>   -1.482</td> <td>   -0.988</td>\n",
       "</tr>\n",
       "<tr>\n",
       "  <th>Lead Origin_Lead Add Form</th>                      <td>    3.4829</td> <td>    0.235</td> <td>   14.825</td> <td> 0.000</td> <td>    3.022</td> <td>    3.943</td>\n",
       "</tr>\n",
       "<tr>\n",
       "  <th>Lead Origin_Lead Import</th>                        <td>    1.2305</td> <td>    0.482</td> <td>    2.553</td> <td> 0.011</td> <td>    0.286</td> <td>    2.175</td>\n",
       "</tr>\n",
       "<tr>\n",
       "  <th>Lead Source_Olark Chat</th>                         <td>    1.1312</td> <td>    0.121</td> <td>    9.317</td> <td> 0.000</td> <td>    0.893</td> <td>    1.369</td>\n",
       "</tr>\n",
       "<tr>\n",
       "  <th>Lead Source_Welingak Website</th>                   <td>    3.0055</td> <td>    1.039</td> <td>    2.893</td> <td> 0.004</td> <td>    0.970</td> <td>    5.041</td>\n",
       "</tr>\n",
       "<tr>\n",
       "  <th>Last Activity_Email Bounced</th>                    <td>   -1.2591</td> <td>    0.339</td> <td>   -3.716</td> <td> 0.000</td> <td>   -1.923</td> <td>   -0.595</td>\n",
       "</tr>\n",
       "<tr>\n",
       "  <th>Last Activity_Email Opened</th>                     <td>    0.6381</td> <td>    0.090</td> <td>    7.096</td> <td> 0.000</td> <td>    0.462</td> <td>    0.814</td>\n",
       "</tr>\n",
       "<tr>\n",
       "  <th>Last Activity_Email Received</th>                   <td>   21.3553</td> <td> 1.22e+04</td> <td>    0.002</td> <td> 0.999</td> <td>-2.38e+04</td> <td> 2.39e+04</td>\n",
       "</tr>\n",
       "<tr>\n",
       "  <th>Last Activity_Had a Phone Conversation</th>         <td>    2.1437</td> <td>    0.978</td> <td>    2.192</td> <td> 0.028</td> <td>    0.227</td> <td>    4.061</td>\n",
       "</tr>\n",
       "<tr>\n",
       "  <th>Last Activity_Olark Chat Conversation</th>          <td>   -1.0340</td> <td>    0.174</td> <td>   -5.952</td> <td> 0.000</td> <td>   -1.374</td> <td>   -0.693</td>\n",
       "</tr>\n",
       "<tr>\n",
       "  <th>Specialization_Others</th>                          <td>   -1.3904</td> <td>    0.122</td> <td>  -11.391</td> <td> 0.000</td> <td>   -1.630</td> <td>   -1.151</td>\n",
       "</tr>\n",
       "<tr>\n",
       "  <th>Last Notable Activity_Had a Phone Conversation</th> <td>    1.5604</td> <td>    1.467</td> <td>    1.064</td> <td> 0.287</td> <td>   -1.315</td> <td>    4.436</td>\n",
       "</tr>\n",
       "<tr>\n",
       "  <th>Last Notable Activity_SMS Sent</th>                 <td>    2.0150</td> <td>    0.099</td> <td>   20.329</td> <td> 0.000</td> <td>    1.821</td> <td>    2.209</td>\n",
       "</tr>\n",
       "<tr>\n",
       "  <th>Last Notable Activity_Unreachable</th>              <td>    2.2176</td> <td>    0.508</td> <td>    4.366</td> <td> 0.000</td> <td>    1.222</td> <td>    3.213</td>\n",
       "</tr>\n",
       "</table>"
      ],
      "text/plain": [
       "<class 'statsmodels.iolib.summary.Summary'>\n",
       "\"\"\"\n",
       "                 Generalized Linear Model Regression Results                  \n",
       "==============================================================================\n",
       "Dep. Variable:              Converted   No. Observations:                 6333\n",
       "Model:                            GLM   Df Residuals:                     6317\n",
       "Model Family:                Binomial   Df Model:                           15\n",
       "Link Function:                  logit   Scale:                          1.0000\n",
       "Method:                          IRLS   Log-Likelihood:                -2761.9\n",
       "Date:                Mon, 26 Aug 2019   Deviance:                       5523.7\n",
       "Time:                        06:01:58   Pearson chi2:                 6.25e+03\n",
       "No. Iterations:                    19   Covariance Type:             nonrobust\n",
       "==================================================================================================================\n",
       "                                                     coef    std err          z      P>|z|      [0.025      0.975]\n",
       "------------------------------------------------------------------------------------------------------------------\n",
       "const                                             -0.5676      0.134     -4.229      0.000      -0.831      -0.305\n",
       "Total Time Spent on Website                        1.0968      0.039     27.994      0.000       1.020       1.174\n",
       "Lead Origin_Landing Page Submission               -1.2350      0.126     -9.791      0.000      -1.482      -0.988\n",
       "Lead Origin_Lead Add Form                          3.4829      0.235     14.825      0.000       3.022       3.943\n",
       "Lead Origin_Lead Import                            1.2305      0.482      2.553      0.011       0.286       2.175\n",
       "Lead Source_Olark Chat                             1.1312      0.121      9.317      0.000       0.893       1.369\n",
       "Lead Source_Welingak Website                       3.0055      1.039      2.893      0.004       0.970       5.041\n",
       "Last Activity_Email Bounced                       -1.2591      0.339     -3.716      0.000      -1.923      -0.595\n",
       "Last Activity_Email Opened                         0.6381      0.090      7.096      0.000       0.462       0.814\n",
       "Last Activity_Email Received                      21.3553   1.22e+04      0.002      0.999   -2.38e+04    2.39e+04\n",
       "Last Activity_Had a Phone Conversation             2.1437      0.978      2.192      0.028       0.227       4.061\n",
       "Last Activity_Olark Chat Conversation             -1.0340      0.174     -5.952      0.000      -1.374      -0.693\n",
       "Specialization_Others                             -1.3904      0.122    -11.391      0.000      -1.630      -1.151\n",
       "Last Notable Activity_Had a Phone Conversation     1.5604      1.467      1.064      0.287      -1.315       4.436\n",
       "Last Notable Activity_SMS Sent                     2.0150      0.099     20.329      0.000       1.821       2.209\n",
       "Last Notable Activity_Unreachable                  2.2176      0.508      4.366      0.000       1.222       3.213\n",
       "==================================================================================================================\n",
       "\"\"\""
      ]
     },
     "execution_count": 48,
     "metadata": {},
     "output_type": "execute_result"
    }
   ],
   "source": [
    "X_train_sm = sm.add_constant(X_train[col])\n",
    "logm2 = sm.GLM(y_train,X_train_sm, family = sm.families.Binomial())\n",
    "res = logm2.fit()\n",
    "res.summary()"
   ]
  },
  {
   "cell_type": "code",
   "execution_count": 49,
   "metadata": {},
   "outputs": [],
   "source": [
    "# as the p-value of 'Last Activity_Email Received' is more than 0.05 we will drop it.\n",
    "\n",
    "X_train_sm_1 = X_train_sm.drop(['Last Activity_Email Received'], axis = 1)"
   ]
  },
  {
   "cell_type": "code",
   "execution_count": null,
   "metadata": {},
   "outputs": [],
   "source": []
  },
  {
   "cell_type": "code",
   "execution_count": 50,
   "metadata": {},
   "outputs": [
    {
     "data": {
      "text/html": [
       "<table class=\"simpletable\">\n",
       "<caption>Generalized Linear Model Regression Results</caption>\n",
       "<tr>\n",
       "  <th>Dep. Variable:</th>      <td>Converted</td>    <th>  No. Observations:  </th>  <td>  6333</td>  \n",
       "</tr>\n",
       "<tr>\n",
       "  <th>Model:</th>                 <td>GLM</td>       <th>  Df Residuals:      </th>  <td>  6318</td>  \n",
       "</tr>\n",
       "<tr>\n",
       "  <th>Model Family:</th>       <td>Binomial</td>     <th>  Df Model:          </th>  <td>    14</td>  \n",
       "</tr>\n",
       "<tr>\n",
       "  <th>Link Function:</th>        <td>logit</td>      <th>  Scale:             </th> <td>  1.0000</td> \n",
       "</tr>\n",
       "<tr>\n",
       "  <th>Method:</th>               <td>IRLS</td>       <th>  Log-Likelihood:    </th> <td> -2764.2</td> \n",
       "</tr>\n",
       "<tr>\n",
       "  <th>Date:</th>           <td>Mon, 26 Aug 2019</td> <th>  Deviance:          </th> <td>  5528.3</td> \n",
       "</tr>\n",
       "<tr>\n",
       "  <th>Time:</th>               <td>06:01:58</td>     <th>  Pearson chi2:      </th> <td>6.25e+03</td> \n",
       "</tr>\n",
       "<tr>\n",
       "  <th>No. Iterations:</th>         <td>7</td>        <th>  Covariance Type:   </th> <td>nonrobust</td>\n",
       "</tr>\n",
       "</table>\n",
       "<table class=\"simpletable\">\n",
       "<tr>\n",
       "                         <td></td>                           <th>coef</th>     <th>std err</th>      <th>z</th>      <th>P>|z|</th>  <th>[0.025</th>    <th>0.975]</th>  \n",
       "</tr>\n",
       "<tr>\n",
       "  <th>const</th>                                          <td>   -0.5628</td> <td>    0.134</td> <td>   -4.196</td> <td> 0.000</td> <td>   -0.826</td> <td>   -0.300</td>\n",
       "</tr>\n",
       "<tr>\n",
       "  <th>Total Time Spent on Website</th>                    <td>    1.0975</td> <td>    0.039</td> <td>   28.016</td> <td> 0.000</td> <td>    1.021</td> <td>    1.174</td>\n",
       "</tr>\n",
       "<tr>\n",
       "  <th>Lead Origin_Landing Page Submission</th>            <td>   -1.2320</td> <td>    0.126</td> <td>   -9.770</td> <td> 0.000</td> <td>   -1.479</td> <td>   -0.985</td>\n",
       "</tr>\n",
       "<tr>\n",
       "  <th>Lead Origin_Lead Add Form</th>                      <td>    3.4834</td> <td>    0.235</td> <td>   14.830</td> <td> 0.000</td> <td>    3.023</td> <td>    3.944</td>\n",
       "</tr>\n",
       "<tr>\n",
       "  <th>Lead Origin_Lead Import</th>                        <td>    1.2325</td> <td>    0.482</td> <td>    2.557</td> <td> 0.011</td> <td>    0.288</td> <td>    2.177</td>\n",
       "</tr>\n",
       "<tr>\n",
       "  <th>Lead Source_Olark Chat</th>                         <td>    1.1328</td> <td>    0.121</td> <td>    9.330</td> <td> 0.000</td> <td>    0.895</td> <td>    1.371</td>\n",
       "</tr>\n",
       "<tr>\n",
       "  <th>Lead Source_Welingak Website</th>                   <td>    3.0050</td> <td>    1.039</td> <td>    2.893</td> <td> 0.004</td> <td>    0.969</td> <td>    5.041</td>\n",
       "</tr>\n",
       "<tr>\n",
       "  <th>Last Activity_Email Bounced</th>                    <td>   -1.2664</td> <td>    0.339</td> <td>   -3.738</td> <td> 0.000</td> <td>   -1.930</td> <td>   -0.602</td>\n",
       "</tr>\n",
       "<tr>\n",
       "  <th>Last Activity_Email Opened</th>                     <td>    0.6310</td> <td>    0.090</td> <td>    7.028</td> <td> 0.000</td> <td>    0.455</td> <td>    0.807</td>\n",
       "</tr>\n",
       "<tr>\n",
       "  <th>Last Activity_Had a Phone Conversation</th>         <td>    2.1365</td> <td>    0.978</td> <td>    2.184</td> <td> 0.029</td> <td>    0.219</td> <td>    4.054</td>\n",
       "</tr>\n",
       "<tr>\n",
       "  <th>Last Activity_Olark Chat Conversation</th>          <td>   -1.0403</td> <td>    0.174</td> <td>   -5.990</td> <td> 0.000</td> <td>   -1.381</td> <td>   -0.700</td>\n",
       "</tr>\n",
       "<tr>\n",
       "  <th>Specialization_Others</th>                          <td>   -1.3900</td> <td>    0.122</td> <td>  -11.390</td> <td> 0.000</td> <td>   -1.629</td> <td>   -1.151</td>\n",
       "</tr>\n",
       "<tr>\n",
       "  <th>Last Notable Activity_Had a Phone Conversation</th> <td>    1.5602</td> <td>    1.467</td> <td>    1.063</td> <td> 0.288</td> <td>   -1.315</td> <td>    4.436</td>\n",
       "</tr>\n",
       "<tr>\n",
       "  <th>Last Notable Activity_SMS Sent</th>                 <td>    2.0078</td> <td>    0.099</td> <td>   20.287</td> <td> 0.000</td> <td>    1.814</td> <td>    2.202</td>\n",
       "</tr>\n",
       "<tr>\n",
       "  <th>Last Notable Activity_Unreachable</th>              <td>    2.2106</td> <td>    0.508</td> <td>    4.352</td> <td> 0.000</td> <td>    1.215</td> <td>    3.206</td>\n",
       "</tr>\n",
       "</table>"
      ],
      "text/plain": [
       "<class 'statsmodels.iolib.summary.Summary'>\n",
       "\"\"\"\n",
       "                 Generalized Linear Model Regression Results                  \n",
       "==============================================================================\n",
       "Dep. Variable:              Converted   No. Observations:                 6333\n",
       "Model:                            GLM   Df Residuals:                     6318\n",
       "Model Family:                Binomial   Df Model:                           14\n",
       "Link Function:                  logit   Scale:                          1.0000\n",
       "Method:                          IRLS   Log-Likelihood:                -2764.2\n",
       "Date:                Mon, 26 Aug 2019   Deviance:                       5528.3\n",
       "Time:                        06:01:58   Pearson chi2:                 6.25e+03\n",
       "No. Iterations:                     7   Covariance Type:             nonrobust\n",
       "==================================================================================================================\n",
       "                                                     coef    std err          z      P>|z|      [0.025      0.975]\n",
       "------------------------------------------------------------------------------------------------------------------\n",
       "const                                             -0.5628      0.134     -4.196      0.000      -0.826      -0.300\n",
       "Total Time Spent on Website                        1.0975      0.039     28.016      0.000       1.021       1.174\n",
       "Lead Origin_Landing Page Submission               -1.2320      0.126     -9.770      0.000      -1.479      -0.985\n",
       "Lead Origin_Lead Add Form                          3.4834      0.235     14.830      0.000       3.023       3.944\n",
       "Lead Origin_Lead Import                            1.2325      0.482      2.557      0.011       0.288       2.177\n",
       "Lead Source_Olark Chat                             1.1328      0.121      9.330      0.000       0.895       1.371\n",
       "Lead Source_Welingak Website                       3.0050      1.039      2.893      0.004       0.969       5.041\n",
       "Last Activity_Email Bounced                       -1.2664      0.339     -3.738      0.000      -1.930      -0.602\n",
       "Last Activity_Email Opened                         0.6310      0.090      7.028      0.000       0.455       0.807\n",
       "Last Activity_Had a Phone Conversation             2.1365      0.978      2.184      0.029       0.219       4.054\n",
       "Last Activity_Olark Chat Conversation             -1.0403      0.174     -5.990      0.000      -1.381      -0.700\n",
       "Specialization_Others                             -1.3900      0.122    -11.390      0.000      -1.629      -1.151\n",
       "Last Notable Activity_Had a Phone Conversation     1.5602      1.467      1.063      0.288      -1.315       4.436\n",
       "Last Notable Activity_SMS Sent                     2.0078      0.099     20.287      0.000       1.814       2.202\n",
       "Last Notable Activity_Unreachable                  2.2106      0.508      4.352      0.000       1.215       3.206\n",
       "==================================================================================================================\n",
       "\"\"\""
      ]
     },
     "execution_count": 50,
     "metadata": {},
     "output_type": "execute_result"
    }
   ],
   "source": [
    "logm2 = sm.GLM(y_train,X_train_sm_1, family = sm.families.Binomial())\n",
    "res = logm2.fit()\n",
    "res.summary()"
   ]
  },
  {
   "cell_type": "code",
   "execution_count": 51,
   "metadata": {},
   "outputs": [],
   "source": [
    "# as the p-value of 'Last Notable Activity_Had a Phone Conversation' is more than 0.05 we will drop it.\n",
    "\n",
    "X_train_sm_2 = X_train_sm_1.drop(['Last Notable Activity_Had a Phone Conversation'], axis = 1)"
   ]
  },
  {
   "cell_type": "code",
   "execution_count": null,
   "metadata": {},
   "outputs": [],
   "source": []
  },
  {
   "cell_type": "code",
   "execution_count": 52,
   "metadata": {},
   "outputs": [
    {
     "data": {
      "text/html": [
       "<table class=\"simpletable\">\n",
       "<caption>Generalized Linear Model Regression Results</caption>\n",
       "<tr>\n",
       "  <th>Dep. Variable:</th>      <td>Converted</td>    <th>  No. Observations:  </th>  <td>  6333</td>  \n",
       "</tr>\n",
       "<tr>\n",
       "  <th>Model:</th>                 <td>GLM</td>       <th>  Df Residuals:      </th>  <td>  6319</td>  \n",
       "</tr>\n",
       "<tr>\n",
       "  <th>Model Family:</th>       <td>Binomial</td>     <th>  Df Model:          </th>  <td>    13</td>  \n",
       "</tr>\n",
       "<tr>\n",
       "  <th>Link Function:</th>        <td>logit</td>      <th>  Scale:             </th> <td>  1.0000</td> \n",
       "</tr>\n",
       "<tr>\n",
       "  <th>Method:</th>               <td>IRLS</td>       <th>  Log-Likelihood:    </th> <td> -2764.8</td> \n",
       "</tr>\n",
       "<tr>\n",
       "  <th>Date:</th>           <td>Mon, 26 Aug 2019</td> <th>  Deviance:          </th> <td>  5529.5</td> \n",
       "</tr>\n",
       "<tr>\n",
       "  <th>Time:</th>               <td>06:01:58</td>     <th>  Pearson chi2:      </th> <td>6.25e+03</td> \n",
       "</tr>\n",
       "<tr>\n",
       "  <th>No. Iterations:</th>         <td>7</td>        <th>  Covariance Type:   </th> <td>nonrobust</td>\n",
       "</tr>\n",
       "</table>\n",
       "<table class=\"simpletable\">\n",
       "<tr>\n",
       "                     <td></td>                       <th>coef</th>     <th>std err</th>      <th>z</th>      <th>P>|z|</th>  <th>[0.025</th>    <th>0.975]</th>  \n",
       "</tr>\n",
       "<tr>\n",
       "  <th>const</th>                                  <td>   -0.5628</td> <td>    0.134</td> <td>   -4.196</td> <td> 0.000</td> <td>   -0.826</td> <td>   -0.300</td>\n",
       "</tr>\n",
       "<tr>\n",
       "  <th>Total Time Spent on Website</th>            <td>    1.0975</td> <td>    0.039</td> <td>   28.018</td> <td> 0.000</td> <td>    1.021</td> <td>    1.174</td>\n",
       "</tr>\n",
       "<tr>\n",
       "  <th>Lead Origin_Landing Page Submission</th>    <td>   -1.2319</td> <td>    0.126</td> <td>   -9.771</td> <td> 0.000</td> <td>   -1.479</td> <td>   -0.985</td>\n",
       "</tr>\n",
       "<tr>\n",
       "  <th>Lead Origin_Lead Add Form</th>              <td>    3.4837</td> <td>    0.235</td> <td>   14.831</td> <td> 0.000</td> <td>    3.023</td> <td>    3.944</td>\n",
       "</tr>\n",
       "<tr>\n",
       "  <th>Lead Origin_Lead Import</th>                <td>    1.2327</td> <td>    0.482</td> <td>    2.558</td> <td> 0.011</td> <td>    0.288</td> <td>    2.177</td>\n",
       "</tr>\n",
       "<tr>\n",
       "  <th>Lead Source_Olark Chat</th>                 <td>    1.1333</td> <td>    0.121</td> <td>    9.334</td> <td> 0.000</td> <td>    0.895</td> <td>    1.371</td>\n",
       "</tr>\n",
       "<tr>\n",
       "  <th>Lead Source_Welingak Website</th>           <td>    3.0053</td> <td>    1.039</td> <td>    2.893</td> <td> 0.004</td> <td>    0.969</td> <td>    5.041</td>\n",
       "</tr>\n",
       "<tr>\n",
       "  <th>Last Activity_Email Bounced</th>            <td>   -1.2664</td> <td>    0.339</td> <td>   -3.738</td> <td> 0.000</td> <td>   -1.930</td> <td>   -0.602</td>\n",
       "</tr>\n",
       "<tr>\n",
       "  <th>Last Activity_Email Opened</th>             <td>    0.6310</td> <td>    0.090</td> <td>    7.028</td> <td> 0.000</td> <td>    0.455</td> <td>    0.807</td>\n",
       "</tr>\n",
       "<tr>\n",
       "  <th>Last Activity_Had a Phone Conversation</th> <td>    2.9514</td> <td>    0.691</td> <td>    4.274</td> <td> 0.000</td> <td>    1.598</td> <td>    4.305</td>\n",
       "</tr>\n",
       "<tr>\n",
       "  <th>Last Activity_Olark Chat Conversation</th>  <td>   -1.0402</td> <td>    0.174</td> <td>   -5.990</td> <td> 0.000</td> <td>   -1.381</td> <td>   -0.700</td>\n",
       "</tr>\n",
       "<tr>\n",
       "  <th>Specialization_Others</th>                  <td>   -1.3907</td> <td>    0.122</td> <td>  -11.397</td> <td> 0.000</td> <td>   -1.630</td> <td>   -1.152</td>\n",
       "</tr>\n",
       "<tr>\n",
       "  <th>Last Notable Activity_SMS Sent</th>         <td>    2.0079</td> <td>    0.099</td> <td>   20.287</td> <td> 0.000</td> <td>    1.814</td> <td>    2.202</td>\n",
       "</tr>\n",
       "<tr>\n",
       "  <th>Last Notable Activity_Unreachable</th>      <td>    2.2106</td> <td>    0.508</td> <td>    4.352</td> <td> 0.000</td> <td>    1.215</td> <td>    3.206</td>\n",
       "</tr>\n",
       "</table>"
      ],
      "text/plain": [
       "<class 'statsmodels.iolib.summary.Summary'>\n",
       "\"\"\"\n",
       "                 Generalized Linear Model Regression Results                  \n",
       "==============================================================================\n",
       "Dep. Variable:              Converted   No. Observations:                 6333\n",
       "Model:                            GLM   Df Residuals:                     6319\n",
       "Model Family:                Binomial   Df Model:                           13\n",
       "Link Function:                  logit   Scale:                          1.0000\n",
       "Method:                          IRLS   Log-Likelihood:                -2764.8\n",
       "Date:                Mon, 26 Aug 2019   Deviance:                       5529.5\n",
       "Time:                        06:01:58   Pearson chi2:                 6.25e+03\n",
       "No. Iterations:                     7   Covariance Type:             nonrobust\n",
       "==========================================================================================================\n",
       "                                             coef    std err          z      P>|z|      [0.025      0.975]\n",
       "----------------------------------------------------------------------------------------------------------\n",
       "const                                     -0.5628      0.134     -4.196      0.000      -0.826      -0.300\n",
       "Total Time Spent on Website                1.0975      0.039     28.018      0.000       1.021       1.174\n",
       "Lead Origin_Landing Page Submission       -1.2319      0.126     -9.771      0.000      -1.479      -0.985\n",
       "Lead Origin_Lead Add Form                  3.4837      0.235     14.831      0.000       3.023       3.944\n",
       "Lead Origin_Lead Import                    1.2327      0.482      2.558      0.011       0.288       2.177\n",
       "Lead Source_Olark Chat                     1.1333      0.121      9.334      0.000       0.895       1.371\n",
       "Lead Source_Welingak Website               3.0053      1.039      2.893      0.004       0.969       5.041\n",
       "Last Activity_Email Bounced               -1.2664      0.339     -3.738      0.000      -1.930      -0.602\n",
       "Last Activity_Email Opened                 0.6310      0.090      7.028      0.000       0.455       0.807\n",
       "Last Activity_Had a Phone Conversation     2.9514      0.691      4.274      0.000       1.598       4.305\n",
       "Last Activity_Olark Chat Conversation     -1.0402      0.174     -5.990      0.000      -1.381      -0.700\n",
       "Specialization_Others                     -1.3907      0.122    -11.397      0.000      -1.630      -1.152\n",
       "Last Notable Activity_SMS Sent             2.0079      0.099     20.287      0.000       1.814       2.202\n",
       "Last Notable Activity_Unreachable          2.2106      0.508      4.352      0.000       1.215       3.206\n",
       "==========================================================================================================\n",
       "\"\"\""
      ]
     },
     "execution_count": 52,
     "metadata": {},
     "output_type": "execute_result"
    }
   ],
   "source": [
    "logm2 = sm.GLM(y_train,X_train_sm_2, family = sm.families.Binomial())\n",
    "res = logm2.fit()\n",
    "res.summary()"
   ]
  },
  {
   "cell_type": "code",
   "execution_count": 53,
   "metadata": {},
   "outputs": [],
   "source": [
    "#### NOW ALL THE P-VALUES ARE LESS THAN 0.5\n",
    "#### WE CAN MOVE FORWARD WITH GETTING PREDICTIONS"
   ]
  },
  {
   "cell_type": "code",
   "execution_count": 54,
   "metadata": {},
   "outputs": [
    {
     "data": {
      "text/plain": [
       "8425    0.239874\n",
       "8341    0.239874\n",
       "7376    0.223971\n",
       "7414    0.239874\n",
       "3521    0.824168\n",
       "6623    0.056012\n",
       "4651    0.250533\n",
       "1240    0.056012\n",
       "7692    0.555643\n",
       "7473    0.408286\n",
       "dtype: float64"
      ]
     },
     "execution_count": 54,
     "metadata": {},
     "output_type": "execute_result"
    }
   ],
   "source": [
    "# Getting the predicted values on the train set\n",
    "y_train_pred = res.predict(X_train_sm_2)\n",
    "y_train_pred[:10]"
   ]
  },
  {
   "cell_type": "code",
   "execution_count": 55,
   "metadata": {},
   "outputs": [
    {
     "data": {
      "text/plain": [
       "array([0.23987434, 0.23987434, 0.22397059, 0.23987434, 0.82416835,\n",
       "       0.05601153, 0.25053281, 0.05601153, 0.55564342, 0.40828568])"
      ]
     },
     "execution_count": 55,
     "metadata": {},
     "output_type": "execute_result"
    }
   ],
   "source": [
    "y_train_pred = y_train_pred.values.reshape(-1)\n",
    "y_train_pred[:10]"
   ]
  },
  {
   "cell_type": "markdown",
   "metadata": {},
   "source": [
    "##### Creating a dataframe with the actual conversion flag and the predicted probabilities"
   ]
  },
  {
   "cell_type": "code",
   "execution_count": 56,
   "metadata": {},
   "outputs": [
    {
     "data": {
      "text/html": [
       "<div>\n",
       "<style scoped>\n",
       "    .dataframe tbody tr th:only-of-type {\n",
       "        vertical-align: middle;\n",
       "    }\n",
       "\n",
       "    .dataframe tbody tr th {\n",
       "        vertical-align: top;\n",
       "    }\n",
       "\n",
       "    .dataframe thead th {\n",
       "        text-align: right;\n",
       "    }\n",
       "</style>\n",
       "<table border=\"1\" class=\"dataframe\">\n",
       "  <thead>\n",
       "    <tr style=\"text-align: right;\">\n",
       "      <th></th>\n",
       "      <th>Conversion</th>\n",
       "      <th>Conversion_Prob</th>\n",
       "    </tr>\n",
       "  </thead>\n",
       "  <tbody>\n",
       "    <tr>\n",
       "      <th>0</th>\n",
       "      <td>0</td>\n",
       "      <td>0.239874</td>\n",
       "    </tr>\n",
       "    <tr>\n",
       "      <th>1</th>\n",
       "      <td>0</td>\n",
       "      <td>0.239874</td>\n",
       "    </tr>\n",
       "    <tr>\n",
       "      <th>2</th>\n",
       "      <td>0</td>\n",
       "      <td>0.223971</td>\n",
       "    </tr>\n",
       "    <tr>\n",
       "      <th>3</th>\n",
       "      <td>0</td>\n",
       "      <td>0.239874</td>\n",
       "    </tr>\n",
       "    <tr>\n",
       "      <th>4</th>\n",
       "      <td>1</td>\n",
       "      <td>0.824168</td>\n",
       "    </tr>\n",
       "  </tbody>\n",
       "</table>\n",
       "</div>"
      ],
      "text/plain": [
       "   Conversion  Conversion_Prob\n",
       "0           0         0.239874\n",
       "1           0         0.239874\n",
       "2           0         0.223971\n",
       "3           0         0.239874\n",
       "4           1         0.824168"
      ]
     },
     "execution_count": 56,
     "metadata": {},
     "output_type": "execute_result"
    }
   ],
   "source": [
    "y_train_pred_final = pd.DataFrame({'Conversion':y_train.values, 'Conversion_Prob':y_train_pred})\n",
    "# y_train_pred_final['CustID'] = y_train.index\n",
    "y_train_pred_final.head()"
   ]
  },
  {
   "cell_type": "markdown",
   "metadata": {},
   "source": [
    "##### Creating new column 'predicted' with 1 if Conversion_Prob > 0.3 else 0"
   ]
  },
  {
   "cell_type": "code",
   "execution_count": 57,
   "metadata": {},
   "outputs": [
    {
     "data": {
      "text/html": [
       "<div>\n",
       "<style scoped>\n",
       "    .dataframe tbody tr th:only-of-type {\n",
       "        vertical-align: middle;\n",
       "    }\n",
       "\n",
       "    .dataframe tbody tr th {\n",
       "        vertical-align: top;\n",
       "    }\n",
       "\n",
       "    .dataframe thead th {\n",
       "        text-align: right;\n",
       "    }\n",
       "</style>\n",
       "<table border=\"1\" class=\"dataframe\">\n",
       "  <thead>\n",
       "    <tr style=\"text-align: right;\">\n",
       "      <th></th>\n",
       "      <th>Conversion</th>\n",
       "      <th>Conversion_Prob</th>\n",
       "      <th>predicted</th>\n",
       "    </tr>\n",
       "  </thead>\n",
       "  <tbody>\n",
       "    <tr>\n",
       "      <th>0</th>\n",
       "      <td>0</td>\n",
       "      <td>0.239874</td>\n",
       "      <td>0</td>\n",
       "    </tr>\n",
       "    <tr>\n",
       "      <th>1</th>\n",
       "      <td>0</td>\n",
       "      <td>0.239874</td>\n",
       "      <td>0</td>\n",
       "    </tr>\n",
       "    <tr>\n",
       "      <th>2</th>\n",
       "      <td>0</td>\n",
       "      <td>0.223971</td>\n",
       "      <td>0</td>\n",
       "    </tr>\n",
       "    <tr>\n",
       "      <th>3</th>\n",
       "      <td>0</td>\n",
       "      <td>0.239874</td>\n",
       "      <td>0</td>\n",
       "    </tr>\n",
       "    <tr>\n",
       "      <th>4</th>\n",
       "      <td>1</td>\n",
       "      <td>0.824168</td>\n",
       "      <td>1</td>\n",
       "    </tr>\n",
       "  </tbody>\n",
       "</table>\n",
       "</div>"
      ],
      "text/plain": [
       "   Conversion  Conversion_Prob  predicted\n",
       "0           0         0.239874          0\n",
       "1           0         0.239874          0\n",
       "2           0         0.223971          0\n",
       "3           0         0.239874          0\n",
       "4           1         0.824168          1"
      ]
     },
     "execution_count": 57,
     "metadata": {},
     "output_type": "execute_result"
    }
   ],
   "source": [
    "y_train_pred_final['predicted'] = y_train_pred_final.Conversion_Prob.map(lambda x: 1 if x > 0.3 else 0)\n",
    "\n",
    "# Let's see the head\n",
    "y_train_pred_final.head()"
   ]
  },
  {
   "cell_type": "code",
   "execution_count": 58,
   "metadata": {},
   "outputs": [
    {
     "name": "stdout",
     "output_type": "stream",
     "text": [
      "[[2953  986]\n",
      " [ 384 2010]]\n"
     ]
    }
   ],
   "source": [
    "# Confusion matrix \n",
    "confusion = metrics.confusion_matrix(y_train_pred_final.Conversion, y_train_pred_final.predicted )\n",
    "print(confusion)"
   ]
  },
  {
   "cell_type": "code",
   "execution_count": 59,
   "metadata": {},
   "outputs": [],
   "source": [
    "# Predicted     not_churn    churn\n",
    "# Actual\n",
    "# not_churn        3270      365\n",
    "# churn            579       708  "
   ]
  },
  {
   "cell_type": "code",
   "execution_count": 60,
   "metadata": {},
   "outputs": [
    {
     "name": "stdout",
     "output_type": "stream",
     "text": [
      "0.7836728248855203\n"
     ]
    }
   ],
   "source": [
    "# Let's check the overall accuracy.\n",
    "print(metrics.accuracy_score(y_train_pred_final.Conversion, y_train_pred_final.predicted))"
   ]
  },
  {
   "cell_type": "markdown",
   "metadata": {},
   "source": [
    "#### Checking VIFs"
   ]
  },
  {
   "cell_type": "code",
   "execution_count": 61,
   "metadata": {},
   "outputs": [
    {
     "data": {
      "text/html": [
       "<div>\n",
       "<style scoped>\n",
       "    .dataframe tbody tr th:only-of-type {\n",
       "        vertical-align: middle;\n",
       "    }\n",
       "\n",
       "    .dataframe tbody tr th {\n",
       "        vertical-align: top;\n",
       "    }\n",
       "\n",
       "    .dataframe thead th {\n",
       "        text-align: right;\n",
       "    }\n",
       "</style>\n",
       "<table border=\"1\" class=\"dataframe\">\n",
       "  <thead>\n",
       "    <tr style=\"text-align: right;\">\n",
       "      <th></th>\n",
       "      <th>Features</th>\n",
       "      <th>VIF</th>\n",
       "    </tr>\n",
       "  </thead>\n",
       "  <tbody>\n",
       "    <tr>\n",
       "      <th>9</th>\n",
       "      <td>Last Activity_Had a Phone Conversation</td>\n",
       "      <td>3.01</td>\n",
       "    </tr>\n",
       "    <tr>\n",
       "      <th>12</th>\n",
       "      <td>Last Notable Activity_Had a Phone Conversation</td>\n",
       "      <td>3.00</td>\n",
       "    </tr>\n",
       "    <tr>\n",
       "      <th>11</th>\n",
       "      <td>Specialization_Others</td>\n",
       "      <td>2.34</td>\n",
       "    </tr>\n",
       "    <tr>\n",
       "      <th>1</th>\n",
       "      <td>Lead Origin_Landing Page Submission</td>\n",
       "      <td>2.30</td>\n",
       "    </tr>\n",
       "    <tr>\n",
       "      <th>4</th>\n",
       "      <td>Lead Source_Olark Chat</td>\n",
       "      <td>2.22</td>\n",
       "    </tr>\n",
       "    <tr>\n",
       "      <th>7</th>\n",
       "      <td>Last Activity_Email Opened</td>\n",
       "      <td>2.21</td>\n",
       "    </tr>\n",
       "    <tr>\n",
       "      <th>13</th>\n",
       "      <td>Last Notable Activity_SMS Sent</td>\n",
       "      <td>1.83</td>\n",
       "    </tr>\n",
       "    <tr>\n",
       "      <th>10</th>\n",
       "      <td>Last Activity_Olark Chat Conversation</td>\n",
       "      <td>1.71</td>\n",
       "    </tr>\n",
       "    <tr>\n",
       "      <th>2</th>\n",
       "      <td>Lead Origin_Lead Add Form</td>\n",
       "      <td>1.54</td>\n",
       "    </tr>\n",
       "    <tr>\n",
       "      <th>5</th>\n",
       "      <td>Lead Source_Welingak Website</td>\n",
       "      <td>1.32</td>\n",
       "    </tr>\n",
       "    <tr>\n",
       "      <th>0</th>\n",
       "      <td>Total Time Spent on Website</td>\n",
       "      <td>1.29</td>\n",
       "    </tr>\n",
       "    <tr>\n",
       "      <th>6</th>\n",
       "      <td>Last Activity_Email Bounced</td>\n",
       "      <td>1.13</td>\n",
       "    </tr>\n",
       "    <tr>\n",
       "      <th>3</th>\n",
       "      <td>Lead Origin_Lead Import</td>\n",
       "      <td>1.02</td>\n",
       "    </tr>\n",
       "    <tr>\n",
       "      <th>14</th>\n",
       "      <td>Last Notable Activity_Unreachable</td>\n",
       "      <td>1.01</td>\n",
       "    </tr>\n",
       "    <tr>\n",
       "      <th>8</th>\n",
       "      <td>Last Activity_Email Received</td>\n",
       "      <td>1.00</td>\n",
       "    </tr>\n",
       "  </tbody>\n",
       "</table>\n",
       "</div>"
      ],
      "text/plain": [
       "                                          Features   VIF\n",
       "9           Last Activity_Had a Phone Conversation  3.01\n",
       "12  Last Notable Activity_Had a Phone Conversation  3.00\n",
       "11                           Specialization_Others  2.34\n",
       "1              Lead Origin_Landing Page Submission  2.30\n",
       "4                           Lead Source_Olark Chat  2.22\n",
       "7                       Last Activity_Email Opened  2.21\n",
       "13                  Last Notable Activity_SMS Sent  1.83\n",
       "10           Last Activity_Olark Chat Conversation  1.71\n",
       "2                        Lead Origin_Lead Add Form  1.54\n",
       "5                     Lead Source_Welingak Website  1.32\n",
       "0                      Total Time Spent on Website  1.29\n",
       "6                      Last Activity_Email Bounced  1.13\n",
       "3                          Lead Origin_Lead Import  1.02\n",
       "14               Last Notable Activity_Unreachable  1.01\n",
       "8                     Last Activity_Email Received  1.00"
      ]
     },
     "execution_count": 61,
     "metadata": {},
     "output_type": "execute_result"
    }
   ],
   "source": [
    "# Create a dataframe that will contain the names of all the feature variables and their respective VIFs\n",
    "vif = pd.DataFrame()\n",
    "vif['Features'] = X_train[col].columns\n",
    "vif['VIF'] = [variance_inflation_factor(X_train[col].values, i) for i in range(X_train[col].shape[1])]\n",
    "vif['VIF'] = round(vif['VIF'], 2)\n",
    "vif = vif.sort_values(by = \"VIF\", ascending = False)\n",
    "vif"
   ]
  },
  {
   "cell_type": "code",
   "execution_count": 62,
   "metadata": {},
   "outputs": [],
   "source": [
    "### ALL THE VIF SCORES ARE BELOW 5"
   ]
  },
  {
   "cell_type": "markdown",
   "metadata": {},
   "source": [
    "## Metrics beyond simply accuracy"
   ]
  },
  {
   "cell_type": "code",
   "execution_count": 63,
   "metadata": {},
   "outputs": [],
   "source": [
    "TP = confusion[1,1] # true positive \n",
    "TN = confusion[0,0] # true negatives\n",
    "FP = confusion[0,1] # false positives\n",
    "FN = confusion[1,0] # false negatives"
   ]
  },
  {
   "cell_type": "code",
   "execution_count": 64,
   "metadata": {},
   "outputs": [
    {
     "data": {
      "text/plain": [
       "0.8395989974937343"
      ]
     },
     "execution_count": 64,
     "metadata": {},
     "output_type": "execute_result"
    }
   ],
   "source": [
    "# Let's see the sensitivity of our logistic regression model\n",
    "TP / float(TP+FN)"
   ]
  },
  {
   "cell_type": "code",
   "execution_count": 65,
   "metadata": {},
   "outputs": [
    {
     "data": {
      "text/plain": [
       "0.7496826605737497"
      ]
     },
     "execution_count": 65,
     "metadata": {},
     "output_type": "execute_result"
    }
   ],
   "source": [
    "# Let us calculate specificity\n",
    "TN / float(TN+FP)"
   ]
  },
  {
   "cell_type": "code",
   "execution_count": 66,
   "metadata": {},
   "outputs": [
    {
     "name": "stdout",
     "output_type": "stream",
     "text": [
      "0.25031733942625034\n"
     ]
    }
   ],
   "source": [
    "# Calculate false postive rate - predicting Conversion when customer does not have Convert\n",
    "print(FP/ float(TN+FP))"
   ]
  },
  {
   "cell_type": "code",
   "execution_count": 67,
   "metadata": {},
   "outputs": [
    {
     "name": "stdout",
     "output_type": "stream",
     "text": [
      "0.670894526034713\n"
     ]
    }
   ],
   "source": [
    "# positive predictive value \n",
    "print (TP / float(TP+FP))"
   ]
  },
  {
   "cell_type": "code",
   "execution_count": 68,
   "metadata": {},
   "outputs": [
    {
     "name": "stdout",
     "output_type": "stream",
     "text": [
      "0.8849265807611627\n"
     ]
    }
   ],
   "source": [
    "# Negative predictive value\n",
    "print (TN / float(TN+ FN))"
   ]
  },
  {
   "cell_type": "markdown",
   "metadata": {},
   "source": [
    "### Step 9: Plotting the ROC Curve"
   ]
  },
  {
   "cell_type": "markdown",
   "metadata": {},
   "source": [
    "An ROC curve demonstrates several things:\n",
    "\n",
    "- It shows the tradeoff between sensitivity and specificity (any increase in sensitivity will be accompanied by a decrease in specificity).\n",
    "- The closer the curve follows the left-hand border and then the top border of the ROC space, the more accurate the test.\n",
    "- The closer the curve comes to the 45-degree diagonal of the ROC space, the less accurate the test."
   ]
  },
  {
   "cell_type": "code",
   "execution_count": 69,
   "metadata": {},
   "outputs": [],
   "source": [
    "def draw_roc( actual, probs ):\n",
    "    fpr, tpr, thresholds = metrics.roc_curve( actual, probs,\n",
    "                                              drop_intermediate = False )\n",
    "    auc_score = metrics.roc_auc_score( actual, probs )\n",
    "    plt.figure(figsize=(5, 5))\n",
    "    plt.plot( fpr, tpr, label='ROC curve (area = %0.2f)' % auc_score )\n",
    "    plt.plot([0, 1], [0, 1], 'k--')\n",
    "    plt.xlim([0.0, 1.0])\n",
    "    plt.ylim([0.0, 1.05])\n",
    "    plt.xlabel('False Positive Rate or [1 - True Negative Rate]')\n",
    "    plt.ylabel('True Positive Rate')\n",
    "    plt.title('Receiver operating characteristic example')\n",
    "    plt.legend(loc=\"lower right\")\n",
    "    plt.show()\n",
    "\n",
    "    return None"
   ]
  },
  {
   "cell_type": "code",
   "execution_count": 70,
   "metadata": {},
   "outputs": [],
   "source": [
    "fpr, tpr, thresholds = metrics.roc_curve( y_train_pred_final.Conversion, y_train_pred_final.Conversion_Prob, drop_intermediate = False )\n"
   ]
  },
  {
   "cell_type": "code",
   "execution_count": 71,
   "metadata": {},
   "outputs": [
    {
     "data": {
      "image/png": "[encoded data removed]",
      "text/plain": [
       "<Figure size 360x360 with 1 Axes>"
      ]
     },
     "metadata": {
      "needs_background": "light"
     },
     "output_type": "display_data"
    }
   ],
   "source": [
    "draw_roc(y_train_pred_final.Conversion, y_train_pred_final.Conversion_Prob)"
   ]
  },
  {
   "cell_type": "markdown",
   "metadata": {},
   "source": [
    "### Step 10: Finding Optimal Cutoff Point"
   ]
  },
  {
   "cell_type": "markdown",
   "metadata": {},
   "source": [
    "Optimal cutoff probability is that prob where we get balanced sensitivity and specificity"
   ]
  },
  {
   "cell_type": "code",
   "execution_count": 72,
   "metadata": {},
   "outputs": [
    {
     "data": {
      "text/html": [
       "<div>\n",
       "<style scoped>\n",
       "    .dataframe tbody tr th:only-of-type {\n",
       "        vertical-align: middle;\n",
       "    }\n",
       "\n",
       "    .dataframe tbody tr th {\n",
       "        vertical-align: top;\n",
       "    }\n",
       "\n",
       "    .dataframe thead th {\n",
       "        text-align: right;\n",
       "    }\n",
       "</style>\n",
       "<table border=\"1\" class=\"dataframe\">\n",
       "  <thead>\n",
       "    <tr style=\"text-align: right;\">\n",
       "      <th></th>\n",
       "      <th>Conversion</th>\n",
       "      <th>Conversion_Prob</th>\n",
       "      <th>predicted</th>\n",
       "      <th>0.0</th>\n",
       "      <th>0.1</th>\n",
       "      <th>0.2</th>\n",
       "      <th>0.3</th>\n",
       "      <th>0.4</th>\n",
       "      <th>0.5</th>\n",
       "      <th>0.6</th>\n",
       "      <th>0.7</th>\n",
       "      <th>0.8</th>\n",
       "      <th>0.9</th>\n",
       "    </tr>\n",
       "  </thead>\n",
       "  <tbody>\n",
       "    <tr>\n",
       "      <th>0</th>\n",
       "      <td>0</td>\n",
       "      <td>0.239874</td>\n",
       "      <td>0</td>\n",
       "      <td>1</td>\n",
       "      <td>1</td>\n",
       "      <td>1</td>\n",
       "      <td>0</td>\n",
       "      <td>0</td>\n",
       "      <td>0</td>\n",
       "      <td>0</td>\n",
       "      <td>0</td>\n",
       "      <td>0</td>\n",
       "      <td>0</td>\n",
       "    </tr>\n",
       "    <tr>\n",
       "      <th>1</th>\n",
       "      <td>0</td>\n",
       "      <td>0.239874</td>\n",
       "      <td>0</td>\n",
       "      <td>1</td>\n",
       "      <td>1</td>\n",
       "      <td>1</td>\n",
       "      <td>0</td>\n",
       "      <td>0</td>\n",
       "      <td>0</td>\n",
       "      <td>0</td>\n",
       "      <td>0</td>\n",
       "      <td>0</td>\n",
       "      <td>0</td>\n",
       "    </tr>\n",
       "    <tr>\n",
       "      <th>2</th>\n",
       "      <td>0</td>\n",
       "      <td>0.223971</td>\n",
       "      <td>0</td>\n",
       "      <td>1</td>\n",
       "      <td>1</td>\n",
       "      <td>1</td>\n",
       "      <td>0</td>\n",
       "      <td>0</td>\n",
       "      <td>0</td>\n",
       "      <td>0</td>\n",
       "      <td>0</td>\n",
       "      <td>0</td>\n",
       "      <td>0</td>\n",
       "    </tr>\n",
       "    <tr>\n",
       "      <th>3</th>\n",
       "      <td>0</td>\n",
       "      <td>0.239874</td>\n",
       "      <td>0</td>\n",
       "      <td>1</td>\n",
       "      <td>1</td>\n",
       "      <td>1</td>\n",
       "      <td>0</td>\n",
       "      <td>0</td>\n",
       "      <td>0</td>\n",
       "      <td>0</td>\n",
       "      <td>0</td>\n",
       "      <td>0</td>\n",
       "      <td>0</td>\n",
       "    </tr>\n",
       "    <tr>\n",
       "      <th>4</th>\n",
       "      <td>1</td>\n",
       "      <td>0.824168</td>\n",
       "      <td>1</td>\n",
       "      <td>1</td>\n",
       "      <td>1</td>\n",
       "      <td>1</td>\n",
       "      <td>1</td>\n",
       "      <td>1</td>\n",
       "      <td>1</td>\n",
       "      <td>1</td>\n",
       "      <td>1</td>\n",
       "      <td>1</td>\n",
       "      <td>0</td>\n",
       "    </tr>\n",
       "  </tbody>\n",
       "</table>\n",
       "</div>"
      ],
      "text/plain": [
       "   Conversion  Conversion_Prob  predicted  0.0  0.1  0.2  0.3  0.4  0.5  0.6  \\\n",
       "0           0         0.239874          0    1    1    1    0    0    0    0   \n",
       "1           0         0.239874          0    1    1    1    0    0    0    0   \n",
       "2           0         0.223971          0    1    1    1    0    0    0    0   \n",
       "3           0         0.239874          0    1    1    1    0    0    0    0   \n",
       "4           1         0.824168          1    1    1    1    1    1    1    1   \n",
       "\n",
       "   0.7  0.8  0.9  \n",
       "0    0    0    0  \n",
       "1    0    0    0  \n",
       "2    0    0    0  \n",
       "3    0    0    0  \n",
       "4    1    1    0  "
      ]
     },
     "execution_count": 72,
     "metadata": {},
     "output_type": "execute_result"
    }
   ],
   "source": [
    "# Let's create columns with different probability cutoffs \n",
    "numbers = [float(x)/10 for x in range(10)]\n",
    "for i in numbers:\n",
    "    y_train_pred_final[i]= y_train_pred_final.Conversion_Prob.map(lambda x: 1 if x > i else 0)\n",
    "y_train_pred_final.head()"
   ]
  },
  {
   "cell_type": "code",
   "execution_count": 73,
   "metadata": {},
   "outputs": [
    {
     "name": "stdout",
     "output_type": "stream",
     "text": [
      "     prob  accuracy     sensi     speci\n",
      "0.0   0.0  0.378020  1.000000  0.000000\n",
      "0.1   0.1  0.580452  0.973266  0.341711\n",
      "0.2   0.2  0.730144  0.906850  0.622747\n",
      "0.3   0.3  0.783673  0.839599  0.749683\n",
      "0.4   0.4  0.800568  0.772348  0.817720\n",
      "0.5   0.5  0.800568  0.681287  0.873064\n",
      "0.6   0.6  0.783041  0.553885  0.922315\n",
      "0.7   0.7  0.765198  0.466583  0.946687\n",
      "0.8   0.8  0.738039  0.360485  0.967504\n",
      "0.9   0.9  0.696826  0.219298  0.987053\n"
     ]
    }
   ],
   "source": [
    "# Now let's calculate accuracy sensitivity and specificity for various probability cutoffs.\n",
    "cutoff_df = pd.DataFrame( columns = ['prob','accuracy','sensi','speci'])\n",
    "from sklearn.metrics import confusion_matrix\n",
    "\n",
    "# TP = confusion[1,1] # true positive \n",
    "# TN = confusion[0,0] # true negatives\n",
    "# FP = confusion[0,1] # false positives\n",
    "# FN = confusion[1,0] # false negatives\n",
    "\n",
    "num = [0.0,0.1,0.2,0.3,0.4,0.5,0.6,0.7,0.8,0.9]\n",
    "for i in num:\n",
    "    cm1 = metrics.confusion_matrix(y_train_pred_final.Conversion, y_train_pred_final[i] )\n",
    "    total1=sum(sum(cm1))\n",
    "    accuracy = (cm1[0,0]+cm1[1,1])/total1\n",
    "    \n",
    "    speci = cm1[0,0]/(cm1[0,0]+cm1[0,1])\n",
    "    sensi = cm1[1,1]/(cm1[1,0]+cm1[1,1])\n",
    "    cutoff_df.loc[i] =[ i ,accuracy,sensi,speci]\n",
    "print(cutoff_df)"
   ]
  },
  {
   "cell_type": "code",
   "execution_count": 74,
   "metadata": {},
   "outputs": [
    {
     "data": {
      "image/png": "[encoded data removed]",
      "text/plain": [
       "<Figure size 432x288 with 1 Axes>"
      ]
     },
     "metadata": {
      "needs_background": "light"
     },
     "output_type": "display_data"
    }
   ],
   "source": [
    "# Let's plot accuracy sensitivity and specificity for various probabilities.\n",
    "cutoff_df.plot.line(x='prob', y=['accuracy','sensi','speci'])\n",
    "plt.show()"
   ]
  },
  {
   "cell_type": "markdown",
   "metadata": {},
   "source": [
    "#### From the curve above, 0.3 is the optimum point to take it as a cutoff probability."
   ]
  },
  {
   "cell_type": "code",
   "execution_count": 75,
   "metadata": {},
   "outputs": [
    {
     "data": {
      "text/html": [
       "<div>\n",
       "<style scoped>\n",
       "    .dataframe tbody tr th:only-of-type {\n",
       "        vertical-align: middle;\n",
       "    }\n",
       "\n",
       "    .dataframe tbody tr th {\n",
       "        vertical-align: top;\n",
       "    }\n",
       "\n",
       "    .dataframe thead th {\n",
       "        text-align: right;\n",
       "    }\n",
       "</style>\n",
       "<table border=\"1\" class=\"dataframe\">\n",
       "  <thead>\n",
       "    <tr style=\"text-align: right;\">\n",
       "      <th></th>\n",
       "      <th>Conversion</th>\n",
       "      <th>Conversion_Prob</th>\n",
       "      <th>predicted</th>\n",
       "      <th>0.0</th>\n",
       "      <th>0.1</th>\n",
       "      <th>0.2</th>\n",
       "      <th>0.3</th>\n",
       "      <th>0.4</th>\n",
       "      <th>0.5</th>\n",
       "      <th>0.6</th>\n",
       "      <th>0.7</th>\n",
       "      <th>0.8</th>\n",
       "      <th>0.9</th>\n",
       "      <th>final_predicted</th>\n",
       "    </tr>\n",
       "  </thead>\n",
       "  <tbody>\n",
       "    <tr>\n",
       "      <th>0</th>\n",
       "      <td>0</td>\n",
       "      <td>0.239874</td>\n",
       "      <td>0</td>\n",
       "      <td>1</td>\n",
       "      <td>1</td>\n",
       "      <td>1</td>\n",
       "      <td>0</td>\n",
       "      <td>0</td>\n",
       "      <td>0</td>\n",
       "      <td>0</td>\n",
       "      <td>0</td>\n",
       "      <td>0</td>\n",
       "      <td>0</td>\n",
       "      <td>0</td>\n",
       "    </tr>\n",
       "    <tr>\n",
       "      <th>1</th>\n",
       "      <td>0</td>\n",
       "      <td>0.239874</td>\n",
       "      <td>0</td>\n",
       "      <td>1</td>\n",
       "      <td>1</td>\n",
       "      <td>1</td>\n",
       "      <td>0</td>\n",
       "      <td>0</td>\n",
       "      <td>0</td>\n",
       "      <td>0</td>\n",
       "      <td>0</td>\n",
       "      <td>0</td>\n",
       "      <td>0</td>\n",
       "      <td>0</td>\n",
       "    </tr>\n",
       "    <tr>\n",
       "      <th>2</th>\n",
       "      <td>0</td>\n",
       "      <td>0.223971</td>\n",
       "      <td>0</td>\n",
       "      <td>1</td>\n",
       "      <td>1</td>\n",
       "      <td>1</td>\n",
       "      <td>0</td>\n",
       "      <td>0</td>\n",
       "      <td>0</td>\n",
       "      <td>0</td>\n",
       "      <td>0</td>\n",
       "      <td>0</td>\n",
       "      <td>0</td>\n",
       "      <td>0</td>\n",
       "    </tr>\n",
       "    <tr>\n",
       "      <th>3</th>\n",
       "      <td>0</td>\n",
       "      <td>0.239874</td>\n",
       "      <td>0</td>\n",
       "      <td>1</td>\n",
       "      <td>1</td>\n",
       "      <td>1</td>\n",
       "      <td>0</td>\n",
       "      <td>0</td>\n",
       "      <td>0</td>\n",
       "      <td>0</td>\n",
       "      <td>0</td>\n",
       "      <td>0</td>\n",
       "      <td>0</td>\n",
       "      <td>0</td>\n",
       "    </tr>\n",
       "    <tr>\n",
       "      <th>4</th>\n",
       "      <td>1</td>\n",
       "      <td>0.824168</td>\n",
       "      <td>1</td>\n",
       "      <td>1</td>\n",
       "      <td>1</td>\n",
       "      <td>1</td>\n",
       "      <td>1</td>\n",
       "      <td>1</td>\n",
       "      <td>1</td>\n",
       "      <td>1</td>\n",
       "      <td>1</td>\n",
       "      <td>1</td>\n",
       "      <td>0</td>\n",
       "      <td>1</td>\n",
       "    </tr>\n",
       "  </tbody>\n",
       "</table>\n",
       "</div>"
      ],
      "text/plain": [
       "   Conversion  Conversion_Prob  predicted  0.0  0.1  0.2  0.3  0.4  0.5  0.6  \\\n",
       "0           0         0.239874          0    1    1    1    0    0    0    0   \n",
       "1           0         0.239874          0    1    1    1    0    0    0    0   \n",
       "2           0         0.223971          0    1    1    1    0    0    0    0   \n",
       "3           0         0.239874          0    1    1    1    0    0    0    0   \n",
       "4           1         0.824168          1    1    1    1    1    1    1    1   \n",
       "\n",
       "   0.7  0.8  0.9  final_predicted  \n",
       "0    0    0    0                0  \n",
       "1    0    0    0                0  \n",
       "2    0    0    0                0  \n",
       "3    0    0    0                0  \n",
       "4    1    1    0                1  "
      ]
     },
     "execution_count": 75,
     "metadata": {},
     "output_type": "execute_result"
    }
   ],
   "source": [
    "y_train_pred_final['final_predicted'] = y_train_pred_final.Conversion_Prob.map( lambda x: 1 if x > 0.35 else 0)\n",
    "\n",
    "y_train_pred_final.head()"
   ]
  },
  {
   "cell_type": "code",
   "execution_count": 76,
   "metadata": {},
   "outputs": [
    {
     "data": {
      "text/plain": [
       "0.7929891046897205"
      ]
     },
     "execution_count": 76,
     "metadata": {},
     "output_type": "execute_result"
    }
   ],
   "source": [
    "# Let's check the overall accuracy.\n",
    "metrics.accuracy_score(y_train_pred_final.Conversion, y_train_pred_final.final_predicted)"
   ]
  },
  {
   "cell_type": "code",
   "execution_count": 77,
   "metadata": {},
   "outputs": [
    {
     "data": {
      "text/plain": [
       "array([[3078,  861],\n",
       "       [ 450, 1944]])"
      ]
     },
     "execution_count": 77,
     "metadata": {},
     "output_type": "execute_result"
    }
   ],
   "source": [
    "confusion2 = metrics.confusion_matrix(y_train_pred_final.Conversion, y_train_pred_final.final_predicted )\n",
    "confusion2"
   ]
  },
  {
   "cell_type": "code",
   "execution_count": 78,
   "metadata": {},
   "outputs": [],
   "source": [
    "TP = confusion2[1,1] # true positive \n",
    "TN = confusion2[0,0] # true negatives\n",
    "FP = confusion2[0,1] # false positives\n",
    "FN = confusion2[1,0] # false negatives"
   ]
  },
  {
   "cell_type": "code",
   "execution_count": 79,
   "metadata": {},
   "outputs": [
    {
     "data": {
      "text/plain": [
       "0.8120300751879699"
      ]
     },
     "execution_count": 79,
     "metadata": {},
     "output_type": "execute_result"
    }
   ],
   "source": [
    "# Let's see the sensitivity of our logistic regression model\n",
    "TP / float(TP+FN)"
   ]
  },
  {
   "cell_type": "code",
   "execution_count": 80,
   "metadata": {},
   "outputs": [
    {
     "data": {
      "text/plain": [
       "0.7814166031987814"
      ]
     },
     "execution_count": 80,
     "metadata": {},
     "output_type": "execute_result"
    }
   ],
   "source": [
    "# Let us calculate specificity\n",
    "TN / float(TN+FP)"
   ]
  },
  {
   "cell_type": "code",
   "execution_count": 81,
   "metadata": {},
   "outputs": [
    {
     "name": "stdout",
     "output_type": "stream",
     "text": [
      "0.21858339680121858\n"
     ]
    }
   ],
   "source": [
    "# Calculate false postive rate - predicting churn when customer does not have churned\n",
    "print(FP/ float(TN+FP))"
   ]
  },
  {
   "cell_type": "code",
   "execution_count": 82,
   "metadata": {},
   "outputs": [
    {
     "name": "stdout",
     "output_type": "stream",
     "text": [
      "0.6930481283422459\n"
     ]
    }
   ],
   "source": [
    "# Positive predictive value \n",
    "print (TP / float(TP+FP))"
   ]
  },
  {
   "cell_type": "code",
   "execution_count": 83,
   "metadata": {},
   "outputs": [
    {
     "name": "stdout",
     "output_type": "stream",
     "text": [
      "0.8724489795918368\n"
     ]
    }
   ],
   "source": [
    "# Negative predictive value\n",
    "print (TN / float(TN+ FN))"
   ]
  },
  {
   "cell_type": "markdown",
   "metadata": {},
   "source": [
    "### Step 11: Making predictions on the test set"
   ]
  },
  {
   "cell_type": "code",
   "execution_count": 84,
   "metadata": {},
   "outputs": [
    {
     "data": {
      "text/html": [
       "<div>\n",
       "<style scoped>\n",
       "    .dataframe tbody tr th:only-of-type {\n",
       "        vertical-align: middle;\n",
       "    }\n",
       "\n",
       "    .dataframe tbody tr th {\n",
       "        vertical-align: top;\n",
       "    }\n",
       "\n",
       "    .dataframe thead th {\n",
       "        text-align: right;\n",
       "    }\n",
       "</style>\n",
       "<table border=\"1\" class=\"dataframe\">\n",
       "  <thead>\n",
       "    <tr style=\"text-align: right;\">\n",
       "      <th></th>\n",
       "      <th>Total Time Spent on Website</th>\n",
       "      <th>Lead Origin_Landing Page Submission</th>\n",
       "      <th>Lead Origin_Lead Add Form</th>\n",
       "      <th>Lead Origin_Lead Import</th>\n",
       "      <th>Lead Source_Olark Chat</th>\n",
       "      <th>Lead Source_Welingak Website</th>\n",
       "      <th>Last Activity_Email Bounced</th>\n",
       "      <th>Last Activity_Email Opened</th>\n",
       "      <th>Last Activity_Email Received</th>\n",
       "      <th>Last Activity_Had a Phone Conversation</th>\n",
       "      <th>Last Activity_Olark Chat Conversation</th>\n",
       "      <th>Specialization_Others</th>\n",
       "      <th>Last Notable Activity_Had a Phone Conversation</th>\n",
       "      <th>Last Notable Activity_SMS Sent</th>\n",
       "      <th>Last Notable Activity_Unreachable</th>\n",
       "    </tr>\n",
       "  </thead>\n",
       "  <tbody>\n",
       "    <tr>\n",
       "      <th>4462</th>\n",
       "      <td>-0.878510</td>\n",
       "      <td>0</td>\n",
       "      <td>0</td>\n",
       "      <td>0</td>\n",
       "      <td>1</td>\n",
       "      <td>0</td>\n",
       "      <td>0</td>\n",
       "      <td>0</td>\n",
       "      <td>0</td>\n",
       "      <td>0</td>\n",
       "      <td>0</td>\n",
       "      <td>0</td>\n",
       "      <td>0</td>\n",
       "      <td>1</td>\n",
       "      <td>0</td>\n",
       "    </tr>\n",
       "    <tr>\n",
       "      <th>5243</th>\n",
       "      <td>-0.582031</td>\n",
       "      <td>0</td>\n",
       "      <td>0</td>\n",
       "      <td>0</td>\n",
       "      <td>0</td>\n",
       "      <td>0</td>\n",
       "      <td>0</td>\n",
       "      <td>0</td>\n",
       "      <td>0</td>\n",
       "      <td>0</td>\n",
       "      <td>0</td>\n",
       "      <td>1</td>\n",
       "      <td>0</td>\n",
       "      <td>0</td>\n",
       "      <td>0</td>\n",
       "    </tr>\n",
       "    <tr>\n",
       "      <th>4597</th>\n",
       "      <td>-0.086672</td>\n",
       "      <td>1</td>\n",
       "      <td>0</td>\n",
       "      <td>0</td>\n",
       "      <td>0</td>\n",
       "      <td>0</td>\n",
       "      <td>0</td>\n",
       "      <td>1</td>\n",
       "      <td>0</td>\n",
       "      <td>0</td>\n",
       "      <td>0</td>\n",
       "      <td>0</td>\n",
       "      <td>0</td>\n",
       "      <td>0</td>\n",
       "      <td>0</td>\n",
       "    </tr>\n",
       "    <tr>\n",
       "      <th>4680</th>\n",
       "      <td>-0.878510</td>\n",
       "      <td>0</td>\n",
       "      <td>1</td>\n",
       "      <td>0</td>\n",
       "      <td>0</td>\n",
       "      <td>1</td>\n",
       "      <td>0</td>\n",
       "      <td>0</td>\n",
       "      <td>0</td>\n",
       "      <td>0</td>\n",
       "      <td>0</td>\n",
       "      <td>1</td>\n",
       "      <td>0</td>\n",
       "      <td>1</td>\n",
       "      <td>0</td>\n",
       "    </tr>\n",
       "    <tr>\n",
       "      <th>5355</th>\n",
       "      <td>-0.878510</td>\n",
       "      <td>0</td>\n",
       "      <td>0</td>\n",
       "      <td>0</td>\n",
       "      <td>1</td>\n",
       "      <td>0</td>\n",
       "      <td>0</td>\n",
       "      <td>1</td>\n",
       "      <td>0</td>\n",
       "      <td>0</td>\n",
       "      <td>0</td>\n",
       "      <td>1</td>\n",
       "      <td>0</td>\n",
       "      <td>0</td>\n",
       "      <td>0</td>\n",
       "    </tr>\n",
       "  </tbody>\n",
       "</table>\n",
       "</div>"
      ],
      "text/plain": [
       "      Total Time Spent on Website  Lead Origin_Landing Page Submission  \\\n",
       "4462                    -0.878510                                    0   \n",
       "5243                    -0.582031                                    0   \n",
       "4597                    -0.086672                                    1   \n",
       "4680                    -0.878510                                    0   \n",
       "5355                    -0.878510                                    0   \n",
       "\n",
       "      Lead Origin_Lead Add Form  Lead Origin_Lead Import  \\\n",
       "4462                          0                        0   \n",
       "5243                          0                        0   \n",
       "4597                          0                        0   \n",
       "4680                          1                        0   \n",
       "5355                          0                        0   \n",
       "\n",
       "      Lead Source_Olark Chat  Lead Source_Welingak Website  \\\n",
       "4462                       1                             0   \n",
       "5243                       0                             0   \n",
       "4597                       0                             0   \n",
       "4680                       0                             1   \n",
       "5355                       1                             0   \n",
       "\n",
       "      Last Activity_Email Bounced  Last Activity_Email Opened  \\\n",
       "4462                            0                           0   \n",
       "5243                            0                           0   \n",
       "4597                            0                           1   \n",
       "4680                            0                           0   \n",
       "5355                            0                           1   \n",
       "\n",
       "      Last Activity_Email Received  Last Activity_Had a Phone Conversation  \\\n",
       "4462                             0                                       0   \n",
       "5243                             0                                       0   \n",
       "4597                             0                                       0   \n",
       "4680                             0                                       0   \n",
       "5355                             0                                       0   \n",
       "\n",
       "      Last Activity_Olark Chat Conversation  Specialization_Others  \\\n",
       "4462                                      0                      0   \n",
       "5243                                      0                      1   \n",
       "4597                                      0                      0   \n",
       "4680                                      0                      1   \n",
       "5355                                      0                      1   \n",
       "\n",
       "      Last Notable Activity_Had a Phone Conversation  \\\n",
       "4462                                               0   \n",
       "5243                                               0   \n",
       "4597                                               0   \n",
       "4680                                               0   \n",
       "5355                                               0   \n",
       "\n",
       "      Last Notable Activity_SMS Sent  Last Notable Activity_Unreachable  \n",
       "4462                               1                                  0  \n",
       "5243                               0                                  0  \n",
       "4597                               0                                  0  \n",
       "4680                               1                                  0  \n",
       "5355                               0                                  0  "
      ]
     },
     "execution_count": 84,
     "metadata": {},
     "output_type": "execute_result"
    }
   ],
   "source": [
    "X_test[['TotalVisits', 'Total Time Spent on Website', \n",
    "         'Page Views Per Visit', \n",
    "         'A free copy of Mastering The Interview']] = scaler.transform(X_test[[\n",
    "                                                    'TotalVisits', \n",
    "                                                    'Total Time Spent on Website', \n",
    "                                                    'Page Views Per Visit', \n",
    "                                                    'A free copy of Mastering The Interview']])\n",
    "\n",
    "X_test = X_test[col]\n",
    "X_test.head()"
   ]
  },
  {
   "cell_type": "code",
   "execution_count": 85,
   "metadata": {},
   "outputs": [],
   "source": [
    "X_test_sm = sm.add_constant(X_test)"
   ]
  },
  {
   "cell_type": "markdown",
   "metadata": {},
   "source": [
    "Making predictions on the test set"
   ]
  },
  {
   "cell_type": "code",
   "execution_count": 86,
   "metadata": {},
   "outputs": [],
   "source": [
    "X_test_sm_1 = X_test_sm.drop(['Last Activity_Email Received'], axis = 1)\n",
    "X_test_sm_2 = X_test_sm_1.drop(['Last Notable Activity_Had a Phone Conversation'], axis = 1)\n",
    "y_test_pred = res.predict(X_test_sm_2)"
   ]
  },
  {
   "cell_type": "code",
   "execution_count": 87,
   "metadata": {},
   "outputs": [
    {
     "data": {
      "text/plain": [
       "4462    0.833991\n",
       "5243    0.069637\n",
       "4597    0.221173\n",
       "4680    0.996239\n",
       "5355    0.239874\n",
       "7071    0.099473\n",
       "6314    0.978973\n",
       "2688    0.996239\n",
       "6228    0.153168\n",
       "3014    0.088799\n",
       "dtype: float64"
      ]
     },
     "execution_count": 87,
     "metadata": {},
     "output_type": "execute_result"
    }
   ],
   "source": [
    "y_test_pred[:10]"
   ]
  },
  {
   "cell_type": "code",
   "execution_count": 88,
   "metadata": {},
   "outputs": [],
   "source": [
    "# Converting y_pred to a dataframe which is an array\n",
    "y_pred_1 = pd.DataFrame(y_test_pred)"
   ]
  },
  {
   "cell_type": "code",
   "execution_count": 89,
   "metadata": {},
   "outputs": [
    {
     "data": {
      "text/html": [
       "<div>\n",
       "<style scoped>\n",
       "    .dataframe tbody tr th:only-of-type {\n",
       "        vertical-align: middle;\n",
       "    }\n",
       "\n",
       "    .dataframe tbody tr th {\n",
       "        vertical-align: top;\n",
       "    }\n",
       "\n",
       "    .dataframe thead th {\n",
       "        text-align: right;\n",
       "    }\n",
       "</style>\n",
       "<table border=\"1\" class=\"dataframe\">\n",
       "  <thead>\n",
       "    <tr style=\"text-align: right;\">\n",
       "      <th></th>\n",
       "      <th>0</th>\n",
       "    </tr>\n",
       "  </thead>\n",
       "  <tbody>\n",
       "    <tr>\n",
       "      <th>4462</th>\n",
       "      <td>0.833991</td>\n",
       "    </tr>\n",
       "    <tr>\n",
       "      <th>5243</th>\n",
       "      <td>0.069637</td>\n",
       "    </tr>\n",
       "    <tr>\n",
       "      <th>4597</th>\n",
       "      <td>0.221173</td>\n",
       "    </tr>\n",
       "    <tr>\n",
       "      <th>4680</th>\n",
       "      <td>0.996239</td>\n",
       "    </tr>\n",
       "    <tr>\n",
       "      <th>5355</th>\n",
       "      <td>0.239874</td>\n",
       "    </tr>\n",
       "  </tbody>\n",
       "</table>\n",
       "</div>"
      ],
      "text/plain": [
       "             0\n",
       "4462  0.833991\n",
       "5243  0.069637\n",
       "4597  0.221173\n",
       "4680  0.996239\n",
       "5355  0.239874"
      ]
     },
     "execution_count": 89,
     "metadata": {},
     "output_type": "execute_result"
    }
   ],
   "source": [
    "y_pred_1.head()"
   ]
  },
  {
   "cell_type": "code",
   "execution_count": 90,
   "metadata": {},
   "outputs": [],
   "source": [
    "# Converting y_test to dataframe\n",
    "y_test_df = pd.DataFrame(y_test)"
   ]
  },
  {
   "cell_type": "code",
   "execution_count": 91,
   "metadata": {},
   "outputs": [],
   "source": [
    "# Removing index for both dataframes to append them side by side \n",
    "y_pred_1.reset_index(drop=True, inplace=True)\n",
    "y_test_df.reset_index(drop=True, inplace=True)"
   ]
  },
  {
   "cell_type": "code",
   "execution_count": 92,
   "metadata": {},
   "outputs": [],
   "source": [
    "# Appending y_test_df and y_pred_1\n",
    "y_pred_final = pd.concat([y_test_df, y_pred_1],axis=1)"
   ]
  },
  {
   "cell_type": "code",
   "execution_count": 93,
   "metadata": {},
   "outputs": [
    {
     "data": {
      "text/html": [
       "<div>\n",
       "<style scoped>\n",
       "    .dataframe tbody tr th:only-of-type {\n",
       "        vertical-align: middle;\n",
       "    }\n",
       "\n",
       "    .dataframe tbody tr th {\n",
       "        vertical-align: top;\n",
       "    }\n",
       "\n",
       "    .dataframe thead th {\n",
       "        text-align: right;\n",
       "    }\n",
       "</style>\n",
       "<table border=\"1\" class=\"dataframe\">\n",
       "  <thead>\n",
       "    <tr style=\"text-align: right;\">\n",
       "      <th></th>\n",
       "      <th>Converted</th>\n",
       "      <th>0</th>\n",
       "    </tr>\n",
       "  </thead>\n",
       "  <tbody>\n",
       "    <tr>\n",
       "      <th>0</th>\n",
       "      <td>1</td>\n",
       "      <td>0.833991</td>\n",
       "    </tr>\n",
       "    <tr>\n",
       "      <th>1</th>\n",
       "      <td>0</td>\n",
       "      <td>0.069637</td>\n",
       "    </tr>\n",
       "    <tr>\n",
       "      <th>2</th>\n",
       "      <td>1</td>\n",
       "      <td>0.221173</td>\n",
       "    </tr>\n",
       "    <tr>\n",
       "      <th>3</th>\n",
       "      <td>1</td>\n",
       "      <td>0.996239</td>\n",
       "    </tr>\n",
       "    <tr>\n",
       "      <th>4</th>\n",
       "      <td>0</td>\n",
       "      <td>0.239874</td>\n",
       "    </tr>\n",
       "  </tbody>\n",
       "</table>\n",
       "</div>"
      ],
      "text/plain": [
       "   Converted         0\n",
       "0          1  0.833991\n",
       "1          0  0.069637\n",
       "2          1  0.221173\n",
       "3          1  0.996239\n",
       "4          0  0.239874"
      ]
     },
     "execution_count": 93,
     "metadata": {},
     "output_type": "execute_result"
    }
   ],
   "source": [
    "y_pred_final.head()"
   ]
  },
  {
   "cell_type": "code",
   "execution_count": 94,
   "metadata": {},
   "outputs": [],
   "source": [
    "# Renaming the column \n",
    "y_pred_final= y_pred_final.rename(columns={ 0 : 'Conversion_Prob'})"
   ]
  },
  {
   "cell_type": "code",
   "execution_count": 95,
   "metadata": {},
   "outputs": [],
   "source": [
    "# Rearranging the columns\n",
    "y_pred_final = y_pred_final.reindex_axis(['Converted','Conversion_Prob'], axis=1)"
   ]
  },
  {
   "cell_type": "code",
   "execution_count": 96,
   "metadata": {},
   "outputs": [
    {
     "data": {
      "text/html": [
       "<div>\n",
       "<style scoped>\n",
       "    .dataframe tbody tr th:only-of-type {\n",
       "        vertical-align: middle;\n",
       "    }\n",
       "\n",
       "    .dataframe tbody tr th {\n",
       "        vertical-align: top;\n",
       "    }\n",
       "\n",
       "    .dataframe thead th {\n",
       "        text-align: right;\n",
       "    }\n",
       "</style>\n",
       "<table border=\"1\" class=\"dataframe\">\n",
       "  <thead>\n",
       "    <tr style=\"text-align: right;\">\n",
       "      <th></th>\n",
       "      <th>Converted</th>\n",
       "      <th>Conversion_Prob</th>\n",
       "    </tr>\n",
       "  </thead>\n",
       "  <tbody>\n",
       "    <tr>\n",
       "      <th>0</th>\n",
       "      <td>1</td>\n",
       "      <td>0.833991</td>\n",
       "    </tr>\n",
       "    <tr>\n",
       "      <th>1</th>\n",
       "      <td>0</td>\n",
       "      <td>0.069637</td>\n",
       "    </tr>\n",
       "    <tr>\n",
       "      <th>2</th>\n",
       "      <td>1</td>\n",
       "      <td>0.221173</td>\n",
       "    </tr>\n",
       "    <tr>\n",
       "      <th>3</th>\n",
       "      <td>1</td>\n",
       "      <td>0.996239</td>\n",
       "    </tr>\n",
       "    <tr>\n",
       "      <th>4</th>\n",
       "      <td>0</td>\n",
       "      <td>0.239874</td>\n",
       "    </tr>\n",
       "  </tbody>\n",
       "</table>\n",
       "</div>"
      ],
      "text/plain": [
       "   Converted  Conversion_Prob\n",
       "0          1         0.833991\n",
       "1          0         0.069637\n",
       "2          1         0.221173\n",
       "3          1         0.996239\n",
       "4          0         0.239874"
      ]
     },
     "execution_count": 96,
     "metadata": {},
     "output_type": "execute_result"
    }
   ],
   "source": [
    "# Let's see the head of y_pred_final\n",
    "y_pred_final.head()"
   ]
  },
  {
   "cell_type": "code",
   "execution_count": 98,
   "metadata": {},
   "outputs": [],
   "source": [
    "y_pred_final['final_predicted'] = y_pred_final.Conversion_Prob.map(lambda x: 1 if x > 0.35 else 0)"
   ]
  },
  {
   "cell_type": "code",
   "execution_count": 99,
   "metadata": {},
   "outputs": [
    {
     "data": {
      "text/html": [
       "<div>\n",
       "<style scoped>\n",
       "    .dataframe tbody tr th:only-of-type {\n",
       "        vertical-align: middle;\n",
       "    }\n",
       "\n",
       "    .dataframe tbody tr th {\n",
       "        vertical-align: top;\n",
       "    }\n",
       "\n",
       "    .dataframe thead th {\n",
       "        text-align: right;\n",
       "    }\n",
       "</style>\n",
       "<table border=\"1\" class=\"dataframe\">\n",
       "  <thead>\n",
       "    <tr style=\"text-align: right;\">\n",
       "      <th></th>\n",
       "      <th>Converted</th>\n",
       "      <th>Conversion_Prob</th>\n",
       "      <th>final_predicted</th>\n",
       "    </tr>\n",
       "  </thead>\n",
       "  <tbody>\n",
       "    <tr>\n",
       "      <th>0</th>\n",
       "      <td>1</td>\n",
       "      <td>0.833991</td>\n",
       "      <td>1</td>\n",
       "    </tr>\n",
       "    <tr>\n",
       "      <th>1</th>\n",
       "      <td>0</td>\n",
       "      <td>0.069637</td>\n",
       "      <td>0</td>\n",
       "    </tr>\n",
       "    <tr>\n",
       "      <th>2</th>\n",
       "      <td>1</td>\n",
       "      <td>0.221173</td>\n",
       "      <td>0</td>\n",
       "    </tr>\n",
       "    <tr>\n",
       "      <th>3</th>\n",
       "      <td>1</td>\n",
       "      <td>0.996239</td>\n",
       "      <td>1</td>\n",
       "    </tr>\n",
       "    <tr>\n",
       "      <th>4</th>\n",
       "      <td>0</td>\n",
       "      <td>0.239874</td>\n",
       "      <td>0</td>\n",
       "    </tr>\n",
       "  </tbody>\n",
       "</table>\n",
       "</div>"
      ],
      "text/plain": [
       "   Converted  Conversion_Prob  final_predicted\n",
       "0          1         0.833991                1\n",
       "1          0         0.069637                0\n",
       "2          1         0.221173                0\n",
       "3          1         0.996239                1\n",
       "4          0         0.239874                0"
      ]
     },
     "execution_count": 99,
     "metadata": {},
     "output_type": "execute_result"
    }
   ],
   "source": [
    "y_pred_final.head()"
   ]
  },
  {
   "cell_type": "code",
   "execution_count": 101,
   "metadata": {},
   "outputs": [
    {
     "data": {
      "text/plain": [
       "0.7889502762430939"
      ]
     },
     "execution_count": 101,
     "metadata": {},
     "output_type": "execute_result"
    }
   ],
   "source": [
    "# Let's check the overall accuracy.\n",
    "metrics.accuracy_score(y_pred_final.Converted, y_pred_final.final_predicted)"
   ]
  },
  {
   "cell_type": "code",
   "execution_count": 102,
   "metadata": {},
   "outputs": [
    {
     "data": {
      "text/plain": [
       "array([[1316,  365],\n",
       "       [ 208,  826]])"
      ]
     },
     "execution_count": 102,
     "metadata": {},
     "output_type": "execute_result"
    }
   ],
   "source": [
    "confusion2 = metrics.confusion_matrix(y_pred_final.Converted, y_pred_final.final_predicted )\n",
    "confusion2"
   ]
  },
  {
   "cell_type": "code",
   "execution_count": 103,
   "metadata": {},
   "outputs": [],
   "source": [
    "TP = confusion2[1,1] # true positive \n",
    "TN = confusion2[0,0] # true negatives\n",
    "FP = confusion2[0,1] # false positives\n",
    "FN = confusion2[1,0] # false negatives"
   ]
  },
  {
   "cell_type": "code",
   "execution_count": 104,
   "metadata": {},
   "outputs": [
    {
     "data": {
      "text/plain": [
       "0.7988394584139265"
      ]
     },
     "execution_count": 104,
     "metadata": {},
     "output_type": "execute_result"
    }
   ],
   "source": [
    "# Let's see the sensitivity of our logistic regression model\n",
    "TP / float(TP+FN)"
   ]
  },
  {
   "cell_type": "code",
   "execution_count": 105,
   "metadata": {},
   "outputs": [
    {
     "data": {
      "text/plain": [
       "0.7828673408685306"
      ]
     },
     "execution_count": 105,
     "metadata": {},
     "output_type": "execute_result"
    }
   ],
   "source": [
    "# Let us calculate specificity\n",
    "TN / float(TN+FP)"
   ]
  },
  {
   "cell_type": "code",
   "execution_count": null,
   "metadata": {},
   "outputs": [],
   "source": []
  }
 ],
 "metadata": {
  "kernelspec": {
   "display_name": "Python 3",
   "language": "python",
   "name": "python3"
  },
  "language_info": {
   "codemirror_mode": {
    "name": "ipython",
    "version": 3
   },
   "file_extension": ".py",
   "mimetype": "text/x-python",
   "name": "python",
   "nbconvert_exporter": "python",
   "pygments_lexer": "ipython3",
   "version": "3.7.3"
  }
 },
 "nbformat": 4,
 "nbformat_minor": 2
}
